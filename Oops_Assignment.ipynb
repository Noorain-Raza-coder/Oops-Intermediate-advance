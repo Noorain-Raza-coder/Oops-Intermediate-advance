{
 "cells": [
  {
   "cell_type": "markdown",
   "id": "3fb385df",
   "metadata": {},
   "source": [
    "# Oops Problems"
   ]
  },
  {
   "cell_type": "markdown",
   "id": "0b24f10a",
   "metadata": {},
   "source": [
    "## Constructor : "
   ]
  },
  {
   "cell_type": "markdown",
   "id": "118d96a0",
   "metadata": {},
   "source": [
    "### 1. What is a constructor in Python? Explain its purpose and usage."
   ]
  },
  {
   "cell_type": "markdown",
   "id": "38b94e7e",
   "metadata": {},
   "source": [
    "### Ans 1) \n",
    "\n",
    "- Constructor : A constructor in python is a special method/function that gets called when an object of a class is created. \n",
    "- Purpose and usage : The purpose of a constructor is to initialise/assign the values of class's attributes."
   ]
  },
  {
   "cell_type": "markdown",
   "id": "c007bc02",
   "metadata": {},
   "source": [
    "### 2. Differentiate between a parameterless constructor and a parameterized constructor in Python."
   ]
  },
  {
   "cell_type": "markdown",
   "id": "b616d5a2",
   "metadata": {},
   "source": [
    "### Ans 2) \n",
    "\n",
    "- Parameterless Constructor : It is a type of constructor that doesn't take any value while creating the object of the class. And variable is initialized with some fixed value.\n",
    "- Purpose and usage : It is also a type of constructor that takes any value of the parameter while creating the object of the class. And variable is initialized with that paremeter value.\n",
    "- Following are the ex- of both type of constructor:"
   ]
  },
  {
   "cell_type": "code",
   "execution_count": 1,
   "id": "ff331594",
   "metadata": {},
   "outputs": [],
   "source": [
    "# Example of parameterless constructor :\n",
    "class paramerterlessEx :\n",
    "    def __init__(self):\n",
    "        self.name = 'Noorain'\n",
    "        \n",
    "        \n",
    "# Example of parameterized constructor :\n",
    "class parameterizedEx:\n",
    "    def __init__(self, name):\n",
    "        self.name = name"
   ]
  },
  {
   "cell_type": "markdown",
   "id": "356486a6",
   "metadata": {},
   "source": [
    "### 3. How do you define a constructor in a Python class? Provide an example."
   ]
  },
  {
   "cell_type": "markdown",
   "id": "d560417d",
   "metadata": {},
   "source": [
    "### Ans 3) \n",
    "\n",
    "- Note: as python constructor is a method so it is defined in same way as python functions are defined.\n",
    "- Use a keyword `def`\n",
    "- After that write function name `__init__`\n",
    "- In pair of parentheses, pass first paramete `self`.\n",
    "- If it is parameterized, then other parameters can be passed else don't need to pass.\n",
    "- End with colon `:`"
   ]
  },
  {
   "cell_type": "code",
   "execution_count": 2,
   "id": "e6e37dc5",
   "metadata": {},
   "outputs": [],
   "source": [
    "class define_constructor:\n",
    "    def __init__(self):\n",
    "        '''Initialise values of variables..'''"
   ]
  },
  {
   "cell_type": "markdown",
   "id": "6f8eb97b",
   "metadata": {},
   "source": [
    "### 4. Explain the `__init__` method in Python and its role in constructors."
   ]
  },
  {
   "cell_type": "markdown",
   "id": "6e79dc16",
   "metadata": {},
   "source": [
    "### Ans 4) \n",
    "\n",
    "- __init__ is a special method in python that is used to initialize the values of variables of a class."
   ]
  },
  {
   "cell_type": "markdown",
   "id": "9485e160",
   "metadata": {},
   "source": [
    "### 5. In a class named `Person`, create a constructor that initializes the `name` and `age` attributes. Provide an example of creating an object of this class."
   ]
  },
  {
   "cell_type": "markdown",
   "id": "8eb9f17d",
   "metadata": {},
   "source": [
    "### Ans 5) \n",
    "\n",
    "### Steps :\n",
    "- Create a class `Person`.\n",
    "- Create variables name and age inside init method.\n",
    "- Take values of name and age while creating the object of Person class and assign the to values to variables."
   ]
  },
  {
   "cell_type": "code",
   "execution_count": 3,
   "id": "1d8165f8",
   "metadata": {},
   "outputs": [],
   "source": [
    "# creating a class person### Ans 4) \n",
    "class Person :\n",
    "    def __init__(self,name,age):\n",
    "        self.name = name\n",
    "        self.age = age"
   ]
  },
  {
   "cell_type": "code",
   "execution_count": 5,
   "id": "9a1785d9",
   "metadata": {},
   "outputs": [
    {
     "data": {
      "text/plain": [
       "('Noorain Raza', 23)"
      ]
     },
     "execution_count": 5,
     "metadata": {},
     "output_type": "execute_result"
    }
   ],
   "source": [
    "# creating an object the person class\n",
    "noorain = Person('Noorain Raza', 23)\n",
    "\n",
    "# Display the name and age\n",
    "noorain.name , noorain.age"
   ]
  },
  {
   "cell_type": "markdown",
   "id": "60d17f56",
   "metadata": {},
   "source": [
    "### 6. How can you call a constructor explicitly in Python? Give an example."
   ]
  },
  {
   "cell_type": "markdown",
   "id": "8f82dd0b",
   "metadata": {},
   "source": [
    "### Ans 6) \n",
    "\n",
    "- I can call a constructor explicitly in python by using `super()` method of inheritance.\n",
    "- Lets say there are two classes parent and a child class.\n",
    "- We are trying to inherit the properties of parent class inside child class.\n",
    "- When i create the object then i only can initialise the values of child class.\n",
    "- To initialise the values of parent class at the same time, lets call the super() method with init method explicitly.\n",
    "- Super method will initialise the values of superclass (parent class) with passed values.\n",
    "- In this way a constructor can be called explicityly in python."
   ]
  },
  {
   "cell_type": "code",
   "execution_count": 6,
   "id": "ac8d31d3",
   "metadata": {},
   "outputs": [],
   "source": [
    "class parent :\n",
    "    def __init__(self, a,b):\n",
    "        self.a = a\n",
    "        self.b = b\n",
    "        \n",
    "class child(parent) :\n",
    "    def __init__(self,a,b,x,y):\n",
    "        super().__init__(a,b)\n",
    "        self.x = x\n",
    "        self.y = y"
   ]
  },
  {
   "cell_type": "code",
   "execution_count": 7,
   "id": "0bb64824",
   "metadata": {},
   "outputs": [],
   "source": [
    "obj1 = child(1,2,3,4)"
   ]
  },
  {
   "cell_type": "code",
   "execution_count": 8,
   "id": "48969aaf",
   "metadata": {},
   "outputs": [
    {
     "data": {
      "text/plain": [
       "1"
      ]
     },
     "execution_count": 8,
     "metadata": {},
     "output_type": "execute_result"
    }
   ],
   "source": [
    "obj1.a"
   ]
  },
  {
   "cell_type": "markdown",
   "id": "4cee1f58",
   "metadata": {},
   "source": [
    "### 7. What is the significance of the `self` parameter in Python constructors? Explain with an example."
   ]
  },
  {
   "cell_type": "markdown",
   "id": "80fef54b",
   "metadata": {},
   "source": [
    "### Ans 7) \n",
    "\n",
    "- `self`: Self paremeter is a reference of current object of the class.\n",
    "- self parameter is used to access the attributes and methods of the class.\n",
    "- In below code :\n",
    "- 1) init method initialise the value of city.\n",
    "- 2) in your_city method , variable `city` is accessed by `self` paremeter.\n",
    "- When i create the object of a class then automatically the reference of that object is passed to `self` paremeter."
   ]
  },
  {
   "cell_type": "code",
   "execution_count": 9,
   "id": "d44181ce",
   "metadata": {},
   "outputs": [],
   "source": [
    "class self_parameter :\n",
    "    def __init__(self , city):\n",
    "        self.city = city\n",
    "        \n",
    "    def your_city(self):\n",
    "        return \"Your city is \" + self.city"
   ]
  },
  {
   "cell_type": "code",
   "execution_count": 10,
   "id": "4ec9bed2",
   "metadata": {},
   "outputs": [],
   "source": [
    "obj2 = self_parameter('Bareilly')"
   ]
  },
  {
   "cell_type": "code",
   "execution_count": 11,
   "id": "117e82d5",
   "metadata": {},
   "outputs": [
    {
     "data": {
      "text/plain": [
       "'Your city is Bareilly'"
      ]
     },
     "execution_count": 11,
     "metadata": {},
     "output_type": "execute_result"
    }
   ],
   "source": [
    "obj2.your_city()"
   ]
  },
  {
   "cell_type": "markdown",
   "id": "cc390836",
   "metadata": {},
   "source": [
    "### 8. Discuss the concept of default constructors in Python. When are they used?"
   ]
  },
  {
   "cell_type": "markdown",
   "id": "643c5d99",
   "metadata": {},
   "source": [
    "### Ans 8) \n",
    "\n",
    "- Default constructors : It is a type of constructors which takes no argument.\n",
    "- They are used to initialise the attribues with default values.\n",
    "- following is an ex - "
   ]
  },
  {
   "cell_type": "code",
   "execution_count": 21,
   "id": "5781e04e",
   "metadata": {},
   "outputs": [],
   "source": [
    "class default_constructor :\n",
    "    def __init__(self):\n",
    "        self.course = 'Data Science'\n",
    "        \n",
    "# Whenever the object of this class is created, the attribute 'course' is automatically initialised with 'Data Science' value."
   ]
  },
  {
   "cell_type": "markdown",
   "id": "0fa80b23",
   "metadata": {},
   "source": [
    "### 9. Create a Python class called `Rectangle` with a constructor that initializes the `width` and `height` attributes. Provide a method to calculate the area of the rectangle."
   ]
  },
  {
   "cell_type": "markdown",
   "id": "54d60b49",
   "metadata": {},
   "source": [
    "### Ans 9) \n",
    "\n",
    "### Steps:\n",
    "- Create `Rectangle` class.\n",
    "- Define `__init__` method to take the values of width and height and assign them to attributes.\n",
    "- Define `rectangle_area` method to calculate the area of rectangle for given values of height and width.\n"
   ]
  },
  {
   "cell_type": "code",
   "execution_count": 18,
   "id": "d3f65584",
   "metadata": {},
   "outputs": [],
   "source": [
    "class Rectangle :\n",
    "    def __init__(self, width , height):\n",
    "        self.width = width\n",
    "        self.height = height\n",
    "        \n",
    "    ## method to calculate the area of that rectangle\n",
    "    def rectangle_area(self):\n",
    "        return \"Area of rectangle is \" + str(self.width*self.height)"
   ]
  },
  {
   "cell_type": "code",
   "execution_count": 19,
   "id": "435f4f89",
   "metadata": {},
   "outputs": [],
   "source": [
    "# creating object for rectangle and passing values of height and width\n",
    "rec = Rectangle(3,6)"
   ]
  },
  {
   "cell_type": "code",
   "execution_count": 20,
   "id": "e3da3d1d",
   "metadata": {},
   "outputs": [
    {
     "data": {
      "text/plain": [
       "'Area of rectangle is 18'"
      ]
     },
     "execution_count": 20,
     "metadata": {},
     "output_type": "execute_result"
    }
   ],
   "source": [
    "# calling a method to calculate the area of the rectangle\n",
    "rec.rectangle_area()"
   ]
  },
  {
   "cell_type": "markdown",
   "id": "ba0162c2",
   "metadata": {},
   "source": [
    "### 10. How can you have multiple constructors in a Python class? Explain with an example."
   ]
  },
  {
   "cell_type": "markdown",
   "id": "60b69be2",
   "metadata": {},
   "source": [
    "### Ans 10) \n",
    "\n",
    "- It is not possible to have multiple constructors in a python class.\n",
    "- If we try to define multiple constructors then only latest one will be considered. Because latest constructor overwrites previous constructors.\n",
    "- In below class i have defined three constructors. But when i created object for this class only last constructor was called that takes three parameters name, age and height."
   ]
  },
  {
   "cell_type": "code",
   "execution_count": 1,
   "id": "a88fb582",
   "metadata": {},
   "outputs": [],
   "source": [
    "class multConstructors :\n",
    "    def __init__(self, name):\n",
    "        self.name = name \n",
    "    def __init__(self,name, age):\n",
    "        self.name = name\n",
    "        self.age = age \n",
    "    def __init__(self,name, age ,height):\n",
    "        self.name = name\n",
    "        self.age = age\n",
    "        aelf.height = height \n",
    "    \n",
    "    "
   ]
  },
  {
   "cell_type": "code",
   "execution_count": 2,
   "id": "628bcc43",
   "metadata": {},
   "outputs": [
    {
     "ename": "TypeError",
     "evalue": "__init__() missing 3 required positional arguments: 'name', 'age', and 'height'",
     "output_type": "error",
     "traceback": [
      "\u001b[1;31m---------------------------------------------------------------------------\u001b[0m",
      "\u001b[1;31mTypeError\u001b[0m                                 Traceback (most recent call last)",
      "Input \u001b[1;32mIn [2]\u001b[0m, in \u001b[0;36m<cell line: 1>\u001b[1;34m()\u001b[0m\n\u001b[1;32m----> 1\u001b[0m in1 \u001b[38;5;241m=\u001b[39m \u001b[43mmultConstructors\u001b[49m\u001b[43m(\u001b[49m\u001b[43m)\u001b[49m\n",
      "\u001b[1;31mTypeError\u001b[0m: __init__() missing 3 required positional arguments: 'name', 'age', and 'height'"
     ]
    }
   ],
   "source": [
    "in1 = multConstructors()\n"
   ]
  },
  {
   "cell_type": "markdown",
   "id": "69b61464",
   "metadata": {},
   "source": [
    "- But we can initialise above ex- parameters in following given way by using `*args`.\n",
    "- Using `*agrs` keyword we can take any number of parameters.\n",
    "- Instead of defining multiple constructors to initialise different variables, we can write conditional statement for parameters and then we can initialise the variables.\n",
    "- Following is an ex- \n",
    "- 1) When only one argument is passed consider it as name.\n",
    "- 2) When 2 arguments are passed, consider first as name and second as age.\n",
    "- 2) When 3 arguments are passed, consider first as name and second as age and third as height."
   ]
  },
  {
   "cell_type": "code",
   "execution_count": 10,
   "id": "626855d7",
   "metadata": {},
   "outputs": [],
   "source": [
    "class multconstructors :\n",
    "    def __init__(self, *args):\n",
    "        if len(args) == 1:\n",
    "            self.name = args[0]\n",
    "            \n",
    "        elif len(args) == 2:\n",
    "            self.name = args[0]\n",
    "            self.age = args[1]\n",
    "            \n",
    "        elif len(args) == 3:\n",
    "            self.name = args[0]\n",
    "            self.age = args[1]\n",
    "            self.height = args[2]"
   ]
  },
  {
   "cell_type": "code",
   "execution_count": 11,
   "id": "fc5def1b",
   "metadata": {},
   "outputs": [],
   "source": [
    "obj1 = multconstructors('NOOR')\n",
    "obj2 = multconstructors('NOOR',23)\n",
    "obj3 = multconstructors('NOOR',23,5.5)\n",
    "\n"
   ]
  },
  {
   "cell_type": "markdown",
   "id": "2fb89533",
   "metadata": {},
   "source": [
    "### 11. What is method overloading, and how is it related to constructors in Python?"
   ]
  },
  {
   "cell_type": "markdown",
   "id": "4f106743",
   "metadata": {},
   "source": [
    "### Ans 11) \n",
    "\n",
    "- When there are two or more than two methods with same name then it is called method overloading.\n",
    "- In this case latest defined method is called.\n",
    "- For ex- if we defined two __init__ method inside a class with different paremeters then only the last __init__ method will be called. \n",
    "- As python doesn't support method overloading."
   ]
  },
  {
   "cell_type": "markdown",
   "id": "91459f4e",
   "metadata": {},
   "source": [
    "### 12. Explain the use of the `super()` function in Python constructors. Provide an example."
   ]
  },
  {
   "cell_type": "markdown",
   "id": "a85d29cb",
   "metadata": {},
   "source": [
    "### Ans 12) \n",
    "\n",
    "- `super()` is a method in inheritance which is used to access and use the properties of `super class` (parent class) in child class.\n",
    "- In python constructors `super()` function can be used to initialise the variables of super class.\n",
    "- In below ex- \n",
    "- 1) There are two classes parent and child class.\n",
    "- 2) child class initialise two parameters name and age.\n",
    "- 3) Then by using super function i initialised name of parent class."
   ]
  },
  {
   "cell_type": "code",
   "execution_count": 12,
   "id": "11c4a651",
   "metadata": {},
   "outputs": [],
   "source": [
    "class parent:\n",
    "    def __init__(self,name):\n",
    "        self.name = name\n",
    "        \n",
    "class child(parent):\n",
    "    def __init__(self,name, age):\n",
    "        super().__init__(name)"
   ]
  },
  {
   "cell_type": "code",
   "execution_count": 14,
   "id": "242d98d4",
   "metadata": {},
   "outputs": [],
   "source": [
    "myname = child('noorain',23)"
   ]
  },
  {
   "cell_type": "markdown",
   "id": "d6bbc588",
   "metadata": {},
   "source": [
    "### 13. Create a class called `Book` with a constructor that initializes the `title`, `author`, and `published_year` ### attributes. Provide a method to display book details."
   ]
  },
  {
   "cell_type": "markdown",
   "id": "ee681a62",
   "metadata": {},
   "source": [
    "### Ans 13) "
   ]
  },
  {
   "cell_type": "code",
   "execution_count": 33,
   "id": "d068f30b",
   "metadata": {},
   "outputs": [],
   "source": [
    "class Book :\n",
    "    def __init__(self, title, author,published_year):\n",
    "        self.title = title\n",
    "        self.author = author\n",
    "        self.published_year = published_year\n",
    "\n",
    "\n",
    "    def display_book_details(self):\n",
    "        print(\"Following are the book details : \")\n",
    "        print(f\"Book Title : {self.title}\\nBook Author : {self.author}\\nPunlished Year : {self.published_year}\")"
   ]
  },
  {
   "cell_type": "code",
   "execution_count": 35,
   "id": "a565a2fa",
   "metadata": {},
   "outputs": [],
   "source": [
    "b1 = Book('Kyu Batay', 'Me',2024)"
   ]
  },
  {
   "cell_type": "code",
   "execution_count": 36,
   "id": "d15c2a4d",
   "metadata": {},
   "outputs": [
    {
     "name": "stdout",
     "output_type": "stream",
     "text": [
      "Following are the book details : \n",
      "Book Title : Kyu Batay\n",
      "Book Author : Me\n",
      "Punlished Year : 2024\n"
     ]
    }
   ],
   "source": [
    "b1.display_book_details()"
   ]
  },
  {
   "cell_type": "markdown",
   "id": "7062f4d4",
   "metadata": {},
   "source": [
    "### 14. Discuss the differences between constructors and regular methods in Python classes."
   ]
  },
  {
   "cell_type": "markdown",
   "id": "32d5fb65",
   "metadata": {},
   "source": [
    "### Ans 14) \n",
    "\n",
    "- Constructors : constructors are special methods in python.\n",
    "- 1) They are used to initialse the attributes of a class.\n",
    "- 2) They are called automatically when an object of the class is created.\n",
    "- 3) They return none.\n",
    "- Regular methods : the methods which are defined to perform specific task.\n",
    "- 1) These methods are not automatically called, we have to call them when needed.\n",
    "- 2) They can return none or specific value."
   ]
  },
  {
   "cell_type": "markdown",
   "id": "b67c64fe",
   "metadata": {},
   "source": [
    "### 15. Explain the role of the `self` parameter in instance variable initialization within a constructor."
   ]
  },
  {
   "cell_type": "markdown",
   "id": "86ac80de",
   "metadata": {},
   "source": [
    "### Ans 15) \n",
    "\n",
    "- Below is an ex- of `self` parameter that initialize the variable within constructor.\n",
    "- When i create an object for the class `self_parameter`\n",
    "- Then `__init__` function automatically get called, which takes two paremeters : `self`(object) and day.\n",
    "- Then inside the init function a variable `today` is initiazed with value of parameter `day` with the help of `self` parameter."
   ]
  },
  {
   "cell_type": "code",
   "execution_count": 15,
   "id": "f5da5676",
   "metadata": {},
   "outputs": [],
   "source": [
    "class self_parameter :\n",
    "    def __init__(self, day):\n",
    "        self.today = day"
   ]
  },
  {
   "cell_type": "code",
   "execution_count": 16,
   "id": "78047d75",
   "metadata": {},
   "outputs": [],
   "source": [
    "ob1 = self_parameter('sunday')"
   ]
  },
  {
   "cell_type": "markdown",
   "id": "0049dbec",
   "metadata": {},
   "source": [
    "### 16. How do you prevent a class from having multiple instances by using constructors in Python? Provide an example."
   ]
  },
  {
   "cell_type": "markdown",
   "id": "627cfa6d",
   "metadata": {},
   "source": [
    "### 17. Create a Python class called `Student` with a constructor that takes a list of subjects as a parameter and initializes the `subjects` attribute."
   ]
  },
  {
   "cell_type": "markdown",
   "id": "59bd9e89",
   "metadata": {},
   "source": [
    "### Ans 17) "
   ]
  },
  {
   "cell_type": "code",
   "execution_count": 37,
   "id": "762e5721",
   "metadata": {},
   "outputs": [],
   "source": [
    "class Student :\n",
    "    def __init__(self,subject_list):\n",
    "        self.subjects = subject_list"
   ]
  },
  {
   "cell_type": "code",
   "execution_count": 39,
   "id": "f978bf6b",
   "metadata": {},
   "outputs": [],
   "source": [
    "noorain = Student(['Data Science','ML','DL','NLP'])"
   ]
  },
  {
   "cell_type": "code",
   "execution_count": 40,
   "id": "e1bff773",
   "metadata": {},
   "outputs": [
    {
     "data": {
      "text/plain": [
       "['Data Science', 'ML', 'DL', 'NLP']"
      ]
     },
     "execution_count": 40,
     "metadata": {},
     "output_type": "execute_result"
    }
   ],
   "source": [
    "noorain.subjects"
   ]
  },
  {
   "cell_type": "markdown",
   "id": "341a5ea1",
   "metadata": {},
   "source": [
    "### 18. What is the purpose of the `__del__` method in Python classes, and how does it relate to constructors?"
   ]
  },
  {
   "cell_type": "markdown",
   "id": "ad7060cd",
   "metadata": {},
   "source": [
    "### Ans 18) \n",
    "\n",
    "1) Purpose :\n",
    "- `__del__` is a special method in python which is used to destroy an object.\n",
    "- closing a file, releasing resources, freeing up memory are done by `__del__` method.\n",
    "- `__del__` is called as destrcutors. Both constructors and destuctors are called automatically.\n",
    "- Constructor is called when an object is created while destructor is called when is object is deleted."
   ]
  },
  {
   "cell_type": "markdown",
   "id": "616b2ca7",
   "metadata": {},
   "source": [
    "### 19. Explain the use of constructor chaining in Python. Provide a practical example."
   ]
  },
  {
   "cell_type": "markdown",
   "id": "b0f0cf0e",
   "metadata": {},
   "source": [
    "### Ans 19) \n",
    "\n",
    "- Constructor chaining : It a process of calling one constructor from another constructor.\n",
    "- It is very usefull when we want to call multiple constructors, one after another, by initializing only one object. \n",
    "- following is an ex- of constructor chaining :\n",
    "- 1) child is child class that takes the values of all class's parameters then by using super() method it creates chain to pass the value parent class then pass the values of grand parent class."
   ]
  },
  {
   "cell_type": "code",
   "execution_count": 17,
   "id": "6493c945",
   "metadata": {},
   "outputs": [],
   "source": [
    "class grandParent :\n",
    "    def __init__(self, dada_ka_naam):\n",
    "        self.dada_ka_naam = dada_ka_naam\n",
    "        \n",
    "class parent(grandParent) :\n",
    "    def __init__(self, dada_ka_naam ,papa_ka_naam):\n",
    "        super().__init__(dada_ka_naam)\n",
    "        self.papa_ka_naam = papa_ka_naam\n",
    "        \n",
    "class child(parent):\n",
    "    def __init__(self, dada_ka_naam, papa_ka_naam, mera_naam):\n",
    "        super().__init__(dada_ka_naam, papa_ka_naam)\n",
    "        self.mera_naam = mera_naam"
   ]
  },
  {
   "cell_type": "code",
   "execution_count": 18,
   "id": "01b95b26",
   "metadata": {},
   "outputs": [],
   "source": [
    "me = child(\"lalu prasad\",\"Kalu Prasad\",\"Golu Prasad\")"
   ]
  },
  {
   "cell_type": "markdown",
   "id": "43d334cb",
   "metadata": {},
   "source": [
    "### 20. Create a Python class called `Car` with a default constructor that initializes the `make` and `model` attributes. Provide a method to display car information."
   ]
  },
  {
   "cell_type": "markdown",
   "id": "656c992b",
   "metadata": {},
   "source": [
    "### Ans 20)"
   ]
  },
  {
   "cell_type": "code",
   "execution_count": 42,
   "id": "292010ba",
   "metadata": {},
   "outputs": [],
   "source": [
    "class Car :\n",
    "    def __init__(self):\n",
    "        self.make = 'Maruti Suzuki'\n",
    "        self.model = 'Pata nahi'\n",
    "        \n",
    "    def car_details(self):\n",
    "        print(\"Following are the car details : \")\n",
    "        print(f\"Company name : {self.make}\\nModel Name : {self.model}\")"
   ]
  },
  {
   "cell_type": "code",
   "execution_count": 43,
   "id": "be909f5f",
   "metadata": {},
   "outputs": [],
   "source": [
    "myCar = Car()"
   ]
  },
  {
   "cell_type": "code",
   "execution_count": 44,
   "id": "7e93f67a",
   "metadata": {
    "scrolled": true
   },
   "outputs": [
    {
     "name": "stdout",
     "output_type": "stream",
     "text": [
      "Following are the car details : \n",
      "Company name : Maruti Suzuki\n",
      "Model Name : Pata nahi\n"
     ]
    }
   ],
   "source": [
    "myCar.car_details()"
   ]
  },
  {
   "cell_type": "markdown",
   "id": "b1830775",
   "metadata": {},
   "source": [
    "# Inheritance:"
   ]
  },
  {
   "cell_type": "markdown",
   "id": "aa10ec4e",
   "metadata": {},
   "source": [
    "## 1. What is inheritance in Python? Explain its significance in object-oriented programming."
   ]
  },
  {
   "cell_type": "markdown",
   "id": "1eeb31b6",
   "metadata": {},
   "source": [
    "### Ans 1) \n",
    "\n",
    "- Inheritance :- Inheritance is a concept in OOPs that is used to access and use the properties of parent class in child class.\n",
    "- Significance :- \n",
    "- 1) Code Reusability: By using inheritance we can reuse the code/method of a class into another class (properties of parent class into child class) , which reduces the duplication of the code and promotes maintainability.\n",
    "- 2) Code Organization: By using inheritance we can create a hierarchy of classes which make it easier to undertand the relationship and dependencies between different parts of your program.\n",
    "- 3) Modularity: By using inheritance, we can modify or extend the functionality of a parent class without changing the parent class itself. This modularity can enhance the flexibility and scalability of our code."
   ]
  },
  {
   "cell_type": "markdown",
   "id": "63654535",
   "metadata": {},
   "source": [
    "## 2. Differentiate between single inheritance and multiple inheritance in Python. Provide examples for each."
   ]
  },
  {
   "cell_type": "markdown",
   "id": "8acd4d24",
   "metadata": {},
   "source": [
    "### Ans 2) \n",
    "\n",
    "- Single Inheritance :- In single inheritance child class can use the properties/methods of only one parent class. \n",
    "- Multiple Inheritance :- In multiple inheritance child class can use the properties/methods of more than one parent class.\n",
    "- Following are examples of both single and multiple inheritance."
   ]
  },
  {
   "cell_type": "code",
   "execution_count": 1,
   "id": "a8875c08",
   "metadata": {},
   "outputs": [],
   "source": [
    "## Ex- of Single Inheritance.\n",
    "\n",
    "class human:\n",
    "    def __init__(self, name , gender):\n",
    "        self.name = name\n",
    "        self.gender = gender\n",
    "        \n",
    "    def human_info(self):\n",
    "        return f\"I'm {self.name} and my gender is {self.gender}.\"\n",
    "    \n",
    "class person(human):\n",
    "    def __init__(self, name , gender):\n",
    "        super().__init__(name, gender)"
   ]
  },
  {
   "cell_type": "code",
   "execution_count": 2,
   "id": "ff99c980",
   "metadata": {},
   "outputs": [],
   "source": [
    "me = person('Bablu', 'Male')"
   ]
  },
  {
   "cell_type": "code",
   "execution_count": 3,
   "id": "fde6544e",
   "metadata": {},
   "outputs": [
    {
     "data": {
      "text/plain": [
       "\"I'm Bablu and my gender is Male.\""
      ]
     },
     "execution_count": 3,
     "metadata": {},
     "output_type": "execute_result"
    }
   ],
   "source": [
    "me.human_info()"
   ]
  },
  {
   "cell_type": "code",
   "execution_count": 4,
   "id": "22507665",
   "metadata": {},
   "outputs": [],
   "source": [
    "## Ex- of Multiple Inheritance.\n",
    "\n",
    "class father:\n",
    "    def father_job(self):\n",
    "        return f\"My father {self.father_name} goes to office.\"\n",
    "\n",
    "class mother:\n",
    "    def mother_job(self):\n",
    "        return f\"My mother {self.mother_name} is house wife.\"\n",
    "\n",
    "class child(father, mother):\n",
    "    def __init__(self, father_name, mother_name):\n",
    "        self.father_name = father_name\n",
    "        self.mother_name = mother_name"
   ]
  },
  {
   "cell_type": "code",
   "execution_count": 5,
   "id": "95a2c028",
   "metadata": {},
   "outputs": [],
   "source": [
    "me = child('mohan laal','devi ji')"
   ]
  },
  {
   "cell_type": "code",
   "execution_count": 6,
   "id": "ee636940",
   "metadata": {},
   "outputs": [
    {
     "data": {
      "text/plain": [
       "'My father mohan laal goes to office.'"
      ]
     },
     "execution_count": 6,
     "metadata": {},
     "output_type": "execute_result"
    }
   ],
   "source": [
    "me.father_job()"
   ]
  },
  {
   "cell_type": "code",
   "execution_count": 7,
   "id": "4f9a57e1",
   "metadata": {},
   "outputs": [
    {
     "data": {
      "text/plain": [
       "'My mother devi ji is house wife.'"
      ]
     },
     "execution_count": 7,
     "metadata": {},
     "output_type": "execute_result"
    }
   ],
   "source": [
    "me.mother_job()"
   ]
  },
  {
   "cell_type": "markdown",
   "id": "9bf47fa4",
   "metadata": {},
   "source": [
    "## 3. Create a Python class called `Vehicle` with attributes `color` and `speed`. Then, create a child class called `Car` that inherits from `Vehicle` and adds a `brand` attribute. Provide an example of creating a `Car` object."
   ]
  },
  {
   "cell_type": "markdown",
   "id": "6635e6b3",
   "metadata": {},
   "source": [
    "### Ans 3) "
   ]
  },
  {
   "cell_type": "code",
   "execution_count": 8,
   "id": "3c64194b",
   "metadata": {},
   "outputs": [],
   "source": [
    "class Vehicle:\n",
    "    def __init__(self, color, speed):\n",
    "        self.color = color\n",
    "        self.speed = speed\n",
    "\n",
    "class Car(Vehicle):\n",
    "    def __init__(self,color, speed, brand ):\n",
    "        super().__init__(color, speed)\n",
    "        self.brand = brand"
   ]
  },
  {
   "cell_type": "code",
   "execution_count": 9,
   "id": "1910759e",
   "metadata": {},
   "outputs": [],
   "source": [
    "# creating a car object\n",
    "thar = Car('Black','100km/hr','Mahindra')"
   ]
  },
  {
   "cell_type": "markdown",
   "id": "1ada66f5",
   "metadata": {},
   "source": [
    "## 4. Explain the concept of method overriding in inheritance. Provide a practical example."
   ]
  },
  {
   "cell_type": "markdown",
   "id": "67e7c05e",
   "metadata": {},
   "source": [
    "### Ans 4) \n",
    "\n",
    "- Method overriding in inheritance occurs when class A has a method and class B has also a same method that exits in class A.\n",
    "- In method overriding, new method change the definition of existing method.\n",
    "- In following ex- \n",
    "- 1) class A has a method `same_func`.\n",
    "- 2) in class B also has a same method `same_func` but different definition.\n",
    "- 3) When we create an object for class B and call the `same_func` then latest defined method is called and definition of existing method is changed."
   ]
  },
  {
   "cell_type": "code",
   "execution_count": 10,
   "id": "df284dc8",
   "metadata": {},
   "outputs": [],
   "source": [
    "class A:\n",
    "    def same_func(self):\n",
    "        return \"Function of class A.\"\n",
    "\n",
    "class B(A):\n",
    "    # func that already exists in class A\n",
    "    def same_func(self):\n",
    "        return \"Modified Function of class A.\" "
   ]
  },
  {
   "cell_type": "code",
   "execution_count": 11,
   "id": "52280d8c",
   "metadata": {},
   "outputs": [
    {
     "data": {
      "text/plain": [
       "'Modified Function of class A.'"
      ]
     },
     "execution_count": 11,
     "metadata": {},
     "output_type": "execute_result"
    }
   ],
   "source": [
    "obj1 = B()\n",
    "obj1.same_func()"
   ]
  },
  {
   "cell_type": "markdown",
   "id": "fe744e42",
   "metadata": {},
   "source": [
    "## 5. How can you access the methods and attributes of a parent class from a child class in Python? Give an example."
   ]
  },
  {
   "cell_type": "markdown",
   "id": "262e6aad",
   "metadata": {},
   "source": [
    "### Ans 5)"
   ]
  },
  {
   "cell_type": "code",
   "execution_count": 3,
   "id": "2cf1ccf4",
   "metadata": {},
   "outputs": [],
   "source": [
    "class parent:\n",
    "    def parent_method(self):\n",
    "        return \"This is a method of parent class.\"\n",
    "    \n",
    "class child(parent):\n",
    "    def child_method(self):\n",
    "        return \"This is a method of child class.\"\n",
    "    "
   ]
  },
  {
   "cell_type": "code",
   "execution_count": 4,
   "id": "e1517bff",
   "metadata": {},
   "outputs": [],
   "source": [
    "obj1 = child()"
   ]
  },
  {
   "cell_type": "code",
   "execution_count": 7,
   "id": "28bb4525",
   "metadata": {},
   "outputs": [
    {
     "data": {
      "text/plain": [
       "'This is a method of child class.'"
      ]
     },
     "execution_count": 7,
     "metadata": {},
     "output_type": "execute_result"
    }
   ],
   "source": [
    "obj1.child_method()"
   ]
  },
  {
   "cell_type": "code",
   "execution_count": 8,
   "id": "c53a5477",
   "metadata": {},
   "outputs": [
    {
     "data": {
      "text/plain": [
       "'This is a method of parent class.'"
      ]
     },
     "execution_count": 8,
     "metadata": {},
     "output_type": "execute_result"
    }
   ],
   "source": [
    "obj1.parent_method()"
   ]
  },
  {
   "cell_type": "markdown",
   "id": "6b6fcfe3",
   "metadata": {},
   "source": [
    "## 6. Discuss the use of the `super()` function in Python inheritance. When and why is it used? Provide an example."
   ]
  },
  {
   "cell_type": "markdown",
   "id": "9dde92e3",
   "metadata": {},
   "source": [
    "### Ans 6)"
   ]
  },
  {
   "cell_type": "code",
   "execution_count": 9,
   "id": "57bbf8e0",
   "metadata": {},
   "outputs": [],
   "source": [
    "class parent:\n",
    "    def __init__(self, name):\n",
    "        self.name = name\n",
    "        \n",
    "class child(parent):\n",
    "    def __init__(self,name,sex):\n",
    "        super().__init__(name)\n",
    "        self.sex = sex"
   ]
  },
  {
   "cell_type": "code",
   "execution_count": 10,
   "id": "2ce484cf",
   "metadata": {},
   "outputs": [],
   "source": [
    "noor = child(\"Noorain\",\"Male\")"
   ]
  },
  {
   "cell_type": "markdown",
   "id": "df37b16a",
   "metadata": {},
   "source": [
    "## 7. Create a Python class called `Animal` with a method `speak()`. Then, create child classes `Dog` and `Cat` that inherit from `Animal` and override the `speak()` method. Provide an example of using these classes."
   ]
  },
  {
   "cell_type": "markdown",
   "id": "e8e1e4fc",
   "metadata": {},
   "source": [
    "### Ans 7)"
   ]
  },
  {
   "cell_type": "code",
   "execution_count": 16,
   "id": "929988f4",
   "metadata": {},
   "outputs": [],
   "source": [
    "class Animal:\n",
    "    def speak(self, sound):\n",
    "        self.sound = sound\n",
    "        return  self.sound \n",
    "    \n",
    "    \n",
    "class Dog(Animal):\n",
    "    def speak(self, sound):\n",
    "        self.sound = sound\n",
    "        return  self.sound\n",
    "        \n",
    "class Cat(Animal):\n",
    "    def speak(self, sound):\n",
    "        self.sound = sound\n",
    "        return  self.sound"
   ]
  },
  {
   "cell_type": "code",
   "execution_count": 17,
   "id": "36918ac1",
   "metadata": {},
   "outputs": [],
   "source": [
    "d1 = Dog()"
   ]
  },
  {
   "cell_type": "code",
   "execution_count": 18,
   "id": "869a1c84",
   "metadata": {},
   "outputs": [
    {
     "data": {
      "text/plain": [
       "'Bho Bho'"
      ]
     },
     "execution_count": 18,
     "metadata": {},
     "output_type": "execute_result"
    }
   ],
   "source": [
    "d1.speak('Bho Bho')"
   ]
  },
  {
   "cell_type": "code",
   "execution_count": 19,
   "id": "d27dbf44",
   "metadata": {},
   "outputs": [],
   "source": [
    "c1 = Cat()"
   ]
  },
  {
   "cell_type": "code",
   "execution_count": 20,
   "id": "b4fb6bac",
   "metadata": {},
   "outputs": [
    {
     "data": {
      "text/plain": [
       "'Meaw Meaw'"
      ]
     },
     "execution_count": 20,
     "metadata": {},
     "output_type": "execute_result"
    }
   ],
   "source": [
    "c1.speak('Meaw Meaw')"
   ]
  },
  {
   "cell_type": "markdown",
   "id": "6c696d73",
   "metadata": {},
   "source": [
    "## 8. Explain the role of the `isinstance()` function in Python and how it relates to inheritance."
   ]
  },
  {
   "cell_type": "markdown",
   "id": "726b40d3",
   "metadata": {},
   "source": [
    "### Ans 8)\n",
    "\n",
    "- `isinstance()` : It is a function in python which is used to find whether a created object/instance is an object of a particular class or not ?\n",
    "- `isinstance(obj, class)` : it takes two arguments: 1) created object, 2) defined class.\n",
    "- Note:  In inheritance we create multiple classes in relation to each other and we create objects for those classes. But sometimes we don't remember which object belongs to which class. To check, whether an object is an instance of a class or not we use isinstance() function in inheritance.\n",
    "- Following in an ex- "
   ]
  },
  {
   "cell_type": "code",
   "execution_count": 21,
   "id": "9575e9af",
   "metadata": {},
   "outputs": [
    {
     "data": {
      "text/plain": [
       "True"
      ]
     },
     "execution_count": 21,
     "metadata": {},
     "output_type": "execute_result"
    }
   ],
   "source": [
    "# Ex- 1\n",
    "a = 10\n",
    "isinstance(a,int)\n",
    "\n",
    "# explanation : a is an object of integer class, as it stores an integer number 10. \n",
    "# By using isinstance function i try to check whether a is an object of int class or not? "
   ]
  },
  {
   "cell_type": "code",
   "execution_count": 18,
   "id": "7889a44a",
   "metadata": {},
   "outputs": [],
   "source": [
    "# Ex- 2\n",
    "class first:\n",
    "    def hmm(self):\n",
    "        return 'Hum Tum alag hai.'\n",
    "    \n",
    "class second:\n",
    "    def tmm(self):\n",
    "        return 'Tm wohi ho jo me hu.'"
   ]
  },
  {
   "cell_type": "code",
   "execution_count": 19,
   "id": "c9e872b6",
   "metadata": {},
   "outputs": [],
   "source": [
    "me = first()\n",
    "tm = second()"
   ]
  },
  {
   "cell_type": "code",
   "execution_count": 20,
   "id": "0045d98a",
   "metadata": {},
   "outputs": [
    {
     "data": {
      "text/plain": [
       "False"
      ]
     },
     "execution_count": 20,
     "metadata": {},
     "output_type": "execute_result"
    }
   ],
   "source": [
    "isinstance(me,second)"
   ]
  },
  {
   "cell_type": "markdown",
   "id": "b1d151e9",
   "metadata": {},
   "source": [
    "## 9. What is the purpose of the `issubclass()` function in Python? Provide an example."
   ]
  },
  {
   "cell_type": "markdown",
   "id": "859feed3",
   "metadata": {},
   "source": [
    "### Ans 9) \n",
    "- `issubclass()` : issubclass() is a function that check whether a class is a subclass of another class or not?\n",
    "- `issubclass(class1, class2)` : it takes two arguments : 1) class1 , that is a subclass to be check. 2) class2, another class or list/tuple of classes.\n",
    "\n",
    "- sometimes in inheritance we created multiple classes and relates them. But we foget which is parent(super) and which is child(subclass) class.\n",
    "- by using issubclass() function we can find whether a class is a subclass of another class or not?\n",
    "- Following is ex- "
   ]
  },
  {
   "cell_type": "code",
   "execution_count": 22,
   "id": "ae0a09dc",
   "metadata": {},
   "outputs": [],
   "source": [
    "class parent:\n",
    "    pass\n",
    "\n",
    "class child(parent):\n",
    "    pass"
   ]
  },
  {
   "cell_type": "code",
   "execution_count": 25,
   "id": "47acddcb",
   "metadata": {},
   "outputs": [
    {
     "name": "stdout",
     "output_type": "stream",
     "text": [
      "True\n",
      "False\n",
      "True\n",
      "True\n"
     ]
    }
   ],
   "source": [
    "print(issubclass(child, parent))\n",
    "print(issubclass(parent, child))\n",
    "print(issubclass(child, child))\n",
    "print(issubclass(parent, parent))\n"
   ]
  },
  {
   "cell_type": "markdown",
   "id": "6b64c50d",
   "metadata": {},
   "source": [
    "## 10. Discuss the concept of constructor inheritance in Python. How are constructors inherited in child classes?"
   ]
  },
  {
   "cell_type": "markdown",
   "id": "fd436be6",
   "metadata": {},
   "source": [
    "### Ans 10)\n",
    "\n",
    "- Constructor inheritance refers to the process by which a subclass (child class) inherits the constructor of its superclass (parent class).\n",
    "- This means that the subclass constructor can call the constructor of the superclass to perform the initialization that the superclass does, before proceeding with its own initialization.\n",
    "- Following is an ex- \n",
    "- constructor means __init__ function, inheritance means using/changing the properties of a class from another class.\n",
    "- In below ex- child class is initializing(inheriting) the parameters of parent class using constructor inheritance."
   ]
  },
  {
   "cell_type": "code",
   "execution_count": 1,
   "id": "e8265e83",
   "metadata": {},
   "outputs": [],
   "source": [
    "class parent:\n",
    "    def __init__(self, name, age):\n",
    "        self.name = name\n",
    "        self.age = age\n",
    "        \n",
    "class child(parent):\n",
    "    def __init__(self, name, age, gender):\n",
    "        self.gender = gender\n",
    "        super().__init__(name, age)\n",
    "        "
   ]
  },
  {
   "cell_type": "markdown",
   "id": "c37e9c4c",
   "metadata": {},
   "source": [
    "## 11. Create a Python class called `Shape` with a method `area()` that calculates the area of a shape. Then, create child classes `Circle` and `Rectangle` that inherit from `Shape` and implement the `area()` method accordingly. Provide an example."
   ]
  },
  {
   "cell_type": "markdown",
   "id": "406a09db",
   "metadata": {},
   "source": [
    "### Ans 11)"
   ]
  },
  {
   "cell_type": "code",
   "execution_count": 27,
   "id": "bb81436e",
   "metadata": {},
   "outputs": [],
   "source": [
    "class Shape:\n",
    "    def area(self,*args):\n",
    "        if len(args) == 1:\n",
    "            return \"Area of circle :\" + str(3.14*args[0]*args[0])\n",
    "        elif len(args) == 2:\n",
    "            return \"Area of Rectangle :\" + str(args[0]*args[1])\n",
    "    \n",
    "class Circle(Shape):\n",
    "    pass\n",
    "class Rectangle(Shape):\n",
    "    pass"
   ]
  },
  {
   "cell_type": "code",
   "execution_count": 28,
   "id": "d207ce42",
   "metadata": {},
   "outputs": [],
   "source": [
    "cir1 = Circle()\n",
    "rect = Rectangle()"
   ]
  },
  {
   "cell_type": "code",
   "execution_count": 29,
   "id": "436731a1",
   "metadata": {},
   "outputs": [
    {
     "data": {
      "text/plain": [
       "'Area of circle :78.5'"
      ]
     },
     "execution_count": 29,
     "metadata": {},
     "output_type": "execute_result"
    }
   ],
   "source": [
    "cir1.area(5)"
   ]
  },
  {
   "cell_type": "code",
   "execution_count": 30,
   "id": "2a60ca1a",
   "metadata": {},
   "outputs": [
    {
     "data": {
      "text/plain": [
       "'Area of Rectangle :15'"
      ]
     },
     "execution_count": 30,
     "metadata": {},
     "output_type": "execute_result"
    }
   ],
   "source": [
    "rect.area(3,5)"
   ]
  },
  {
   "cell_type": "markdown",
   "id": "aae86a93",
   "metadata": {},
   "source": [
    "## 12. Explain the use of abstract base classes (ABCs) in Python and how they relate to inheritance. Provide an example using the `abc` module."
   ]
  },
  {
   "cell_type": "markdown",
   "id": "87e3dd3f",
   "metadata": {},
   "source": [
    "- Abstract Base Classes (ABCs) in Python provide a way to create a skeleton/structure for program.\n",
    "- ABCs are useful for enforcing a certain structure or behavior across multiple classes. \n",
    "- To create an abstract class `import ABC from abc` and to mark methods as abstract use decorator `@abstractmethod`.\n",
    "- Subclasses of an ABC must implement all abstract methods defined in the ABC, or they will raise an error at runtime.\n",
    "- following in ex- :"
   ]
  },
  {
   "cell_type": "code",
   "execution_count": 2,
   "id": "23fe2052",
   "metadata": {},
   "outputs": [
    {
     "name": "stdout",
     "output_type": "stream",
     "text": [
      "Area of rectangle: 20\n",
      "Perimeter of rectangle: 18\n",
      "Area of circle: 28.259999999999998\n",
      "Perimeter of circle: 18.84\n"
     ]
    }
   ],
   "source": [
    "from abc import ABC, abstractmethod\n",
    "\n",
    "# Define an abstract base class\n",
    "class Shape(ABC):\n",
    "    @abstractmethod\n",
    "    def area(self):\n",
    "        pass\n",
    "    \n",
    "    @abstractmethod\n",
    "    def perimeter(self):\n",
    "        pass\n",
    "\n",
    "# Define a concrete subclass of Shape\n",
    "class Rectangle(Shape):\n",
    "    def __init__(self, width, height):\n",
    "        self.width = width\n",
    "        self.height = height\n",
    "    \n",
    "    def area(self):\n",
    "        return self.width * self.height\n",
    "    \n",
    "    def perimeter(self):\n",
    "        return 2 * (self.width + self.height)\n",
    "\n",
    "# Define another concrete subclass of Shape\n",
    "class Circle(Shape):\n",
    "    def __init__(self, radius):\n",
    "        self.radius = radius\n",
    "    \n",
    "    def area(self):\n",
    "        return 3.14 * self.radius * self.radius\n",
    "    \n",
    "    def perimeter(self):\n",
    "        return 2 * 3.14 * self.radius\n",
    "\n",
    "# Create objects of the concrete subclasses\n",
    "rectangle = Rectangle(5, 4)\n",
    "circle = Circle(3)\n",
    "\n",
    "# Test the methods\n",
    "print(\"Area of rectangle:\", rectangle.area())\n",
    "print(\"Perimeter of rectangle:\", rectangle.perimeter())\n",
    "print(\"Area of circle:\", circle.area())\n",
    "print(\"Perimeter of circle:\", circle.perimeter())\n"
   ]
  },
  {
   "cell_type": "markdown",
   "id": "1ac24162",
   "metadata": {},
   "source": [
    "## 13. How can you prevent a child class from modifying certain attributes or methods inherited from a parent class in Python?"
   ]
  },
  {
   "cell_type": "markdown",
   "id": "5622eba6",
   "metadata": {},
   "source": [
    "### Ans 13)\n",
    "- To prevent a child class from modifying certain attributes or methods inherited from a parent class I can use concept of `Encapsulation`. \n",
    "- Whatever the attributes or methods that i want to keep private or don't want to make change outside the class, i can use `single underscore (_)` before method or attribute name.Then it can't be access or modified outside the class."
   ]
  },
  {
   "cell_type": "markdown",
   "id": "a037dd0b",
   "metadata": {},
   "source": [
    "## 14. Create a Python class called `Employee` with attributes `name` and `salary`. Then, create a child class `Manager` that inherits from `Employee` and adds an attribute `department`. Provide an example."
   ]
  },
  {
   "cell_type": "markdown",
   "id": "d8341218",
   "metadata": {},
   "source": [
    "### Ans 14)"
   ]
  },
  {
   "cell_type": "code",
   "execution_count": 32,
   "id": "2b6f980a",
   "metadata": {},
   "outputs": [],
   "source": [
    "class Employee :\n",
    "    def __init__(self, name, salary):\n",
    "        self.name = name\n",
    "        self.salary = salary\n",
    "        \n",
    "class Manager(Employee):\n",
    "    def __init__(self, name, salary, department):\n",
    "        super().__init__( name, salary)\n",
    "        self.department = department"
   ]
  },
  {
   "cell_type": "code",
   "execution_count": 34,
   "id": "08a89681",
   "metadata": {},
   "outputs": [],
   "source": [
    "noor = Manager('Noorain', 1200000 , 'IT')"
   ]
  },
  {
   "cell_type": "markdown",
   "id": "2d69004a",
   "metadata": {},
   "source": [
    "## 15. Discuss the concept of method overloading in Python inheritance. How does it differ from method overriding?"
   ]
  },
  {
   "cell_type": "markdown",
   "id": "2700ac56",
   "metadata": {},
   "source": [
    "### Ans 4) \n",
    "\n",
    "- Method overriding in inheritance occurs when class A has a method and class B has also a same method that exits in class A.\n",
    "- In method overriding, new method change the definition of existing method.\n",
    "- In following ex- \n",
    "- 1) class A has a method `same_func`.\n",
    "- 2) in class B also has a same method `same_func` but different definition.\n",
    "- 3) When we create an object for class B and call the `same_func` then latest defined method is called and definition of existing method is changed."
   ]
  },
  {
   "cell_type": "code",
   "execution_count": 8,
   "id": "f84b30f4",
   "metadata": {},
   "outputs": [],
   "source": [
    "class A:\n",
    "    def func1(self):\n",
    "        return \"Method of class A.\"\n",
    "    \n",
    "class B(A):\n",
    "    def func2(self):\n",
    "        return \"Method of class A.\""
   ]
  },
  {
   "cell_type": "code",
   "execution_count": 9,
   "id": "0e366053",
   "metadata": {},
   "outputs": [
    {
     "data": {
      "text/plain": [
       "'Method of class A.'"
      ]
     },
     "execution_count": 9,
     "metadata": {},
     "output_type": "execute_result"
    }
   ],
   "source": [
    "over = B()\n",
    "over.func2()"
   ]
  },
  {
   "cell_type": "markdown",
   "id": "ba9db761",
   "metadata": {},
   "source": [
    "- Concept of overloading can be understand with the ex- of `+` operator.\n",
    "- In below given code, i define a class ops, where i defined a method `plus_operator`.\n",
    "- This method takes two parameters x and y.\n",
    "- When i passed integers then the method performed addition operation.\n",
    "- When i passed strings then the method performed string concatenation operation.\n",
    "- This is the ex- method overloading. \n",
    "- When a method changes its nature based on the values of parameters, method is called as overloaded method and the process is called as method overloading."
   ]
  },
  {
   "cell_type": "code",
   "execution_count": 10,
   "id": "0b64f583",
   "metadata": {},
   "outputs": [
    {
     "name": "stdout",
     "output_type": "stream",
     "text": [
      "10\n",
      "HmmTmm\n"
     ]
    }
   ],
   "source": [
    "class ops:\n",
    "    def plus_operator(self, x , y):\n",
    "        return x+y\n",
    "    \n",
    "plus = ops()\n",
    "print(plus.plus_operator(3,7))\n",
    "print(plus.plus_operator('Hmm','Tmm'))"
   ]
  },
  {
   "cell_type": "markdown",
   "id": "5e14c5ef",
   "metadata": {},
   "source": [
    "## 16. Explain the purpose of the `__init__()` method in Python inheritance and how it is utilized in child classes."
   ]
  },
  {
   "cell_type": "markdown",
   "id": "ed519e17",
   "metadata": {},
   "source": [
    "### Ans 16)\n",
    "- `__init__()` method is used to initialize the attributes of a class.\n",
    "- `__init__()` method is a constructor that is automatically called whenever an object is created for a class.\n",
    "- `__init__()` method can be used to initialize the attributes of child class as well as the attributes of parent class by using super() method."
   ]
  },
  {
   "cell_type": "code",
   "execution_count": 12,
   "id": "e552b069",
   "metadata": {},
   "outputs": [],
   "source": [
    "class parent:\n",
    "    def __init__(self,x,y):\n",
    "        self.x = x\n",
    "        self.y = y\n",
    "        \n",
    "class child(parent):\n",
    "    def __init__(self,x,y,a,b):\n",
    "        super().__init__(x,y)\n",
    "        self.a = a\n",
    "        self.b = b\n",
    "        \n",
    "myobj = child(1,2,3,4)"
   ]
  },
  {
   "cell_type": "markdown",
   "id": "3a581e2e",
   "metadata": {},
   "source": [
    "## 17. Create a Python class called `Bird` with a method `fly()`. Then, create child classes `Eagle` and `Sparrow` that inherit from `Bird` and implement the `fly()` method differently. Provide an example of using these classes."
   ]
  },
  {
   "cell_type": "markdown",
   "id": "39de5ccc",
   "metadata": {},
   "source": [
    "### Ans 17)"
   ]
  },
  {
   "cell_type": "code",
   "execution_count": 44,
   "id": "37f2422e",
   "metadata": {},
   "outputs": [],
   "source": [
    "class Bird :\n",
    "    def fly(self):\n",
    "        pass\n",
    "    \n",
    "class Eagle(Bird):\n",
    "    def fly(self):\n",
    "        return 'Eagle flies fast.'\n",
    "\n",
    "class Sparrow(Bird):\n",
    "    def fly(self):\n",
    "        return 'Sparrow flies slow.'"
   ]
  },
  {
   "cell_type": "code",
   "execution_count": 45,
   "id": "65661457",
   "metadata": {},
   "outputs": [],
   "source": [
    "eag = Eagle()\n",
    "spar = Sparrow()"
   ]
  },
  {
   "cell_type": "code",
   "execution_count": 46,
   "id": "ad3c73b1",
   "metadata": {},
   "outputs": [
    {
     "data": {
      "text/plain": [
       "'Eagle flies fast.'"
      ]
     },
     "execution_count": 46,
     "metadata": {},
     "output_type": "execute_result"
    }
   ],
   "source": [
    "eag.fly()"
   ]
  },
  {
   "cell_type": "code",
   "execution_count": 47,
   "id": "172ae2c4",
   "metadata": {},
   "outputs": [
    {
     "data": {
      "text/plain": [
       "'Sparrow flies slow.'"
      ]
     },
     "execution_count": 47,
     "metadata": {},
     "output_type": "execute_result"
    }
   ],
   "source": [
    "spar.fly()"
   ]
  },
  {
   "cell_type": "markdown",
   "id": "834cf2aa",
   "metadata": {},
   "source": [
    "## 18. What is the \"diamond problem\" in multiple inheritance, and how does Python address it?"
   ]
  },
  {
   "cell_type": "markdown",
   "id": "fdc50a76",
   "metadata": {},
   "source": [
    "### Ans 18)\n",
    "- consider the following ex-"
   ]
  },
  {
   "cell_type": "code",
   "execution_count": 13,
   "id": "397c5c1f",
   "metadata": {},
   "outputs": [],
   "source": [
    "## ex- of diamond problem in multiple inheritance.\n",
    "\n",
    "class grandParent:\n",
    "    def func(self):\n",
    "        return \"Method of grandparent class.\"\n",
    "    \n",
    "class mother(grandParent):\n",
    "    def func(self):\n",
    "        return \"Method of mother class.\"\n",
    "    \n",
    "class father(grandParent):\n",
    "    def func(self):\n",
    "        return \"Method of father class.\"\n",
    "    \n",
    "class child(mother, father):\n",
    "    pass"
   ]
  },
  {
   "cell_type": "code",
   "execution_count": 14,
   "id": "e046f695",
   "metadata": {},
   "outputs": [
    {
     "data": {
      "text/plain": [
       "'Method of mother class.'"
      ]
     },
     "execution_count": 14,
     "metadata": {},
     "output_type": "execute_result"
    }
   ],
   "source": [
    "me = child()\n",
    "me.func()"
   ]
  },
  {
   "cell_type": "markdown",
   "id": "7f08f06a",
   "metadata": {},
   "source": [
    "- In above ex- I created 4 classes grandParent, mother , father and child class.\n",
    "- mother and father class inherits the property of grandparent class.\n",
    "- child class inherits the property of two classes mother and father class.\n",
    "- Note: In all the three classes mother , father and gandparent the method/function is same.\n",
    "- Note: Now the question is if i create the object for child class and call the `func` method then which class's method will exicute ???? \n",
    "- Note: This problem in `multiple inheritance ` is called as `diamond problem`.\n",
    "- Now come to the same ques.. Which function will be executed ??\n",
    "- Ans : method defined inside the `mother class` will execute. Why ??? method of mother class why not method of father class ??\n",
    "- Ans : In child class when i inherits the property of mother and father class then i passed both classes inside pair of parentheses. Just look at the order of passing both classes. `mother class` is passed first then `father class` is passed. That's why `func` of `mother class` is executed.\n",
    "- Python resolve this `diamond problem` or conflict between methods by using the order of classes they are passed."
   ]
  },
  {
   "cell_type": "markdown",
   "id": "1fa59948",
   "metadata": {},
   "source": [
    "## 19. Discuss the concept of \"is-a\" and \"has-a\" relationships in inheritance, and provide examples of each."
   ]
  },
  {
   "cell_type": "markdown",
   "id": "227e332d",
   "metadata": {},
   "source": [
    "### Ans 19)\n",
    "- There are two ways to reuse the code either by the implementation of inheritance (IS-A relationship), or object composition (HAS-A relationship).\n",
    "\n",
    "- is-a relationship\n",
    "- Inheritance is an is-a relationship.We use inheritance only if there exists an is-a relationship between two classes. \n",
    "- For example : vehicle is parent and car is child class. Similarly Apple, Cat are child of Fruit and Animal Classes.\n",
    "- Car is a Vehicle\n",
    "- Apple is a Fruit\n",
    "- Cat is an Animal\n",
    "- Here, Car can inherit from Vehicle, Apple can inherit from Fruit, and Cat can inherit from Animal.\n",
    "\n",
    "- Composition(HAS-A) simply mean the use of instance variables that are references to other objects. For example Maruti has Engine, or House has Bathroom."
   ]
  },
  {
   "cell_type": "markdown",
   "id": "6b73ce4d",
   "metadata": {},
   "source": [
    "## 20. Create a Python class hierarchy for a university system. Start with a base class `Person` and create child classes `Student` and `Professor`, each with their own attributes and methods. Provide an example of using these classes in a university context."
   ]
  },
  {
   "cell_type": "markdown",
   "id": "849348cd",
   "metadata": {},
   "source": [
    "### Ans 20)"
   ]
  },
  {
   "cell_type": "code",
   "execution_count": 40,
   "id": "2384dc32",
   "metadata": {},
   "outputs": [],
   "source": [
    "class Person:\n",
    "    def __init__(self, name , age, gender):\n",
    "        self.name = name\n",
    "        self.age = age\n",
    "        self.gender = gender\n",
    "\n",
    "class Student(Person):\n",
    "    def __init__(self, name, age, gender, class_):\n",
    "        super().__init__(name, age, gender)\n",
    "        self.class_ = class_\n",
    "        \n",
    "    def study(self):\n",
    "        return f\"Hello, my name is {self.name}, i'm in {self.class_} class.\"\n",
    "        \n",
    "        \n",
    "class Professor(Person):\n",
    "    def __init__(self, name, age, gender, subject):\n",
    "        super().__init__(name, age, gender)\n",
    "        self.subject = subject\n",
    "        \n",
    "    def teach(self):\n",
    "        return f\"Hello, my name is {self.name}, i teach {self.subject}\""
   ]
  },
  {
   "cell_type": "code",
   "execution_count": 41,
   "id": "b32bff91",
   "metadata": {},
   "outputs": [],
   "source": [
    "rohan = Student('Rohan',17,'male','10th')\n",
    "sudh = Professor('Sudhanshu',40,'Male','Data Sceince')"
   ]
  },
  {
   "cell_type": "code",
   "execution_count": 42,
   "id": "207f4205",
   "metadata": {},
   "outputs": [
    {
     "data": {
      "text/plain": [
       "\"Hello, my name is Rohan, i'm in 10th class.\""
      ]
     },
     "execution_count": 42,
     "metadata": {},
     "output_type": "execute_result"
    }
   ],
   "source": [
    "rohan.study()"
   ]
  },
  {
   "cell_type": "code",
   "execution_count": 43,
   "id": "0116e340",
   "metadata": {},
   "outputs": [
    {
     "data": {
      "text/plain": [
       "'Hello, my name is Sudhanshu, i teach Data Sceince'"
      ]
     },
     "execution_count": 43,
     "metadata": {},
     "output_type": "execute_result"
    }
   ],
   "source": [
    "sudh.teach()"
   ]
  },
  {
   "cell_type": "markdown",
   "id": "eda3625a",
   "metadata": {},
   "source": [
    "## Encapsulation:"
   ]
  },
  {
   "cell_type": "markdown",
   "id": "1dd13010",
   "metadata": {},
   "source": [
    "## 1. Explain the concept of encapsulation in Python. What is its role in object-oriented programming?\n"
   ]
  },
  {
   "cell_type": "markdown",
   "id": "ac1a0d71",
   "metadata": {},
   "source": [
    "### Ans 1)\n",
    "- 1) `Encapsulation :` The process of wrapping the methods and attributes inside a class is called as encapsulation.\n",
    "- Note: By wrapping the information, basically we are trying to hide the information.\n",
    "- In other words we can say: Hiding the internal information/implemenation of the class from outside the world is called as `Encapsulation.`\n",
    "\n",
    "- 2) Role in oops : `Encapsulation` is one of the fundamental concept in oops.\n",
    "- By using encapsulation we can hide the methods as well as attributes of a class.\n",
    "- In this way users can access only those data which are not private."
   ]
  },
  {
   "cell_type": "markdown",
   "id": "5f9de668",
   "metadata": {},
   "source": [
    "## 2. Describe the key principles of encapsulation, including access control and data hiding.\n"
   ]
  },
  {
   "cell_type": "markdown",
   "id": "5a7c9cb6",
   "metadata": {},
   "source": [
    "### Ans 2)\n",
    "- In Python, encapsulation is a fundamental principle of object-oriented programming (OOP) that involves bundling the data (attributes) and methods (functions) that operate on the data within a single unit, typically called a class. \n",
    "- Encapsulation serves to hide the internal state of an object and restrict direct access to it from outside the class, promoting modularity, reusability, and maintainability of code. \n",
    "- Here are the key principles of encapsulation in Python:\n",
    "\n",
    "- 1) Access Control:\n",
    "- - Public Access: Attributes and methods that are accessible from outside the class without any restrictions. In Python, by default, all attributes and methods are public.\n",
    "- - Protected Access: Attributes and methods that are `accessible within the class and its subclasses`. In Python, we can denote a protected attribute by prefixing its name with a `single underscore (_)`.\n",
    "- - Private Access: Attributes and methods that are `accessible only within the class itself`. In Python, we can denote a private attribute by prefixing its name with a `double underscore (__)` but keep in mind that Python doesn't enforce true data hiding; it just performs name mangling (adding a prefix to the name to make it harder to access from outside the class).\n",
    "- 2) Data Hiding:\n",
    "- - Encapsulation of Data: In Python, encapsulation is achieved by declaring attributes as private (using double underscores) and providing access to them through methods (getters and setters) within the class.\n",
    "- - Getters and Setters: Methods that provide controlled access to private attributes. Getters are used to retrieve the values of private attributes, and setters are used to modify them. By using getters and setters, we can enforce validation, calculations, or any other operations before accessing or modifying the attributes."
   ]
  },
  {
   "cell_type": "markdown",
   "id": "de73ccc1",
   "metadata": {},
   "source": [
    "## 3. How can you achieve encapsulation in Python classes? Provide an example.\n"
   ]
  },
  {
   "cell_type": "markdown",
   "id": "b3bc9a6c",
   "metadata": {},
   "source": [
    "### Ans 3)\n",
    "- In Python, encapsulation is achieved by declaring attributes as private (using double underscores) and providing access to them through methods (getters and setters) within the class.\n",
    "- Getters and Setters: Methods that provide controlled access to private attributes. Getters are used to retrieve the values of private attributes, and setters are used to modify them. By using getters and setters, we can enforce validation, calculations, or any other operations before accessing or modifying the attributes."
   ]
  },
  {
   "cell_type": "code",
   "execution_count": 1,
   "id": "cf74d221",
   "metadata": {},
   "outputs": [],
   "source": [
    "class private:\n",
    "    def __init__(self,name,email):\n",
    "        self.__name = name\n",
    "        self.__email = email\n",
    "        \n",
    "    def get_info(self):\n",
    "        return self.__name, self.__email\n",
    "    \n",
    "    def set_info(self,name,email):\n",
    "        self.__name = name\n",
    "        self.__email = email"
   ]
  },
  {
   "cell_type": "code",
   "execution_count": 2,
   "id": "6a69d462",
   "metadata": {},
   "outputs": [],
   "source": [
    "# create an object\n",
    "myobj = private('noor','abc@gmail,com')"
   ]
  },
  {
   "cell_type": "code",
   "execution_count": 3,
   "id": "d474bb98",
   "metadata": {},
   "outputs": [
    {
     "data": {
      "text/plain": [
       "('noor', 'abc@gmail,com')"
      ]
     },
     "execution_count": 3,
     "metadata": {},
     "output_type": "execute_result"
    }
   ],
   "source": [
    "# get the information\n",
    "myobj.get_info()"
   ]
  },
  {
   "cell_type": "code",
   "execution_count": 4,
   "id": "654d8fcc",
   "metadata": {},
   "outputs": [],
   "source": [
    "# set/change the information\n",
    "myobj.set_info('zaid','zaid@gmail.com')"
   ]
  },
  {
   "cell_type": "markdown",
   "id": "82f5ed99",
   "metadata": {},
   "source": [
    "## 4. Discuss the difference between public, private, and protected access modifiers in Python.\n"
   ]
  },
  {
   "cell_type": "markdown",
   "id": "4ace49c9",
   "metadata": {},
   "source": [
    "### Ans 4)\n",
    "- 1) Public Access: Attributes and methods that are accessible from outside the class without any restrictions. In Python, by default, all attributes and methods are public.\n",
    "- 2) Protected Access: Attributes and methods that are `accessible within the class and its subclasses`. In Python, we can denote a protected attribute by prefixing its name with a `single underscore (_)`.\n",
    "- 3) Private Access: Attributes and methods that are `accessible only within the class itself`. In Python, we can denote a private attribute by prefixing its name with a `double underscore (__)` but keep in mind that Python doesn't enforce true data hiding; it just performs name mangling (adding a prefix to the name to make it harder to access from outside the class)."
   ]
  },
  {
   "cell_type": "markdown",
   "id": "02800a25",
   "metadata": {},
   "source": [
    "## 5. Create a Python class called `Person` with a private attribute `__name`. Provide methods to get and set the name attribute.\n"
   ]
  },
  {
   "cell_type": "markdown",
   "id": "df7a517c",
   "metadata": {},
   "source": [
    "### Ans 5) "
   ]
  },
  {
   "cell_type": "code",
   "execution_count": 5,
   "id": "58dc46a7",
   "metadata": {},
   "outputs": [],
   "source": [
    "class Person:\n",
    "    def __init__(self, name):\n",
    "        self.__name = name\n",
    "        \n",
    "    def get_name(self):\n",
    "        return self.__name\n",
    "    \n",
    "    def set_name(self, name_set):\n",
    "        self.__name = name_set"
   ]
  },
  {
   "cell_type": "code",
   "execution_count": 6,
   "id": "dd94b6a3",
   "metadata": {},
   "outputs": [],
   "source": [
    "noor = Person('Noorain')"
   ]
  },
  {
   "cell_type": "code",
   "execution_count": 7,
   "id": "45972004",
   "metadata": {},
   "outputs": [
    {
     "data": {
      "text/plain": [
       "'Noorain'"
      ]
     },
     "execution_count": 7,
     "metadata": {},
     "output_type": "execute_result"
    }
   ],
   "source": [
    "noor.get_name()"
   ]
  },
  {
   "cell_type": "code",
   "execution_count": 8,
   "id": "fbde69e1",
   "metadata": {},
   "outputs": [],
   "source": [
    "noor.set_name('change name')"
   ]
  },
  {
   "cell_type": "code",
   "execution_count": 9,
   "id": "a37a8eb1",
   "metadata": {},
   "outputs": [
    {
     "data": {
      "text/plain": [
       "'change name'"
      ]
     },
     "execution_count": 9,
     "metadata": {},
     "output_type": "execute_result"
    }
   ],
   "source": [
    "noor.get_name()"
   ]
  },
  {
   "cell_type": "markdown",
   "id": "bcda343b",
   "metadata": {},
   "source": [
    "## 6. Explain the purpose of getter and setter methods in encapsulation. Provide examples.\n"
   ]
  },
  {
   "cell_type": "markdown",
   "id": "a2e1ef7c",
   "metadata": {},
   "source": [
    "- When we encapsulated a class using private methods and attributes then users can't access the information using variables and methods.\n",
    "- To give the users an option so that they can access or change the information without knowing the internal implementaion, getter and setter methods are used.\n",
    "- Getters are used to retrieve the values of private attributes, and setters are used to modify them.\n",
    "- Following is an ex- "
   ]
  },
  {
   "cell_type": "code",
   "execution_count": 10,
   "id": "6e21f171",
   "metadata": {},
   "outputs": [],
   "source": [
    "class Bank:\n",
    "    def __init__(self,location, cash, pin):\n",
    "        self.__location = location\n",
    "        self.__cash = cash\n",
    "        self.__pin = pin\n",
    "        \n",
    "    def getter(self):\n",
    "        return self.__location, self.__cash, self.__pin\n",
    "    \n",
    "    def setter(self,location, cash, pin):\n",
    "        self.__location = location\n",
    "        self.__cash = cash\n",
    "        self.__pin = pin"
   ]
  },
  {
   "cell_type": "code",
   "execution_count": 11,
   "id": "a012880b",
   "metadata": {},
   "outputs": [],
   "source": [
    "union = Bank('Bareilly',20000000, 141)"
   ]
  },
  {
   "cell_type": "code",
   "execution_count": 12,
   "id": "412e7c17",
   "metadata": {},
   "outputs": [
    {
     "data": {
      "text/plain": [
       "('Bareilly', 20000000, 141)"
      ]
     },
     "execution_count": 12,
     "metadata": {},
     "output_type": "execute_result"
    }
   ],
   "source": [
    "union.getter()"
   ]
  },
  {
   "cell_type": "code",
   "execution_count": 13,
   "id": "96567bde",
   "metadata": {},
   "outputs": [],
   "source": [
    "union.setter('Kanpur',0, 0)"
   ]
  },
  {
   "cell_type": "markdown",
   "id": "c1a92e8b",
   "metadata": {},
   "source": [
    "## 7. What is name mangling in Python, and how does it affect encapsulation?\n"
   ]
  },
  {
   "cell_type": "markdown",
   "id": "22ff04cc",
   "metadata": {},
   "source": [
    "### Ans 7)\n",
    "- Name mangling is a mechanism used in Python to make class attributes or methods private to the class where they are defined, thus providing a form of encapsulation. When a name is \"mangled,\" Python changes its name to incorporate the class name as a prefix, preventing accidental access or overriding by subclasses.\n",
    "\n",
    "- In Python, name mangling is achieved by prefixing the name of a class attribute or method with double underscores (__)."
   ]
  },
  {
   "cell_type": "markdown",
   "id": "a0287d31",
   "metadata": {},
   "source": [
    "## 8. Create a Python class called `BankAccount` with private attributes for the account balance (`__balance`) and account number (`__account_number`). Provide methods for depositing and withdrawing money.\n"
   ]
  },
  {
   "cell_type": "markdown",
   "id": "009d298e",
   "metadata": {},
   "source": [
    "### Ans 8) "
   ]
  },
  {
   "cell_type": "code",
   "execution_count": 13,
   "id": "67832dc4",
   "metadata": {},
   "outputs": [],
   "source": [
    "class BanckAccount:\n",
    "    def __init__(self, balance, account_number):\n",
    "        self.__balance = balance\n",
    "        self.__account_number = account_number\n",
    "        \n",
    "    def deposit(self, amount):\n",
    "        self.__balance = self.__balance + amount\n",
    "        return 'Money is deposited succesefully.'\n",
    "        \n",
    "    def withdaw(self, amount):\n",
    "        self.__balance = self.__balance - amount \n",
    "        return 'Money has been withdrawn succesefully.'"
   ]
  },
  {
   "cell_type": "code",
   "execution_count": 14,
   "id": "99224717",
   "metadata": {},
   "outputs": [],
   "source": [
    "# creating object\n",
    "mohan = BanckAccount(50000, 123456)"
   ]
  },
  {
   "cell_type": "code",
   "execution_count": 15,
   "id": "15423303",
   "metadata": {},
   "outputs": [
    {
     "data": {
      "text/plain": [
       "'Money is deposited succesefully.'"
      ]
     },
     "execution_count": 15,
     "metadata": {},
     "output_type": "execute_result"
    }
   ],
   "source": [
    "# depositing money\n",
    "mohan.deposit(10000)"
   ]
  },
  {
   "cell_type": "code",
   "execution_count": 16,
   "id": "ec978f35",
   "metadata": {},
   "outputs": [
    {
     "data": {
      "text/plain": [
       "'Money has been withdrawn succesefully.'"
      ]
     },
     "execution_count": 16,
     "metadata": {},
     "output_type": "execute_result"
    }
   ],
   "source": [
    "# withdrawing money\n",
    "mohan.withdaw(40000)"
   ]
  },
  {
   "cell_type": "markdown",
   "id": "9708414d",
   "metadata": {},
   "source": [
    "## 9. Discuss the advantages of encapsulation in terms of code maintainability and security."
   ]
  },
  {
   "cell_type": "markdown",
   "id": "2d73f966",
   "metadata": {},
   "source": [
    "### Ans 9)\n",
    "\n",
    "- 1) Security\n",
    "- By obscuring a class’s internal operations and exposing only what is necessary for external users to interact with the class, encapsulation enhances security. This stops unauthorized access to a class’s internal data.\n",
    "\n",
    "- 2) Maintaining and Code Reusability : \n",
    "- By hiding a class’s implementation details and exposing only the necessary methods, encapsulation aids in maintaining a clean codebase.\n",
    "- By enabling the creation of objects with clearly defined properties and behaviors, encapsulation promotes code reusability. This makes it simpler to reuse the code without having to change it in various areas of the program.\n",
    " \n",
    "\n"
   ]
  },
  {
   "cell_type": "markdown",
   "id": "374b2811",
   "metadata": {},
   "source": [
    "## 10. How can you access private attributes in Python? Provide an example demonstrating the use of name mangling.\n"
   ]
  },
  {
   "cell_type": "markdown",
   "id": "67a99740",
   "metadata": {},
   "source": [
    "### Ans 10)"
   ]
  },
  {
   "cell_type": "code",
   "execution_count": 17,
   "id": "91250f41",
   "metadata": {},
   "outputs": [],
   "source": [
    "class private:\n",
    "    def __init__(self, name):\n",
    "        self.__name = name"
   ]
  },
  {
   "cell_type": "code",
   "execution_count": 18,
   "id": "59265b99",
   "metadata": {},
   "outputs": [],
   "source": [
    "# creating object\n",
    "me = private('Noorain')"
   ]
  },
  {
   "cell_type": "code",
   "execution_count": 19,
   "id": "d28b4758",
   "metadata": {},
   "outputs": [
    {
     "data": {
      "text/plain": [
       "'Noorain'"
      ]
     },
     "execution_count": 19,
     "metadata": {},
     "output_type": "execute_result"
    }
   ],
   "source": [
    "# accessing private attribute of class using name mangling.\n",
    "me._private__name"
   ]
  },
  {
   "cell_type": "markdown",
   "id": "04df7e4e",
   "metadata": {},
   "source": [
    "## 11. Create a Python class hierarchy for a school system, including classes for students, teachers, and courses, and implement encapsulation principles to protect sensitive information.\n"
   ]
  },
  {
   "cell_type": "markdown",
   "id": "213858b6",
   "metadata": {},
   "source": [
    "### Ans 11)"
   ]
  },
  {
   "cell_type": "code",
   "execution_count": 32,
   "id": "b01810e9",
   "metadata": {},
   "outputs": [],
   "source": [
    "class courses:\n",
    "    def course_info(self):\n",
    "        self.course_list = ['Data Science','DSA','ML']\n",
    "        self.__course_price = {'Data Science':20000,'DSA':10000,'ML':15000}\n",
    "        return self.course_list\n",
    "    \n",
    "class teacher(courses):\n",
    "    def __init__(self, name, email, experience):\n",
    "        self.name = name\n",
    "        self.__email = email\n",
    "        self.experience = experience\n",
    "        \n",
    "    def teacher_info(self):\n",
    "        return self.name,self.experience\n",
    "    \n",
    "class student(courses):\n",
    "    def __init__(self, name, email, phoneNumber):\n",
    "        self.name = name\n",
    "        self.__email = email\n",
    "        self.__phoneNumber = phoneNumber\n",
    "        \n",
    "    def student_info(self):\n",
    "        return self.name  "
   ]
  },
  {
   "cell_type": "code",
   "execution_count": 33,
   "id": "26d22d6c",
   "metadata": {},
   "outputs": [
    {
     "name": "stdout",
     "output_type": "stream",
     "text": [
      "['Data Science', 'DSA', 'ML']\n",
      "('Sudhanshu', 'kafi hai')\n"
     ]
    }
   ],
   "source": [
    "sudh = teacher('Sudhanshu', 'sudh@gmail.com','kafi hai')\n",
    "print(sudh.course_info())\n",
    "print(sudh.teacher_info())"
   ]
  },
  {
   "cell_type": "code",
   "execution_count": 36,
   "id": "e5f43868",
   "metadata": {},
   "outputs": [
    {
     "name": "stdout",
     "output_type": "stream",
     "text": [
      "Noorain\n",
      "['Data Science', 'DSA', 'ML']\n"
     ]
    }
   ],
   "source": [
    "noor = student('Noorain','noo@gmail.com',12345667)\n",
    "print(noor.student_info())\n",
    "print(noor.course_info())"
   ]
  },
  {
   "cell_type": "markdown",
   "id": "85d4588b",
   "metadata": {},
   "source": [
    "## 12. Explain the concept of property decorators in Python and how they relate to encapsulation.\n"
   ]
  },
  {
   "cell_type": "markdown",
   "id": "86b6edb9",
   "metadata": {},
   "source": [
    "### Ans 12)\n",
    "- In Python, the property decorator is a powerful tool for implementing encapsulation by allowing controlled access to class attributes. It enables you to define getter, setter, and deleter methods for attributes while still accessing them as if they were simple attributes. This helps enforce data validation, calculations, or any other operations before getting or setting the attribute value.\n",
    "\n",
    "- Here's how the property decorator works:\n",
    "\n",
    "- Getter: It defines a method that retrieves the value of an attribute. This method is called whenever the attribute is accessed.\n",
    "- Setter: It defines a method that sets the value of an attribute. This method is called whenever the attribute is assigned a new value.\n",
    "- Deleter: It defines a method that deletes the attribute. This method is called when the del statement is used to delete the attribute.\n",
    "\n",
    "- Below is an ex- to illustrate how to use property decorator for encapsulation :  "
   ]
  },
  {
   "cell_type": "code",
   "execution_count": 14,
   "id": "46f8f065",
   "metadata": {},
   "outputs": [],
   "source": [
    "# Ques : is there any way to access the private variable without using name mangling ?\n",
    "# Ans : yes, using decorator.\n",
    "\n",
    "class faltu :\n",
    "    def __init__(self, name):\n",
    "        self.__name = name\n",
    "        \n",
    "    \n",
    "    ## inbuilt decorator, used to access,change the property,variable of a class.\n",
    "    @property\n",
    "    def access_private_var(self):\n",
    "        return self.__name\n",
    "    \n",
    "    ## to set the value of variable\n",
    "    @access_private_var.setter\n",
    "    def access_private_var(self,name):\n",
    "        self.__name = name\n",
    "        \n",
    "    ## to get the value of variable\n",
    "    @access_private_var.getter\n",
    "    def access_private_var(self):\n",
    "        return self.__name"
   ]
  },
  {
   "cell_type": "code",
   "execution_count": 20,
   "id": "2eea5c54",
   "metadata": {},
   "outputs": [],
   "source": [
    "me = faltu('noor')"
   ]
  },
  {
   "cell_type": "code",
   "execution_count": 21,
   "id": "262f1792",
   "metadata": {},
   "outputs": [
    {
     "data": {
      "text/plain": [
       "'noor'"
      ]
     },
     "execution_count": 21,
     "metadata": {},
     "output_type": "execute_result"
    }
   ],
   "source": [
    "me.access_private_var"
   ]
  },
  {
   "cell_type": "markdown",
   "id": "924e588d",
   "metadata": {},
   "source": [
    "## 13. What is data hiding, and why is it important in encapsulation? Provide examples.\n"
   ]
  },
  {
   "cell_type": "markdown",
   "id": "80787a87",
   "metadata": {},
   "source": [
    "### Ans13)\n",
    "- Data Hiding : Hiding the unncessary information from the user is called as data hiding.\n",
    "- The concept of data hiding is used in encapsulation to hide the internal implementation, methods or attributes from outside the world. \n",
    "- In below ex of code :\n",
    "- When i create an object for this class ,fatherincome and attributes of this class don't appear. Means they are hidden.\n",
    "- A user can only access info function to see the detials only.\n",
    "- This is how data hiding is used in encapsulation."
   ]
  },
  {
   "cell_type": "code",
   "execution_count": 22,
   "id": "f1bdb730",
   "metadata": {},
   "outputs": [],
   "source": [
    "class dataHiding:\n",
    "    def __init__(self, name, fathersname):\n",
    "        self.__name = name\n",
    "        self.__fathersname = fathersname\n",
    "        \n",
    "    def __fatherincome(self):\n",
    "        pass\n",
    "    \n",
    "    def info(self):\n",
    "        return self.__name, self.__fathersname"
   ]
  },
  {
   "cell_type": "code",
   "execution_count": 23,
   "id": "b7d72643",
   "metadata": {},
   "outputs": [],
   "source": [
    "da = dataHiding('me','papa')"
   ]
  },
  {
   "cell_type": "code",
   "execution_count": 24,
   "id": "f019ab5e",
   "metadata": {},
   "outputs": [
    {
     "data": {
      "text/plain": [
       "('me', 'papa')"
      ]
     },
     "execution_count": 24,
     "metadata": {},
     "output_type": "execute_result"
    }
   ],
   "source": [
    "da.info()"
   ]
  },
  {
   "cell_type": "markdown",
   "id": "46dc73e6",
   "metadata": {},
   "source": [
    "## 14. Create a Python class called `Employee` with private attributes for salary (`__salary`) and employee ID (`__employee_id`). Provide a method to calculate yearly bonuses.\n"
   ]
  },
  {
   "cell_type": "markdown",
   "id": "48110018",
   "metadata": {},
   "source": [
    "### Ans 14)"
   ]
  },
  {
   "cell_type": "code",
   "execution_count": 25,
   "id": "7ac6b2ee",
   "metadata": {},
   "outputs": [],
   "source": [
    "class Employee :\n",
    "    def __init__(self,salary,employee_id):\n",
    "        self.__salary = salary\n",
    "        self.__employee_id = employee_id\n",
    "        \n",
    "    def yearlyBonuse(self):\n",
    "        if self.__salary > 20000:\n",
    "            self.bonus = 3000\n",
    "            return {'Bonus':self.bonus , 'Salary' : self.__salary , 'Net Salary':self.__salary + self.bonus}"
   ]
  },
  {
   "cell_type": "code",
   "execution_count": 26,
   "id": "75586430",
   "metadata": {},
   "outputs": [],
   "source": [
    "emp1 = Employee(30000, 123)"
   ]
  },
  {
   "cell_type": "code",
   "execution_count": 27,
   "id": "027ab01e",
   "metadata": {},
   "outputs": [
    {
     "data": {
      "text/plain": [
       "{'Bonus': 3000, 'Salary': 30000, 'Net Salary': 33000}"
      ]
     },
     "execution_count": 27,
     "metadata": {},
     "output_type": "execute_result"
    }
   ],
   "source": [
    "emp1.yearlyBonuse()"
   ]
  },
  {
   "cell_type": "markdown",
   "id": "fa03c706",
   "metadata": {},
   "source": [
    "## 15. Discuss the use of accessors and mutators in encapsulation. How do they help maintain control over attribute access?\n"
   ]
  },
  {
   "cell_type": "markdown",
   "id": "7efd7c89",
   "metadata": {},
   "source": [
    "### Ans 15)\n",
    "- Accessors and mutators are also called as `getter` and  `setter`.\n",
    "- `Accessors` or `getter` method is used to get/access the value of private attribute of a class.\n",
    "- `Mutators` or `setter` method is used to set/alter the value of private attribute of a class.\n",
    "- So, you all must be acquainted with the fact that the internal data of an object must be kept private. But there should be \n",
    "- By creating getter and setter methods user can access/change the attributes values without knowing what is written internally.\n",
    "- In this way accessors and mutators help in maintaining control over attribute access."
   ]
  },
  {
   "cell_type": "markdown",
   "id": "05f808c6",
   "metadata": {},
   "source": [
    "## 16. What are the potential drawbacks or disadvantages of using encapsulation in Python?\n"
   ]
  },
  {
   "cell_type": "markdown",
   "id": "9f3044d1",
   "metadata": {},
   "source": [
    "### Ans 16) \n",
    "- Following are the disadvantages of encapsulation in Python:\n",
    "\n",
    "1. Complexity: Overusing encapsulation can lead to code complexity and verbosity, making the code harder to understand.\n",
    "- Example: Extremely fine-grained encapsulation with numerous getters and setters can clutter the codebase.\n",
    "\n",
    "2. Performance Overhead: Accessing data through methods can introduce a slight performance overhead compared to direct attribute access.\n",
    "- Example: In high-performance applications, frequent method calls for simple attribute access can impact speed.\n",
    "\n",
    "3. Name Mangling: The use of name mangling to access private members can lead to less readable and maintainable code.\n",
    "- Example: Accessing private members using name mangling involves complex naming conventions and may confuse developers.\n",
    "\n",
    "4. Limited Flexibility: Overly strict encapsulation can limit flexibility and make it challenging to extend or modify a class.\n",
    "- Example: If a class encapsulates data and operations too tightly, making changes in the class requires extensive modifications.\n",
    "\n",
    "5. Complexity in Testing: Testing encapsulated code can be more complex, as you need to write additional test methods to access encapsulated data.\n",
    "- Example: In unit testing, you have to create extra methods to set encapsulated data for testing purposes."
   ]
  },
  {
   "cell_type": "markdown",
   "id": "95a1c39b",
   "metadata": {},
   "source": [
    "## 17. Create a Python class for a library system that encapsulates book information, including titles, authors, and availability status."
   ]
  },
  {
   "cell_type": "markdown",
   "id": "185d3acb",
   "metadata": {},
   "source": [
    "### Asn 17)\n",
    "- In question it is said to encapsulate the book information.\n",
    "- Encapsulate means bundle the methods and attributes in a class.\n",
    "- Following is an ex -"
   ]
  },
  {
   "cell_type": "code",
   "execution_count": 29,
   "id": "2b5deec6",
   "metadata": {},
   "outputs": [
    {
     "name": "stdout",
     "output_type": "stream",
     "text": [
      "Available Books:\n",
      "The Great Gatsby by F. Scott Fitzgerald\n",
      "To Kill a Mockingbird by Harper Lee\n",
      "1984 by George Orwell\n",
      "Available Books:\n",
      "To Kill a Mockingbird by Harper Lee\n",
      "1984 by George Orwell\n"
     ]
    }
   ],
   "source": [
    "class Book:\n",
    "    def __init__(self, title, author):\n",
    "        self.title = title\n",
    "        self.author = author\n",
    "        self.available = True\n",
    "\n",
    "    def __str__(self):\n",
    "        return f\"{self.title} by {self.author}\"\n",
    "\n",
    "class Library:\n",
    "    def __init__(self):\n",
    "        self.books = []\n",
    "\n",
    "    def add_book(self, book):\n",
    "        self.books.append(book)\n",
    "\n",
    "    def remove_book(self, book):\n",
    "        self.books.remove(book)\n",
    "\n",
    "    def search_book(self, title):\n",
    "        for book in self.books:\n",
    "            if book.title.lower() == title.lower():\n",
    "                return book\n",
    "        return None\n",
    "\n",
    "    def display_available_books(self):\n",
    "        print(\"Available Books:\")\n",
    "        for book in self.books:\n",
    "            if book.available:\n",
    "                print(book)\n",
    "\n",
    "# Example usage:\n",
    "\n",
    "# Create some book objects\n",
    "book1 = Book(\"The Great Gatsby\", \"F. Scott Fitzgerald\")\n",
    "book2 = Book(\"To Kill a Mockingbird\", \"Harper Lee\")\n",
    "book3 = Book(\"1984\", \"George Orwell\")\n",
    "\n",
    "# Create a library and add books to it\n",
    "library = Library()\n",
    "library.add_book(book1)\n",
    "library.add_book(book2)\n",
    "library.add_book(book3)\n",
    "\n",
    "# Display available books\n",
    "library.display_available_books()\n",
    "\n",
    "# Mark a book as borrowed\n",
    "book_to_borrow = library.search_book(\"The Great Gatsby\")\n",
    "if book_to_borrow:\n",
    "    book_to_borrow.available = False\n",
    "\n",
    "# Display available books again\n",
    "library.display_available_books()\n"
   ]
  },
  {
   "cell_type": "markdown",
   "id": "5e6a2c10",
   "metadata": {},
   "source": [
    "## 18. Explain how encapsulation enhances code reusability and modularity in Python programs.\n"
   ]
  },
  {
   "cell_type": "markdown",
   "id": "5106be6a",
   "metadata": {},
   "source": [
    "### Ans 18) \n",
    "- Code Modularity: Encapsulation promotes a modular code design by bundling related data and functionality within a class. This makes the code easier to manage, maintain, and extend.\n",
    "- Example: Grouping attributes and methods related to a specific entity, like an employee or a car, within a class.\n",
    "\n",
    "- Code Reusability: Encapsulation promotes code reusability. Well-encapsulated classes can be easily integrated into different parts of an application, reducing duplication and improving code consistency.\n",
    "- Example: Using a Person class to manage user data consistently in various modules of an application."
   ]
  },
  {
   "cell_type": "markdown",
   "id": "48e1948b",
   "metadata": {},
   "source": [
    "## 19. Describe the concept of information hiding in encapsulation. Why is it essential in software development?"
   ]
  },
  {
   "cell_type": "markdown",
   "id": "74c5a0d7",
   "metadata": {},
   "source": [
    "### Ans 19)\n",
    "- 1) Information hiding :\n",
    "- In Python, information hiding refers to the practice of concealing the internal details of a class (such as its attributes and methods) from the outside world, while still providing controlled access to them through well-defined interfaces. This is typically achieved by marking attributes or methods as private, using naming conventions or access modifiers.\n",
    "\n",
    "- Python provides a mechanism called name mangling to indicate that a method or attribute should be treated as private. By prefixing an attribute or method name with double underscores (__), Python automatically mangles the name, making it more difficult to access from outside the class.\n",
    "\n",
    "- 2) Essentails of information hiding in encapsulation : \n",
    "- Encapsulation: Information hiding is a key aspect of encapsulation, which bundles data and methods together within a class, providing a clean interface for interacting with the class while hiding its internal implementation details.\n",
    "\n",
    "- Security: By hiding internal details, information hiding helps prevent unauthorized access and manipulation of sensitive data. This enhances security and reduces the risk of data breaches or unintended modifications.\n",
    "\n",
    "- Abstraction: Information hiding allows developers to abstract away complexity and focus on the essential aspects of a class's behavior. Users of the class only need to know how to interact with its public interface, rather than understanding its internal workings.\n",
    "\n",
    "- Flexibility: Hiding implementation details behind a well-defined interface provides flexibility to modify or improve the internal implementation without affecting external code. This promotes code reuse and enables easier maintenance and evolution of software systems."
   ]
  },
  {
   "cell_type": "markdown",
   "id": "7fd52312",
   "metadata": {},
   "source": [
    "## 20. Create a Python class called `Customer` with private attributes for customer details like name, address, and contact information. Implement encapsulation to ensure data integrity and security."
   ]
  },
  {
   "cell_type": "markdown",
   "id": "45610c38",
   "metadata": {},
   "source": [
    "### Ans 20)"
   ]
  },
  {
   "cell_type": "code",
   "execution_count": 30,
   "id": "768e0896",
   "metadata": {},
   "outputs": [],
   "source": [
    "class Customer:\n",
    "    def __init__(self, name, address, contact_info):\n",
    "        self.__name = name\n",
    "        self.__address = address\n",
    "        self.__contact_info = contact_info\n",
    "        \n",
    "    def get_info(self):\n",
    "        return  self.__name, self.__address, self.__contact_info\n",
    "    \n",
    "    def set_info(self, name, address, contact_info):\n",
    "        self.__name = name\n",
    "        self.__address = address\n",
    "        self.__contact_info = contact_info"
   ]
  },
  {
   "cell_type": "code",
   "execution_count": 31,
   "id": "f9f91238",
   "metadata": {},
   "outputs": [],
   "source": [
    "me = Customer('noorain','bareilly',124356778)"
   ]
  },
  {
   "cell_type": "code",
   "execution_count": 32,
   "id": "e57d89a5",
   "metadata": {},
   "outputs": [
    {
     "data": {
      "text/plain": [
       "('noorain', 'bareilly', 124356778)"
      ]
     },
     "execution_count": 32,
     "metadata": {},
     "output_type": "execute_result"
    }
   ],
   "source": [
    "me.get_info()"
   ]
  },
  {
   "cell_type": "markdown",
   "id": "a03dabcf",
   "metadata": {},
   "source": [
    "## Polymorphism"
   ]
  },
  {
   "cell_type": "markdown",
   "id": "47ce638e",
   "metadata": {},
   "source": [
    "## 1. What is polymorphism in Python? Explain how it is related to object-oriented programming."
   ]
  },
  {
   "cell_type": "markdown",
   "id": "0269543e",
   "metadata": {},
   "source": [
    "### Ans 1)\n",
    "\n",
    "- Poly : many , morphism : forms \n",
    "- Polymorphism : something with different forms.\n",
    "- For ex- you are a person who goes to office monday ot friday and work as en employee, then sat and sun you teachstudents where you work as a teacher. At home you are a son of your father, you also a brother of sister...etc\n",
    "\n",
    "- So the thing is you are the same person but have different nature/behaviour in diff conditions...so basicaly you are an object and you behave differently in different scenarios.\n",
    "\n",
    "- This is the concept of polymorphism.\n",
    "\n",
    "- `Polymorphism` is a fundamental concept in object oriented programming. It is an ability of a function to perform different functionalities."
   ]
  },
  {
   "cell_type": "markdown",
   "id": "ef323034",
   "metadata": {},
   "source": [
    "## 2. Describe the difference between compile-time polymorphism and runtime polymorphism in Python."
   ]
  },
  {
   "cell_type": "markdown",
   "id": "22e640d9",
   "metadata": {},
   "source": [
    "### Ans 2)\n",
    "- In Python, the distinction between compile-time polymorphism (static polymorphism) and runtime polymorphism (dynamic polymorphism) is less explicit compared to statically typed languages like C++ or Java. However, we can still draw some parallels:\n",
    "\n",
    "- 1) Compile-time polymorphism in Python:\n",
    "- In Python, compile-time polymorphism is typically achieved through function overloading or operator overloading.\n",
    "- Operator overloading is supported in Python through special methods like __add__, __sub__, etc., allowing custom behavior for operators.\n",
    "- These decisions are resolved at runtime rather than compile-time because Python is dynamically typed and does not have a separate compilation step.\n",
    "\n",
    "- 2) Runtime polymorphism in Python:\n",
    "- Runtime polymorphism in Python is mainly achieved through inheritance and method overriding.\n",
    "- Inheritance allows subclasses to inherit attributes and methods from their superclass.\n",
    "- Method overriding occurs when a method in a subclass has the same name and signature (but different implementation) as a method in its superclass.\n",
    "- Python uses dynamic dispatch to determine which method implementation to call at runtime based on the actual type of the object.\n",
    "- This dynamic dispatch is a characteristic of runtime polymorphism where the method to be executed is determined dynamically based on the type of the object at runtime."
   ]
  },
  {
   "cell_type": "markdown",
   "id": "fd48bb28",
   "metadata": {},
   "source": [
    "## 3. Create a Python class hierarchy for shapes (e.g., circle, square, triangle) and demonstrate polymorphism through a common method, such as `calculate_area()`."
   ]
  },
  {
   "cell_type": "markdown",
   "id": "87fd3f20",
   "metadata": {},
   "source": [
    "### Ans 3) "
   ]
  },
  {
   "cell_type": "code",
   "execution_count": 10,
   "id": "72cc0820",
   "metadata": {},
   "outputs": [
    {
     "name": "stdout",
     "output_type": "stream",
     "text": [
      "Area of the circle: 78.5\n",
      "Area of the square: 16\n",
      "Area of the triangle: 9.0\n"
     ]
    }
   ],
   "source": [
    "class Shape:\n",
    "    def calculate_area(self):\n",
    "        pass\n",
    "\n",
    "class Circle(Shape):\n",
    "    def __init__(self, radius):\n",
    "        self.radius = radius\n",
    "    \n",
    "    def calculate_area(self):\n",
    "        return 3.14 * self.radius ** 2\n",
    "\n",
    "class Square(Shape):\n",
    "    def __init__(self, side_length):\n",
    "        self.side_length = side_length\n",
    "    \n",
    "    def calculate_area(self):\n",
    "        return self.side_length ** 2\n",
    "\n",
    "class Triangle(Shape):\n",
    "    def __init__(self, base, height):\n",
    "        self.base = base\n",
    "        self.height = height\n",
    "    \n",
    "    def calculate_area(self):\n",
    "        return 0.5 * self.base * self.height\n",
    "\n",
    "# Create instances of different shapes\n",
    "circle = Circle(5)\n",
    "square = Square(4)\n",
    "triangle = Triangle(3, 6)\n",
    "\n",
    "# Calculate and print the areas of different shapes\n",
    "print(\"Area of the circle:\", circle.calculate_area())\n",
    "print(\"Area of the square:\", square.calculate_area())\n",
    "print(\"Area of the triangle:\", triangle.calculate_area())\n"
   ]
  },
  {
   "cell_type": "markdown",
   "id": "06246b07",
   "metadata": {},
   "source": [
    "## 4. Explain the concept of method overriding in polymorphism. Provide an example."
   ]
  },
  {
   "cell_type": "markdown",
   "id": "b8fb8505",
   "metadata": {},
   "source": [
    "### Ans 4) \n",
    "\n",
    "- Method overriding is a concept in object-oriented programming where a subclass provides a specific implementation of a method that is already defined in its superclass. When a method is overridden in a subclass, the subclass version of the method is used instead of the superclass version when an object of the subclass is involved.\n",
    "\n",
    "- Here's a breakdown of method overriding in polymorphism:\n",
    "\n",
    "- 1) Inheritance: Method overriding is closely related to inheritance. When a subclass inherits from a superclass, it inherits all the methods defined in the superclass.\n",
    "- 2) Subclass Overrides Method: The subclass can provide its own implementation of a method that it inherits from its superclass. This is known as method overriding.\n",
    "- 3) Same Method Signature: For method overriding to occur, the method in the subclass must have the same name, return type, and parameter list (method signature) as the method in the superclass."
   ]
  },
  {
   "cell_type": "code",
   "execution_count": 12,
   "id": "3e05af27",
   "metadata": {},
   "outputs": [
    {
     "name": "stdout",
     "output_type": "stream",
     "text": [
      "Woof!\n",
      "Meow!\n"
     ]
    }
   ],
   "source": [
    "class Animal:\n",
    "    def make_sound(self):\n",
    "        return \"Generic animal sound\"\n",
    "\n",
    "class Dog(Animal):\n",
    "    def make_sound(self):\n",
    "        return \"Woof!\"\n",
    "\n",
    "class Cat(Animal):\n",
    "    def make_sound(self):\n",
    "        return \"Meow!\"\n",
    "\n",
    "# Create instances of Dog and Cat\n",
    "dog = Dog()\n",
    "cat = Cat()\n",
    "\n",
    "# Call the make_sound() method on each object\n",
    "print(dog.make_sound())  # Output: Woof!\n",
    "print(cat.make_sound())  # Output: Meow!\n"
   ]
  },
  {
   "cell_type": "markdown",
   "id": "45bbc6f6",
   "metadata": {},
   "source": [
    "- In this example:\n",
    "\n",
    "- We have a superclass Animal with a method make_sound() that returns a generic animal sound.\n",
    "- The Dog and Cat classes inherit from the Animal class and override the make_sound() method with their specific implementations (Woof! for Dog and Meow! for Cat).\n",
    "- When we call the make_sound() method on objects of the Dog and Cat classes, Python dynamically dispatches the call to the appropriate overridden method based on the actual type of the object, demonstrating polymorphism through method overriding."
   ]
  },
  {
   "cell_type": "markdown",
   "id": "e0711068",
   "metadata": {},
   "source": [
    "## 5. How is polymorphism different from method overloading in Python? Provide examples for both."
   ]
  },
  {
   "cell_type": "markdown",
   "id": "e3bf139b",
   "metadata": {},
   "source": [
    "### Ans 5)\n",
    "- 1) Polymorphism:\n",
    "- Polymorphism refers to the ability of different objects to respond to the same message (method call) in different ways. \n",
    "- It allows objects of different classes to be treated as objects of a common superclass, and method calls on these objects may invoke different implementations based on the actual type of the object.\n",
    "- In Python, polymorphism is typically achieved through method overriding, where subclasses provide their own implementations of methods inherited from a superclass.\n",
    "- Python uses dynamic dispatch to determine which method implementation to call based on the actual type of the object at runtime.\n",
    "\n",
    "\n",
    "- 2)Method Overloading:\n",
    "- Method overloading refers to the ability to define multiple methods with the same name but with different parameters or argument lists within a single class.\n",
    "- method overloading allows you to define multiple methods with the same name but different parameter types or numbers."
   ]
  },
  {
   "cell_type": "code",
   "execution_count": 15,
   "id": "080a8737",
   "metadata": {},
   "outputs": [
    {
     "name": "stdout",
     "output_type": "stream",
     "text": [
      "White\n",
      "Brown\n"
     ]
    }
   ],
   "source": [
    "# ex- of polymorphism\n",
    "\n",
    "class Animal:\n",
    "    def color(self,color_name):\n",
    "        pass\n",
    "        \n",
    "class cat(Animal):\n",
    "    def color(self,color_name):\n",
    "        self.color_name = color_name\n",
    "        return self.color_name\n",
    "class dog(Animal):\n",
    "    def color(self,color_name):\n",
    "        self.color_name = color_name\n",
    "        return self.color_name\n",
    "        \n",
    "        \n",
    "        \n",
    "persian = cat()\n",
    "bull = dog()\n",
    "\n",
    "print(persian.color('White'))\n",
    "print(bull.color('Brown'))"
   ]
  },
  {
   "cell_type": "code",
   "execution_count": 17,
   "id": "9bc2d825",
   "metadata": {},
   "outputs": [
    {
     "name": "stdout",
     "output_type": "stream",
     "text": [
      "5\n",
      "meyou\n"
     ]
    }
   ],
   "source": [
    "# ex- of overloading\n",
    "\n",
    "class math_ops:\n",
    "    def plus(self,x,y):\n",
    "        return x+y\n",
    "    \n",
    "    \n",
    "ad1 = math_ops()\n",
    "\n",
    "print(ad1.plus(2,3))\n",
    "print(ad1.plus('me','you'))"
   ]
  },
  {
   "cell_type": "markdown",
   "id": "8168fce3",
   "metadata": {},
   "source": [
    "## 6. Create a Python class called `Animal` with a method `speak()`. Then, create child classes like `Dog`, `Cat`, and `Bird`, each with their own `speak()` method. Demonstrate polymorphism by calling the `speak()` method on objects of different subclasses."
   ]
  },
  {
   "cell_type": "markdown",
   "id": "c2ca3ed0",
   "metadata": {},
   "source": [
    "### Ans 6)"
   ]
  },
  {
   "cell_type": "code",
   "execution_count": 19,
   "id": "9f6b8d96",
   "metadata": {},
   "outputs": [
    {
     "name": "stdout",
     "output_type": "stream",
     "text": [
      "Bird speaks : Chu! Chu!\n",
      "Cat speaks : Mew! Mew!\n",
      "Dog speaks : Woof! Woof!\n"
     ]
    }
   ],
   "source": [
    "class Animal:\n",
    "    def speak(self):\n",
    "        pass\n",
    "    \n",
    "    \n",
    "    \n",
    "class Dog(Animal):\n",
    "    def speak(self):\n",
    "        return 'Dog speaks : ' + 'Woof! Woof!'\n",
    "    \n",
    "class Cat(Animal):\n",
    "    def speak(self):\n",
    "        return 'Cat speaks : ' + 'Mew! Mew!'\n",
    "    \n",
    "class Bird(Animal):\n",
    "    def speak(self):\n",
    "        return 'Bird speaks : ' + 'Chu! Chu!'\n",
    "    \n",
    "    \n",
    "    \n",
    "sparrow = Bird()\n",
    "persian = Cat()\n",
    "bull = Dog()\n",
    "\n",
    "\n",
    "print(sparrow.speak())\n",
    "print(persian.speak())\n",
    "print(bull.speak())"
   ]
  },
  {
   "cell_type": "markdown",
   "id": "d9128794",
   "metadata": {},
   "source": [
    "## 7. Discuss the use of abstract methods and classes in achieving polymorphism in Python. Provide an example using the `abc` module."
   ]
  },
  {
   "cell_type": "markdown",
   "id": "19bc2ce9",
   "metadata": {},
   "source": [
    "### Ans 7) \n",
    "- Abstract methods and classes play a crucial role in achieving polymorphism in Python by defining a blueprint for subclasses to follow. Abstract methods are methods declared but not implemented in the abstract class, leaving the implementation details to the subclasses. Abstract classes cannot be instantiated directly; they serve as a template for creating subclasses that provide concrete implementations for abstract methods.\n",
    "\n",
    "- In Python, abstract classes are typically defined using the `abc` (Abstract Base Classes) module, which provides the `ABC` class and the `abstractmethod` decorator to define abstract methods.\n",
    "\n",
    "- Here's an example demonstrating the use of abstract methods and classes to achieve polymorphism in Python:"
   ]
  },
  {
   "cell_type": "code",
   "execution_count": 11,
   "id": "93d08e0e",
   "metadata": {},
   "outputs": [
    {
     "name": "stdout",
     "output_type": "stream",
     "text": [
      "Area of circle: 78.5\n",
      "Area of rectangle: 24\n",
      "Area of triangle: 10.5\n"
     ]
    }
   ],
   "source": [
    "from abc import ABC, abstractmethod\n",
    "\n",
    "# Abstract class representing a Shape\n",
    "class Shape(ABC):\n",
    "    @abstractmethod\n",
    "    def area(self):\n",
    "        pass\n",
    "\n",
    "# Concrete subclass representing a Circle\n",
    "class Circle(Shape):\n",
    "    def __init__(self, radius):\n",
    "        self.radius = radius\n",
    "\n",
    "    def area(self):\n",
    "        return 3.14 * self.radius ** 2\n",
    "\n",
    "# Concrete subclass representing a Rectangle\n",
    "class Rectangle(Shape):\n",
    "    def __init__(self, width, height):\n",
    "        self.width = width\n",
    "        self.height = height\n",
    "\n",
    "    def area(self):\n",
    "        return self.width * self.height\n",
    "\n",
    "# Concrete subclass representing a Triangle\n",
    "class Triangle(Shape):\n",
    "    def __init__(self, base, height):\n",
    "        self.base = base\n",
    "        self.height = height\n",
    "\n",
    "    def area(self):\n",
    "        return 0.5 * self.base * self.height\n",
    "\n",
    "# Function to calculate the area of any shape\n",
    "def calculate_area(shape):\n",
    "    return shape.area()\n",
    "\n",
    "# Usage example\n",
    "circle = Circle(5)\n",
    "rectangle = Rectangle(4, 6)\n",
    "triangle = Triangle(3, 7)\n",
    "\n",
    "print(\"Area of circle:\", calculate_area(circle))\n",
    "print(\"Area of rectangle:\", calculate_area(rectangle))\n",
    "print(\"Area of triangle:\", calculate_area(triangle))"
   ]
  },
  {
   "cell_type": "markdown",
   "id": "93063039",
   "metadata": {},
   "source": [
    "- In this example:\n",
    "\n",
    "- The `Shape` class is an abstract class that defines an abstract method `area()`. Subclasses of `Shape` are required to provide a concrete implementation of the `area()` method.\n",
    "- Concrete subclasses (`Circle`, `Rectangle`, `Triangle`) inherit from the `Shape` class and implement the `area()` method according to their specific shapes.\n",
    "- The `calculate_area()` function demonstrates polymorphism by accepting any object that inherits from the `Shape` class and calling its `area()` method, regardless of the specific subclass.\n",
    "\n",
    "- By defining an abstract class with abstract methods, we enforce a contract that all subclasses must adhere to, ensuring a consistent interface for polymorphic behavior. This allows us to treat objects of different shapes uniformly, calling the same method (`area()`) regardless of their specific implementations."
   ]
  },
  {
   "cell_type": "markdown",
   "id": "0acd9965",
   "metadata": {},
   "source": [
    "## 8. Create a Python class hierarchy for a vehicle system (e.g., car, bicycle, boat) and implement a polymorphic `start()` method that prints a message specific to each vehicle type."
   ]
  },
  {
   "cell_type": "markdown",
   "id": "e70cc992",
   "metadata": {},
   "source": [
    "### Ans 8)"
   ]
  },
  {
   "cell_type": "code",
   "execution_count": 21,
   "id": "89d3eb4a",
   "metadata": {},
   "outputs": [
    {
     "name": "stdout",
     "output_type": "stream",
     "text": [
      "Four wheels\n",
      "Two wheels\n",
      "No wheel.\n"
     ]
    }
   ],
   "source": [
    "class vehicle:\n",
    "    def start(self):\n",
    "        pass\n",
    "\n",
    "\n",
    "class car(vehicle):\n",
    "    def start(self):\n",
    "        return 'Four wheels'\n",
    "class bicycle(vehicle):\n",
    "    def start(self):\n",
    "        return 'Two wheels'\n",
    "class boat(vehicle):\n",
    "    def start(self):\n",
    "        return 'No wheel.'\n",
    "    \n",
    "    \n",
    "lambo = car()\n",
    "cycle = bicycle()\n",
    "bt = boat()\n",
    "\n",
    "print(lambo.start())\n",
    "print(cycle.start())\n",
    "print(bt.start())"
   ]
  },
  {
   "cell_type": "markdown",
   "id": "dfa1cf78",
   "metadata": {},
   "source": [
    "## 9. Explain the significance of the `isinstance()` and `issubclass()` functions in Python polymorphism."
   ]
  },
  {
   "cell_type": "markdown",
   "id": "e742c2b7",
   "metadata": {},
   "source": [
    "### Ans 9)\n",
    "\n",
    "- The isinstance() and issubclass() functions in Python play significant roles, they allow us to check object types and class hierarchies dynamically.\n",
    "\n",
    "- 1) isinstance() Function:\n",
    "- The isinstance() function is used to check if an object belongs to a specific class or its subclass.\n",
    "- Syntax: isinstance(object, classinfo)\n",
    "- It returns True if the object is an instance of the specified classinfo, or its subclass; otherwise, it returns False.\n",
    "- This function is commonly used in polymorphic scenarios to determine the type of an object before performing operations specific to that type.\n",
    "- It helps in writing code that can handle different types of objects in a flexible and polymorphic manner.\n",
    "\n",
    "- 2) issubclass() Function:\n",
    "- The issubclass() function is used to check if a class is a subclass of another class.\n",
    "- Syntax: issubclass(class, classinfo)\n",
    "- It returns True if the class is a subclass of classinfo; otherwise, it returns False.\n",
    "- This function is particularly useful when designing class hierarchies and implementing polymorphism through inheritance.\n",
    "- It allows you to check class relationships dynamically, which is essential for polymorphism because it enables you to write code that can handle objects of different subclasses uniformly.\n",
    "\n",
    "- Significance in Polymorphism:\n",
    "- isinstance() and issubclass() functions are essential tools for implementing and leveraging polymorphism in Python. They enable dynamic type checking and class hierarchy exploration, which are fundamental aspects of polymorphic behavior."
   ]
  },
  {
   "cell_type": "markdown",
   "id": "d2aaf558",
   "metadata": {},
   "source": [
    "## 10. What is the role of the `@abstractmethod` decorator in achieving polymorphism in Python? Provide an example."
   ]
  },
  {
   "cell_type": "markdown",
   "id": "b9ab6132",
   "metadata": {},
   "source": [
    "### Ans 10)\n",
    "\n",
    "- The `@abstractmethod` decorator in Python, provided by the `abc` (Abstract Base Classes) module, is used to declare abstract methods within abstract classes. Abstract methods are methods that are declared but not implemented in the abstract class itself; instead, they must be implemented by subclasses. This helps enforce a contract that subclasses must adhere to, ensuring consistent behavior across different implementations.\n",
    "\n",
    "- The `@abstractmethod` decorator marks a method as abstract, indicating that it must be overridden by any concrete subclass. Attempting to instantiate a class with abstract methods directly will raise a `TypeError`.\n",
    "\n",
    "- Here's an example demonstrating the role of the `@abstractmethod` decorator in achieving polymorphism in Python:"
   ]
  },
  {
   "cell_type": "code",
   "execution_count": 12,
   "id": "56122d73",
   "metadata": {},
   "outputs": [
    {
     "name": "stdout",
     "output_type": "stream",
     "text": [
      "Area of circle: 78.5\n",
      "Area of rectangle: 24\n",
      "Area of triangle: 10.5\n"
     ]
    }
   ],
   "source": [
    "from abc import ABC, abstractmethod\n",
    "\n",
    "# Abstract class representing a Shape\n",
    "class Shape(ABC):\n",
    "    @abstractmethod\n",
    "    def area(self):\n",
    "        pass\n",
    "\n",
    "# Concrete subclass representing a Circle\n",
    "class Circle(Shape):\n",
    "    def __init__(self, radius):\n",
    "        self.radius = radius\n",
    "\n",
    "    def area(self):\n",
    "        return 3.14 * self.radius ** 2\n",
    "\n",
    "# Concrete subclass representing a Rectangle\n",
    "class Rectangle(Shape):\n",
    "    def __init__(self, width, height):\n",
    "        self.width = width\n",
    "        self.height = height\n",
    "\n",
    "    def area(self):\n",
    "        return self.width * self.height\n",
    "\n",
    "# Concrete subclass representing a Triangle\n",
    "class Triangle(Shape):\n",
    "    def __init__(self, base, height):\n",
    "        self.base = base\n",
    "        self.height = height\n",
    "\n",
    "    def area(self):\n",
    "        return 0.5 * self.base * self.height\n",
    "\n",
    "    \n",
    "# Usage example\n",
    "circle = Circle(5)\n",
    "rectangle = Rectangle(4, 6)\n",
    "triangle = Triangle(3, 7)\n",
    "\n",
    "print(\"Area of circle:\", circle.area())\n",
    "print(\"Area of rectangle:\", rectangle.area())\n",
    "print(\"Area of triangle:\", triangle.area())"
   ]
  },
  {
   "cell_type": "markdown",
   "id": "f44ac602",
   "metadata": {},
   "source": [
    "## 11. Create a Python class called `Shape` with a polymorphic method `area()` that calculates the area of different shapes (e.g., circle, rectangle, triangle)."
   ]
  },
  {
   "cell_type": "markdown",
   "id": "e9d5879a",
   "metadata": {},
   "source": [
    "### Ans 11)"
   ]
  },
  {
   "cell_type": "code",
   "execution_count": 3,
   "id": "e9c60015",
   "metadata": {},
   "outputs": [
    {
     "name": "stdout",
     "output_type": "stream",
     "text": [
      "Area of circle : 28.26\n",
      "Area of Rectangle : 12\n",
      "Area of Triangle : 7.5\n"
     ]
    }
   ],
   "source": [
    "class shape:\n",
    "    def area(self, *args):\n",
    "        if len(args) == 1:\n",
    "            return 'Area of circle : ' + str(3.14*args[0]**2)\n",
    "        \n",
    "        elif len(args) == 2:\n",
    "            return 'Area of Rectangle : ' + str(args[0]*args[1])\n",
    "        \n",
    "        elif len(args) == 3:\n",
    "            return 'Area of Triangle : ' + str((args[0]*args[1])/2)    \n",
    "        else:\n",
    "            return 'Invalid input.'\n",
    "\n",
    "# creating object of shape\n",
    "shp = shape()\n",
    "\n",
    "# calling area function to find area of diff shapes\n",
    "print(shp.area(3))\n",
    "print(shp.area(3,4))\n",
    "print(shp.area(3,5,None))"
   ]
  },
  {
   "cell_type": "markdown",
   "id": "66c547f9",
   "metadata": {},
   "source": [
    "## 12. Discuss the benefits of polymorphism in terms of code reusability and flexibility in Python programs.\n"
   ]
  },
  {
   "cell_type": "markdown",
   "id": "e4a0ee3c",
   "metadata": {},
   "source": [
    "### Ans 12)\n",
    "\n",
    "- Benefits of Polymorphism:\n",
    "\n",
    "- 1) Code Reusability: Polymorphism allows us to reuse code by invoking methods via a common interface, which reduces code duplication and improves modularity.\n",
    "- 2) Flexibility: By considering objects of multiple classes as instances of a superclass, we may build generic code that works with various objects, enhancing flexibility and adaptability."
   ]
  },
  {
   "cell_type": "markdown",
   "id": "ff29b7df",
   "metadata": {},
   "source": [
    "## 13. Explain the use of the `super()` function in Python polymorphism. How does it help call methods of parent classes?"
   ]
  },
  {
   "cell_type": "markdown",
   "id": "970493eb",
   "metadata": {},
   "source": [
    "### Ans 13) \n",
    "\n",
    "- In Python, super() is a built-in function that allows you to access methods and properties from a parent class within a subclass. It's particularly useful in the context of polymorphism, where you have multiple classes with similar methods but different implementations.\n",
    "\n",
    "- Following is an ex- "
   ]
  },
  {
   "cell_type": "code",
   "execution_count": 4,
   "id": "d6f00180",
   "metadata": {},
   "outputs": [
    {
     "name": "stdout",
     "output_type": "stream",
     "text": [
      "Hello from Parent\n",
      "Hello from Parent and Child\n"
     ]
    }
   ],
   "source": [
    "class Parent:\n",
    "    def greet(self):\n",
    "        return \"Hello from Parent\"\n",
    "\n",
    "class Child(Parent):\n",
    "    def greet(self):\n",
    "        # Call parent class method using super()\n",
    "        parent_greeting = super().greet()\n",
    "        return f\"{parent_greeting} and Child\"\n",
    "\n",
    "# Create instances of classes\n",
    "parent = Parent()\n",
    "child = Child()\n",
    "\n",
    "# Call methods\n",
    "print(parent.greet())  # Output: Hello from Parent\n",
    "print(child.greet())   # Output: Hello from Parent and Child\n"
   ]
  },
  {
   "cell_type": "markdown",
   "id": "98559ed6",
   "metadata": {},
   "source": [
    "## 14. Create a Python class hierarchy for a banking system with various account types (e.g., savings, checking, credit card) and demonstrate polymorphism by implementing a common `withdraw()` method."
   ]
  },
  {
   "cell_type": "markdown",
   "id": "4ac98cbe",
   "metadata": {},
   "source": [
    "### Ans 14)"
   ]
  },
  {
   "cell_type": "code",
   "execution_count": 22,
   "id": "b4a63756",
   "metadata": {},
   "outputs": [
    {
     "name": "stdout",
     "output_type": "stream",
     "text": [
      "money have been withdrawn from saving account\n",
      "money have been withdrawn from checking.\n",
      "money have been withdrawn from credit card\n"
     ]
    }
   ],
   "source": [
    "class BankAccount:\n",
    "    def withdraw(self):\n",
    "        pass\n",
    "    \n",
    "    \n",
    "class savings(BankAccount):\n",
    "    def withdraw(self):\n",
    "        return 'money have been withdrawn from saving account'\n",
    "    \n",
    "class checking(BankAccount):\n",
    "    def withdraw(self):\n",
    "        return 'money have been withdrawn from checking.' \n",
    "    \n",
    "class credit_card(BankAccount):\n",
    "    def withdraw(self):\n",
    "        return 'money have been withdrawn from credit card'\n",
    "    \n",
    "    \n",
    "saveacc = savings()\n",
    "check = checking()\n",
    "card = credit_card()\n",
    "\n",
    "print(saveacc.withdraw())\n",
    "print(check.withdraw())\n",
    "print(card.withdraw())"
   ]
  },
  {
   "cell_type": "markdown",
   "id": "c3fd96fb",
   "metadata": {},
   "source": [
    "## 15. Describe the concept of operator overloading in Python and how it relates to polymorphism. Provide examples using operators like `+` and `*`."
   ]
  },
  {
   "cell_type": "markdown",
   "id": "17f973e1",
   "metadata": {},
   "source": [
    "### Ans 15) \n",
    "\n",
    "- Operator overloading is a feature in object-oriented programming languages that allows programmers to redefine the behavior of certain operators (such as +, -, *, /, ==, !=, etc.) for user-defined classes. This means that the same operator can exhibit different behaviors depending on the types of its operands.\n",
    "\n",
    "- The python language provides special methods or functions that can be implemented in user-defined classes to define the behavior of operators when applied to objects of those classes. These special methods are also known as magic methods or dunder (double underscore) methods in Python.\n",
    "\n",
    "- For example, in Python, the `+` operator can be overloaded by implementing the __add__() method in a class. When two objects of that class are added together using the + operator, Python automatically invokes the __add__() method to perform the addition/string Concatenation. Similarly, other operators can be overloaded by implementing their corresponding special methods.\n",
    "\n",
    "\n",
    "- 1) Operand Identification:\n",
    "- Python identifies the types of the left-hand and right-hand operands involved in the operation.\n",
    "- 2) Method Lookup:\n",
    "- Python checks if the class of the left-hand operand has an __add__() method defined.\n",
    "- For strings, since they support both concatenation and addition using the + operator, Python proceeds to call the __add__() method of the left-hand operand.\n",
    "- 3) Method Invocation:\n",
    "- Python invokes the __add__() method of the left-hand operand with the right-hand operand passed as an argument.\n",
    "- 4) Method Execution:\n",
    "- Inside the __add__() method, the appropriate operation (concatenation or addition) is performed based on the types of the operands.\n",
    "- For strings, the __add__() method concatenates the two strings together, creating a new string.\n",
    "- 5) Return Value:\n",
    "- The __add__() method returns the result of the operation, which is either a concatenated string or the sum of two values, depending on the types of the operands.\n"
   ]
  },
  {
   "cell_type": "code",
   "execution_count": 1,
   "id": "2d0ff6f0",
   "metadata": {},
   "outputs": [
    {
     "name": "stdout",
     "output_type": "stream",
     "text": [
      "Hello, world!\n",
      "8\n"
     ]
    }
   ],
   "source": [
    "string1 = \"Hello, \"\n",
    "string2 = \"world!\"\n",
    "number1 = 5\n",
    "number2 = 3\n",
    "\n",
    "# String concatenation using the '+' operator\n",
    "result_string = string1 + string2\n",
    "print(result_string)  # Output: \"Hello, world!\"\n",
    "\n",
    "# Addition operation using the '+' operator\n",
    "result_addition = number1 + number2\n",
    "print(result_addition)  # Output: 8"
   ]
  },
  {
   "cell_type": "markdown",
   "id": "599de828",
   "metadata": {},
   "source": [
    "- In both cases, Python internally calls the __add__() method of the left-hand operand (string1 for string concatenation, number1 for addition) with the right-hand operand (string2 for string concatenation, number2 for addition) passed as an argument. Inside the __add__() method, the appropriate operation is performed based on the types of the operands, and the result is returned accordingly.\n",
    "- Below are the ex- of `*` operator :"
   ]
  },
  {
   "cell_type": "code",
   "execution_count": 2,
   "id": "5243bcbb",
   "metadata": {},
   "outputs": [
    {
     "name": "stdout",
     "output_type": "stream",
     "text": [
      "12\n"
     ]
    }
   ],
   "source": [
    "# passing two intergers\n",
    "print(3*4)"
   ]
  },
  {
   "cell_type": "code",
   "execution_count": 3,
   "id": "ed103ff8",
   "metadata": {},
   "outputs": [
    {
     "name": "stdout",
     "output_type": "stream",
     "text": [
      "[3, 3, 3, 3]\n"
     ]
    }
   ],
   "source": [
    "# passing list and integer, it performs list concatenation.\n",
    "print([3]*4)"
   ]
  },
  {
   "cell_type": "code",
   "execution_count": 4,
   "id": "0148249b",
   "metadata": {},
   "outputs": [
    {
     "name": "stdout",
     "output_type": "stream",
     "text": [
      "iiii\n"
     ]
    }
   ],
   "source": [
    "# passing character and interger, it perform string concatenation.\n",
    "print('i'*4)"
   ]
  },
  {
   "cell_type": "markdown",
   "id": "fd3d1073",
   "metadata": {},
   "source": [
    "## 16. What is dynamic polymorphism, and how is it achieved in Python?"
   ]
  },
  {
   "cell_type": "markdown",
   "id": "94212aab",
   "metadata": {},
   "source": [
    "### Ans 16)"
   ]
  },
  {
   "cell_type": "markdown",
   "id": "69f7ff6b",
   "metadata": {},
   "source": [
    "- Dynamic polymorphism, also known as runtime polymorphism, is a feature of object-oriented programming languages where the behavior of a method is determined at runtime based on the type of object that invokes it. In other words, different objects can invoke the same method, but the actual implementation of the method that gets executed depends on the type of the object.\n",
    "\n",
    "- In Python, dynamic polymorphism is achieved through method overriding and inheritance. Here's how it works:\n",
    "\n",
    "- 1) Method Overriding: Method overriding occurs when a subclass provides a specific implementation of a method that is already defined in its superclass. When an object of the subclass invokes the overridden method, Python resolves the method call dynamically, based on the actual type of the object.\n",
    "\n",
    "- 2) Inheritance: In Python, classes can inherit from one or more base classes. When a subclass inherits from a superclass, it inherits all the methods and attributes of the superclass. Subclasses can then override methods from the superclass to provide their own implementations, thus achieving dynamic polymorphism.\n",
    "- Here's a simple example demonstrating dynamic polymorphism in Python:"
   ]
  },
  {
   "cell_type": "code",
   "execution_count": 5,
   "id": "ccbe591b",
   "metadata": {},
   "outputs": [
    {
     "name": "stdout",
     "output_type": "stream",
     "text": [
      "Generic animal sound\n",
      "Bark\n",
      "Meow\n"
     ]
    }
   ],
   "source": [
    "class Animal:\n",
    "    def sound(self):\n",
    "        return \"Generic animal sound\"\n",
    "\n",
    "class Dog(Animal):\n",
    "    def sound(self):\n",
    "        return \"Bark\"\n",
    "\n",
    "class Cat(Animal):\n",
    "    def sound(self):\n",
    "        return \"Meow\"\n",
    "\n",
    "# Function to make animal sound\n",
    "def make_sound(animal):\n",
    "    print(animal.sound())\n",
    "\n",
    "# Create instances of different animal types\n",
    "animal1 = Animal()\n",
    "dog = Dog()\n",
    "cat = Cat()\n",
    "\n",
    "# Make sounds\n",
    "make_sound(animal1)  # Output: Generic animal sound\n",
    "make_sound(dog)      # Output: Bark\n",
    "make_sound(cat)      # Output: Meow\n"
   ]
  },
  {
   "cell_type": "markdown",
   "id": "626edfca",
   "metadata": {},
   "source": [
    "- In this example, the Animal class defines a generic sound() method. Both the Dog and Cat classes inherit from the Animal class and override the sound() method with their own implementations. When the make_sound() function is called with instances of different types of animals, the appropriate implementation of the sound() method is dynamically chosen based on the type of the object passed to the function. This demonstrates dynamic polymorphism in action."
   ]
  },
  {
   "cell_type": "markdown",
   "id": "07c35c0c",
   "metadata": {},
   "source": [
    "## 17. Create a Python class hierarchy for employees in a company (e.g., manager, developer, designer) and implement polymorphism through a common `calculate_salary()` method."
   ]
  },
  {
   "cell_type": "markdown",
   "id": "eb9b0636",
   "metadata": {},
   "source": [
    "### Ans 17)"
   ]
  },
  {
   "cell_type": "code",
   "execution_count": 23,
   "id": "d1d2c289",
   "metadata": {},
   "outputs": [
    {
     "name": "stdout",
     "output_type": "stream",
     "text": [
      "Salary of manager is ....Rs\n",
      "Salary of developer is ....Rs\n",
      "Salary of designer is ....Rs\n"
     ]
    }
   ],
   "source": [
    "class employee:\n",
    "    def calculate_salary(self):\n",
    "        pass\n",
    "    \n",
    "    \n",
    "    \n",
    "class manager(employee):\n",
    "    def calculate_salary(self):\n",
    "        return 'Salary of manager is ....Rs'\n",
    "    \n",
    "class developer(employee):\n",
    "    def calculate_salary(self):\n",
    "        return 'Salary of developer is ....Rs'\n",
    "    \n",
    "class designer(employee):\n",
    "    def calculate_salary(self):\n",
    "        return 'Salary of designer is ....Rs'\n",
    "    \n",
    "    \n",
    "man = manager()\n",
    "dev = developer()\n",
    "des = designer()\n",
    "\n",
    "print(man.calculate_salary())\n",
    "print(dev.calculate_salary())\n",
    "print(des.calculate_salary())"
   ]
  },
  {
   "cell_type": "markdown",
   "id": "924068f8",
   "metadata": {},
   "source": [
    "## 18. Discuss the concept of function pointers and how they can be used to achieve polymorphism in Python."
   ]
  },
  {
   "cell_type": "markdown",
   "id": "4c55c307",
   "metadata": {},
   "source": [
    "### Ans 18)\n",
    "\n",
    "- Python functions are first-class objects, which means they can be assigned to variables, passed as arguments to other functions, and returned from functions. This feature allows for a form of \"function pointer\" behavior.\n",
    "\n",
    "- The concept of function pointers in Python can be achieved using techniques such as passing functions as arguments to other functions, storing functions in data structures like dictionaries, or using higher-order functions like decorators. These techniques can be leveraged to achieve polymorphism in Python."
   ]
  },
  {
   "cell_type": "markdown",
   "id": "0d70a555",
   "metadata": {},
   "source": [
    "## 19. Explain the role of interfaces and abstract classes in polymorphism, drawing comparisons between them."
   ]
  },
  {
   "cell_type": "markdown",
   "id": "ed9fe4c2",
   "metadata": {},
   "source": [
    "### Ans 19)\n",
    "- Comparing Interfaces and Abstract Classes in the Context of Polymorphism:\n",
    "\n",
    "- 1) Definition: Interfaces specify a set of methods that a class must implement, while abstract classes define methods that must be implemented by subclasses.\n",
    "- 2) Usage: Interfaces are implied by the presence of certain methods in a class, whereas abstract classes are explicitly defined using the abc module.\n",
    "- 3) Flexibility: Interfaces rely on duck typing, allowing any object with the required methods to be used polymorphically. Abstract classes provide a more explicit contract, enforcing method implementations in subclasses.\n",
    "- 4) Implementation: Interfaces are not explicitly defined in Python, while abstract classes require the use of the abc module and decorators to define abstract methods.\n",
    "- 5) Extensibility: Abstract classes can contain both abstract and concrete methods, providing more flexibility in terms of code reuse and extension."
   ]
  },
  {
   "cell_type": "markdown",
   "id": "b023531b",
   "metadata": {},
   "source": [
    "## 20. Create a Python class for a zoo simulation, demonstrating polymorphism with different animal types (e.g., mammals, birds, reptiles) and their behavior (e.g., eating, sleeping, making sounds)."
   ]
  },
  {
   "cell_type": "markdown",
   "id": "f76193f1",
   "metadata": {},
   "source": [
    "### Ans 20)"
   ]
  },
  {
   "cell_type": "code",
   "execution_count": 24,
   "id": "9a821a7f",
   "metadata": {
    "scrolled": true
   },
   "outputs": [
    {
     "name": "stdout",
     "output_type": "stream",
     "text": [
      "Lion:\n",
      "Sound: Mammal sound\n",
      "Eating: Mammal eating\n",
      "Sleeping: Mammal sleeping\n",
      "\n",
      "Parrot:\n",
      "Sound: Bird sound\n",
      "Eating: Bird eating\n",
      "Sleeping: Bird sleeping\n",
      "\n",
      "Snake:\n",
      "Sound: Reptile sound\n",
      "Eating: Reptile eating\n",
      "Sleeping: Reptile sleeping\n",
      "\n"
     ]
    }
   ],
   "source": [
    "class Animal:\n",
    "    def __init__(self, name):\n",
    "        self.name = name\n",
    "\n",
    "    def make_sound(self):\n",
    "        pass\n",
    "\n",
    "    def eat(self):\n",
    "        pass\n",
    "\n",
    "    def sleep(self):\n",
    "        pass\n",
    "\n",
    "class Mammal(Animal):\n",
    "    def make_sound(self):\n",
    "        return \"Mammal sound\"\n",
    "\n",
    "    def eat(self):\n",
    "        return \"Mammal eating\"\n",
    "\n",
    "    def sleep(self):\n",
    "        return \"Mammal sleeping\"\n",
    "\n",
    "class Bird(Animal):\n",
    "    def make_sound(self):\n",
    "        return \"Bird sound\"\n",
    "\n",
    "    def eat(self):\n",
    "        return \"Bird eating\"\n",
    "\n",
    "    def sleep(self):\n",
    "        return \"Bird sleeping\"\n",
    "\n",
    "class Reptile(Animal):\n",
    "    def make_sound(self):\n",
    "        return \"Reptile sound\"\n",
    "\n",
    "    def eat(self):\n",
    "        return \"Reptile eating\"\n",
    "\n",
    "    def sleep(self):\n",
    "        return \"Reptile sleeping\"\n",
    "\n",
    "# Create instances of different animal types\n",
    "lion = Mammal(\"Lion\")\n",
    "parrot = Bird(\"Parrot\")\n",
    "snake = Reptile(\"Snake\")\n",
    "\n",
    "# Demonstrate polymorphism with different animal types\n",
    "animals = [lion, parrot, snake]\n",
    "for animal in animals:\n",
    "    print(animal.name + \":\")\n",
    "    print(\"Sound:\", animal.make_sound())\n",
    "    print(\"Eating:\", animal.eat())\n",
    "    print(\"Sleeping:\", animal.sleep())\n",
    "    print()\n"
   ]
  },
  {
   "cell_type": "markdown",
   "id": "bfd320e6",
   "metadata": {},
   "source": [
    "## Abstraction:"
   ]
  },
  {
   "cell_type": "markdown",
   "id": "ecde5b75",
   "metadata": {},
   "source": [
    "## 1. What is abstraction in Python, and how does it relate to object-oriented programming?"
   ]
  },
  {
   "cell_type": "markdown",
   "id": "d6afda07",
   "metadata": {},
   "source": [
    "### Ans 1)\n",
    "- Abstraction in Python refers to the concept of hiding the complex implementation details of a system and only exposing the necessary functionalities or interfaces to the users. It allows programmers to focus on what an object does rather than how it does it. In other words, abstraction enables you to create a simplified view of a system by focusing on its essential characteristics while hiding unnecessary details.\n",
    "\n",
    "- In the context of object-oriented programming (OOP), abstraction is closely related to the concept of classes and objects. In Python, classes serve as blueprints for creating objects. They encapsulate data (attributes) and behaviors (methods) that operate on that data."
   ]
  },
  {
   "cell_type": "markdown",
   "id": "bc73bc09",
   "metadata": {},
   "source": [
    "## 2. Describe the benefits of abstraction in terms of code organization and complexity reduction.\n"
   ]
  },
  {
   "cell_type": "markdown",
   "id": "b33e2e56",
   "metadata": {},
   "source": [
    "### Ans 2)\n",
    "- Complexity Reduction : Data abstraction frees programmers from having to worry about the nitty-gritty details in order to concentrate on the key elements of a problem. Complex software systems may be easier to build and manage as a result.\n",
    "- Code organization : Reusable, understandable programming that is modular may be created via data abstraction. Software systems may become more adaptable and expandable as a result."
   ]
  },
  {
   "cell_type": "markdown",
   "id": "124354ab",
   "metadata": {},
   "source": [
    "## 3. Create a Python class called `Shape` with an abstract method `calculate_area()`. Then, create child classes (e.g., `Circle`, `Rectangle`) that implement the `calculate_area()` method. Provide an example of using these classes.\n"
   ]
  },
  {
   "cell_type": "markdown",
   "id": "a0b7cbd7",
   "metadata": {},
   "source": [
    "### Ans 3)"
   ]
  },
  {
   "cell_type": "code",
   "execution_count": 2,
   "id": "736a9f53",
   "metadata": {},
   "outputs": [
    {
     "name": "stdout",
     "output_type": "stream",
     "text": [
      "Area of circle : 78.5\n",
      "Area of Rectangle : 12\n"
     ]
    }
   ],
   "source": [
    "from abc import ABC , abstractmethod\n",
    "class Shape(ABC) :\n",
    "    @abstractmethod\n",
    "    def calculate_area(self):\n",
    "        pass\n",
    "    \n",
    "    \n",
    "class Circle(Shape):\n",
    "    def __init__(self, radius):\n",
    "        self.radius = radius\n",
    "        \n",
    "    def calculate_area(self):\n",
    "        return 'Area of circle : ' + str(3.14 * self.radius**2)\n",
    "    \n",
    "class Rectangle(Shape):\n",
    "    def __init__(self, length, width):\n",
    "        self.length = length\n",
    "        self.width = width\n",
    "         \n",
    "    def calculate_area(self):\n",
    "        return 'Area of Rectangle : ' + str(self.length * self.width)\n",
    "    \n",
    "ball = Circle(5)\n",
    "box = Rectangle(3,4)\n",
    "\n",
    "print(ball.calculate_area())\n",
    "print(box.calculate_area())"
   ]
  },
  {
   "cell_type": "markdown",
   "id": "682b3921",
   "metadata": {},
   "source": [
    "## 4. Explain the concept of abstract classes in Python and how they are defined using the `abc` module. Provide an example.\n"
   ]
  },
  {
   "cell_type": "markdown",
   "id": "dd0f6492",
   "metadata": {},
   "source": [
    "### Ans 4) \n",
    "- In Python, abstract classes serve as templates or blueprints for other classes to inherit from. They can contain one or more abstract methods, which are declared but not implemented in the abstract class itself. \n",
    "- Abstract classes cannot be instantiated directly; instead, they are meant to be subclassed, with concrete subclasses providing implementations for the abstract methods.\n",
    "\n",
    "- We can create the Abstract Base Classes and methods by using `abc` (Abstract Base Classes) module in Python.\n",
    "- To create an abstract class using the `abc` module, we typically inherit from `abc.ABC`.\n",
    "- The `@abstractmethod` decorator is used to mark methods as abstract within the class.\n",
    "\n",
    "- Here's an example to illustrate the concept:"
   ]
  },
  {
   "cell_type": "code",
   "execution_count": null,
   "id": "3e717783",
   "metadata": {},
   "outputs": [],
   "source": [
    "from abc import ABC, abstractmethod\n",
    "\n",
    "class Animal(ABC):\n",
    "    def __init__(self, name):\n",
    "        self.name = name\n",
    "    \n",
    "    @abstractmethod\n",
    "    def make_sound(self):\n",
    "        pass\n",
    "\n",
    "class Dog(Animal):\n",
    "    def make_sound(self):\n",
    "        return \"Woof!\"\n",
    "\n",
    "class Cat(Animal):\n",
    "    def make_sound(self):\n",
    "        return \"Meow!\"\n",
    "\n",
    "# Attempting to instantiate the abstract class will raise an error\n",
    "# animal = Animal(\"Animal\")  # This will raise an error\n",
    "\n",
    "# Instantiate concrete subclasses\n",
    "dog = Dog(\"Buddy\")\n",
    "cat = Cat(\"Whiskers\")\n",
    "\n",
    "# Call the method defined in concrete subclasses\n",
    "print(dog.make_sound())  # Output: Woof!\n",
    "print(cat.make_sound())  # Output: Meow!\n"
   ]
  },
  {
   "cell_type": "markdown",
   "id": "948a786c",
   "metadata": {},
   "source": [
    "- Explanation :- \n",
    "\n",
    "- `Animal` is an abstract class that inherits from `abc.ABC`. It has one abstract method `make_sound()`, which doesn't have an implementation.\n",
    "- `Dog` and `Cat` are concrete subclasses of `Animal`. They provide implementations for the abstract method `make_sound()`.\n",
    "- Attempting to instantiate `Animal` directly will raise an error because it's an abstract class.\n",
    "- We can instantiate `Dog` and `Cat` objects and call the `make_sound()` method on them, which will execute the implementations provided in their respective subclasses."
   ]
  },
  {
   "cell_type": "markdown",
   "id": "ec7652d3",
   "metadata": {},
   "source": [
    "## 5. How do abstract classes differ from regular classes in Python? Discuss their use cases.\n"
   ]
  },
  {
   "cell_type": "markdown",
   "id": "6b14cdad",
   "metadata": {},
   "source": [
    "### Ans 5)\n",
    "- Difference between abstract classes and regular classes in python : \n",
    "\n",
    "1. **Instantiation**: \n",
    "   - Regular classes can be instantiated directly, meaning you can create objects of those classes using the class constructor.\n",
    "   - Abstract classes cannot be instantiated directly. They are meant to be subclassed, and their abstract methods need to be implemented in concrete subclasses before they can be instantiated.\n",
    "\n",
    "2. **Abstract Methods**:\n",
    "   - Abstract classes can contain one or more abstract methods. These methods are declared in the abstract class but are not implemented.\n",
    "   - Regular classes do not have abstract methods. All methods in regular classes must have implementations.\n",
    "\n",
    "3. **Purpose**:\n",
    "   - Regular classes are used to create concrete objects that can be instantiated and used directly. They encapsulate data and behavior related to a specific concept or entity in your program.\n",
    "   - Abstract classes are used as templates or blueprints for other classes. They define a common interface or structure that subclasses are expected to adhere to.\n",
    "\n",
    "4. **Enforcement**:\n",
    "   - Abstract classes help enforce a certain structure and behavior in subclasses. They ensure that certain methods are implemented in subclasses, making the code more predictable and maintainable.\n",
    "   - Regular classes do not provide this level of enforcement. While you can define methods with default implementations in regular classes, there's no guarantee that subclasses will override or implement these methods as intended.\n",
    "\n",
    "- Use cases for abstract classes:\n",
    "- 1. When you want to define a common interface or structure that multiple related classes should follow.\n",
    "- 2. When you want to enforce certain methods to be implemented in subclasses to ensure consistent behavior across different implementations.\n",
    "- 3. When you want to provide a clear template or blueprint for subclasses to build upon.\n",
    "\n",
    "- Use cases for regular classes:\n",
    "- 1. When you want to create concrete objects that can be instantiated and used directly.\n",
    "- 2. When you don't need to enforce any specific structure or behavior in subclasses.\n",
    "- 3. When you want to encapsulate data and behavior related to a specific concept or entity without the need for inheritance or subclassing."
   ]
  },
  {
   "cell_type": "markdown",
   "id": "5588a725",
   "metadata": {},
   "source": [
    "## 6. Create a Python class for a bank account and demonstrate abstraction by hiding the account balance and providing methods to deposit and withdraw funds.\n"
   ]
  },
  {
   "cell_type": "markdown",
   "id": "959fc975",
   "metadata": {},
   "source": [
    "### Ans 6)"
   ]
  },
  {
   "cell_type": "code",
   "execution_count": 6,
   "id": "f66a75b8",
   "metadata": {},
   "outputs": [
    {
     "name": "stdout",
     "output_type": "stream",
     "text": [
      "Money has been deposited successfully.\n",
      "Money has been withdrawn successfully.\n"
     ]
    }
   ],
   "source": [
    "class BankAccount:\n",
    "    def __init__(self, accountBalance):\n",
    "        self.__accountBalance = accountBalance\n",
    "        \n",
    "    def deposit(self, depositMoney):\n",
    "        self.__accountBalance += depositMoney\n",
    "        return 'Money has been deposited successfully.'\n",
    "    \n",
    "    def withdraw(self, withdrawMoney):\n",
    "        if self.__accountBalance >= withdrawMoney:\n",
    "            self.__accountBalance -= withdrawMoney\n",
    "            return 'Money has been withdrawn successfully.'\n",
    "    \n",
    "\n",
    "    \n",
    "obj1 = BankAccount(30000)\n",
    "\n",
    "print(obj1.deposit(10000))\n",
    "print(obj1.withdraw(30000))"
   ]
  },
  {
   "cell_type": "markdown",
   "id": "60d3580a",
   "metadata": {},
   "source": [
    "## 7. Discuss the concept of interface classes in Python and their role in achieving abstraction.\n"
   ]
  },
  {
   "cell_type": "markdown",
   "id": "6781a62a",
   "metadata": {},
   "source": [
    "### Ans 7)\n",
    "- In Python, interface classes or abstract base classes serve as a blueprint that defines a set of methods that other classes must implement. \n",
    "- They play a crucial role in achieving abstraction by providing a way to define a common interface for a group of related classes without specifying how those methods are implemented.\n",
    "\n",
    "- The concept of interfaces can be achieved using abstract base classes (ABCs) provided by the `abc` (Abstract Base Classes) module. By inheriting from `abc.ABC` and using the `@abstractmethod` decorator, we can define abstract methods within a class, effectively creating an interface.\n",
    "\n",
    "- Here's the role of interface classes in achieving abstraction:\n",
    "\n",
    "1. **Defining a common interface**: Interface classes define a set of methods that must be implemented by any class that inherits from them. These methods represent a contract that specifies what behavior is expected from implementing classes.\n",
    "\n",
    "2. **Enforcing consistency**: Interface classes ensure that all implementing classes adhere to the same interface, promoting consistency across different implementations.\n",
    "\n",
    "3. **Hiding implementation details**: Interface classes abstract away the implementation details of individual classes, focusing only on the required functionality or behavior. This allows users of the interface to interact with objects in a generic way without needing to know the specific implementation details.\n",
    "\n",
    "4. **Promoting code reuse**: By defining a common interface, interface classes enable code reuse across different implementations. Implementing classes can provide their own implementations for the interface methods while benefiting from the shared structure defined by the interface."
   ]
  },
  {
   "cell_type": "markdown",
   "id": "290a386c",
   "metadata": {},
   "source": [
    "## 8. Create a Python class hierarchy for animals and implement abstraction by defining common methods (e.g., `eat()`, `sleep()`) in an abstract base class.\n"
   ]
  },
  {
   "cell_type": "markdown",
   "id": "97461d9b",
   "metadata": {},
   "source": [
    "### Ans 8)"
   ]
  },
  {
   "cell_type": "code",
   "execution_count": 8,
   "id": "e987d61e",
   "metadata": {},
   "outputs": [
    {
     "name": "stdout",
     "output_type": "stream",
     "text": [
      "Cat eats cat's food.\n",
      "Dog eats dog's food.\n",
      "\n",
      "Cat sleep in night.\n",
      "Dog sleep in day.\n"
     ]
    }
   ],
   "source": [
    "from abc import ABC, abstractmethod\n",
    "\n",
    "class Animal(ABC):\n",
    "    \n",
    "    @abstractmethod\n",
    "    def eat(self):\n",
    "        pass\n",
    "    \n",
    "    @abstractmethod\n",
    "    def sleep(self):\n",
    "        pass\n",
    "    \n",
    "    \n",
    "    \n",
    "class Cat(Animal):\n",
    "    def eat(self):\n",
    "        return \"Cat eats cat's food.\"\n",
    "    \n",
    "    def sleep(self):\n",
    "        return \"Cat sleep in night.\"\n",
    "    \n",
    "class Dog(Animal):\n",
    "    def eat(self):\n",
    "        return \"Dog eats dog's food.\"\n",
    "    \n",
    "    def sleep(self):\n",
    "        return \"Dog sleep in day.\"\n",
    "    \n",
    "    \n",
    "persian = Cat()\n",
    "bull = Dog()\n",
    "\n",
    "print(persian.eat())\n",
    "print(bull.eat())\n",
    "print()\n",
    "print(persian.sleep())\n",
    "print(bull.sleep())"
   ]
  },
  {
   "cell_type": "markdown",
   "id": "a5453ea0",
   "metadata": {},
   "source": [
    "## 9. Explain the significance of encapsulation in achieving abstraction. Provide examples.\n"
   ]
  },
  {
   "cell_type": "markdown",
   "id": "373d5596",
   "metadata": {},
   "source": [
    "### Ans 9)\n",
    "\n",
    "- Abstraction : Hiding unnecessary information from outside the world.\n",
    "- By using `encapsulation` we pack the same kind of information (attributes and methods) inside one unit(a class).\n",
    "- Encapsulation plays a significant role in achieving abstraction in Python by hiding the internal implementation details of an object and exposing only the necessary functionalities or interfaces to the outside world.\n",
    "\n",
    "\n",
    "- Here's why encapsulation is significant in achieving abstraction in Python:\n",
    "\n",
    "1. **Hiding Implementation Details**: Encapsulation allows us to hide the internal state and implementation details of an object from the outside world. By defining attributes as private or protected, we prevent direct access to these attributes from outside the class, thus hiding the internal representation of the object and promoting abstraction.\n",
    "\n",
    "2. **Enhancing Modularity**: Encapsulation facilitates modularity by encapsulating related data and behavior within a single unit (class). This makes it easier to manage and maintain code, as changes to one part of the code (e.g., the implementation of a method) do not affect other parts of the code that rely on the encapsulated unit.\n",
    "\n",
    "3. **Preventing Unauthorized Access**: Encapsulation helps prevent unauthorized access to an object's internal state by restricting direct access to its attributes. By defining attributes as private or protected, we ensure that access to these attributes is controlled through methods, allowing us to enforce validation and security checks as needed."
   ]
  },
  {
   "cell_type": "code",
   "execution_count": 9,
   "id": "27d0f4df",
   "metadata": {},
   "outputs": [
    {
     "name": "stdout",
     "output_type": "stream",
     "text": [
      "Make: Toyota\n",
      "Model: Camry\n",
      "Year: 2020\n",
      "Mileage: 100\n"
     ]
    }
   ],
   "source": [
    "class Car:\n",
    "    def __init__(self, make, model, year):\n",
    "        self._make = make  # Protected attribute\n",
    "        self._model = model  # Protected attribute\n",
    "        self._year = year  # Protected attribute\n",
    "        self._mileage = 0  # Protected attribute\n",
    "\n",
    "    def drive(self, miles):\n",
    "        self._mileage += miles\n",
    "\n",
    "    def get_make(self):\n",
    "        return self._make\n",
    "\n",
    "    def get_model(self):\n",
    "        return self._model\n",
    "\n",
    "    def get_year(self):\n",
    "        return self._year\n",
    "\n",
    "    def get_mileage(self):\n",
    "        return self._mileage\n",
    "\n",
    "\n",
    "# Example usage:\n",
    "car1 = Car(\"Toyota\", \"Camry\", 2020)\n",
    "\n",
    "# Accessing attributes through getter methods\n",
    "print(\"Make:\", car1.get_make()) \n",
    "print(\"Model:\", car1.get_model())\n",
    "print(\"Year:\", car1.get_year())\n",
    "\n",
    "# Driving the car\n",
    "car1.drive(100)\n",
    "print(\"Mileage:\", car1.get_mileage())\n"
   ]
  },
  {
   "cell_type": "markdown",
   "id": "2563e487",
   "metadata": {},
   "source": [
    "## 10. What is the purpose of abstract methods, and how do they enforce abstraction in Python classes?\n"
   ]
  },
  {
   "cell_type": "markdown",
   "id": "c6e001a5",
   "metadata": {},
   "source": [
    "### Ans 10)\n",
    "- Abstract methods serve the purpose of defining method signatures without providing an implementation. \n",
    "- They are declared in abstract classes, which cannot be instantiated directly. \n",
    "- Abstract methods provide a way to define a common interface or structure that subclasses are expected to adhere to, ensuring consistent behavior across different implementations.\n",
    "\n",
    "- In Python, abstract methods are typically defined using the @abstractmethod decorator from the abc (Abstract Base Classes) module. When a method is marked as abstract, any subclass that inherits from the abstract class must provide an implementation for that method. \n",
    "- If a subclass fails to implement an abstract method defined in its superclass, it will raise an error at runtime, ensuring that all abstract methods are implemented as intended."
   ]
  },
  {
   "cell_type": "markdown",
   "id": "e8a3fea1",
   "metadata": {},
   "source": [
    "## 11. Create a Python class for a vehicle system and demonstrate abstraction by defining common methods (e.g., `start()`, `stop()`) in an abstract base class.\n"
   ]
  },
  {
   "cell_type": "markdown",
   "id": "f67a063a",
   "metadata": {},
   "source": [
    "### Ans 11)"
   ]
  },
  {
   "cell_type": "code",
   "execution_count": 12,
   "id": "5b3aa171",
   "metadata": {},
   "outputs": [
    {
     "name": "stdout",
     "output_type": "stream",
     "text": [
      "Car starts by key.\n",
      "Car stops when key removed.\n",
      "\n",
      "Bike starts with kick.\n",
      "Bike stops when key removed or clutch released without acceleration.\n"
     ]
    }
   ],
   "source": [
    "from abc import ABC, abstractmethod\n",
    "\n",
    "class Vehicle(ABC):\n",
    "    @abstractmethod\n",
    "    def start(self):\n",
    "        pass\n",
    "    \n",
    "    @abstractmethod\n",
    "    def stop(self):\n",
    "        pass\n",
    "\n",
    "\n",
    "class Car(Vehicle):\n",
    "    def start(self):\n",
    "        return 'Car starts by key.'\n",
    "    \n",
    "    def stop(self):\n",
    "        return 'Car stops when key removed.'\n",
    "    \n",
    "class Bike(Vehicle):\n",
    "    def start(self):\n",
    "        return 'Bike starts with kick.'\n",
    "    \n",
    "    def stop(self):\n",
    "        return 'Bike stops when key removed or clutch released without acceleration.'\n",
    "    \n",
    "    \n",
    "thar = Car()\n",
    "passion = Bike()\n",
    "\n",
    "print(thar.start())\n",
    "print(thar.stop())\n",
    "print()\n",
    "print(passion.start())\n",
    "print(passion.stop())"
   ]
  },
  {
   "cell_type": "markdown",
   "id": "17c4b8d7",
   "metadata": {},
   "source": [
    "## 12. Describe the use of abstract properties in Python and how they can be employed in abstract classes.\n"
   ]
  },
  {
   "cell_type": "markdown",
   "id": "8994f1c0",
   "metadata": {},
   "source": [
    "### Ans 12 )\n",
    "\n",
    "- Abstract properties in Python allow us to define properties in abstract classes without providing an implementation. They serve as a way to enforce a contract or interface that subclasses must adhere to while still allowing subclasses to provide their own implementations for those properties.\n",
    "\n",
    "- Here's how abstract properties can be employed in abstract classes:\n",
    "\n",
    "1. **Defining Abstract Properties**:\n",
    "   - Abstract properties are defined using the `@property` decorator along with the `@abstractmethod` decorator from the `abc` module.\n",
    "   - Abstract properties do not have an implementation, but they define a getter method that subclasses must override.\n",
    "   - Subclasses are required to provide their own implementation for the abstract properties defined in the abstract class.\n",
    "\n",
    "2. **Enforcing Interface**:\n",
    "   - Abstract properties, like abstract methods, help enforce a contract or interface that subclasses must adhere to.\n",
    "   - By defining abstract properties in an abstract class, we specify what properties subclasses are expected to have without dictating how those properties should be implemented.\n",
    "   - Subclasses must provide concrete implementations for all abstract properties defined in the abstract class to fulfill the contract.\n",
    "\n",
    "3. **Providing Flexibility**:\n",
    "   - Abstract properties provide flexibility by allowing subclasses to provide their own implementations for properties while still ensuring consistency across different implementations.\n",
    "   - Subclasses can customize the behavior of properties to suit their specific needs while maintaining a common interface defined by the abstract class.\n",
    "\n",
    "- Here's an example demonstrating the use of abstract properties in an abstract class:"
   ]
  },
  {
   "cell_type": "code",
   "execution_count": 18,
   "id": "34541a2c",
   "metadata": {},
   "outputs": [
    {
     "name": "stdout",
     "output_type": "stream",
     "text": [
      "Rectangle area: 20\n",
      "Rectangle perimeter: 18\n",
      "Circle area: 28.26\n",
      "Circle perimeter: 18.84\n"
     ]
    }
   ],
   "source": [
    "from abc import ABC, abstractmethod, abstractproperty\n",
    "\n",
    "class Shape(ABC):\n",
    "    @abstractproperty\n",
    "    def area(self):\n",
    "        pass\n",
    "\n",
    "    @abstractproperty\n",
    "    def perimeter(self):\n",
    "        pass\n",
    "\n",
    "class Rectangle(Shape):\n",
    "    def __init__(self, width, height):\n",
    "        self.width = width\n",
    "        self.height = height\n",
    "\n",
    "    @property\n",
    "    def area(self):\n",
    "        return self.width * self.height\n",
    "\n",
    "    @property\n",
    "    def perimeter(self):\n",
    "        return 2 * (self.width + self.height)\n",
    "\n",
    "class Circle(Shape):\n",
    "    def __init__(self, radius):\n",
    "        self.radius = radius\n",
    "\n",
    "    @property\n",
    "    def area(self):\n",
    "        return 3.14 * self.radius ** 2\n",
    "\n",
    "    @property\n",
    "    def perimeter(self):\n",
    "        return 2 * 3.14 * self.radius\n",
    "\n",
    "# Example usage:\n",
    "rect = Rectangle(5, 4)\n",
    "print(\"Rectangle area:\", rect.area)  # Output: 20\n",
    "print(\"Rectangle perimeter:\", rect.perimeter)  # Output: 18\n",
    "\n",
    "circle = Circle(3)\n",
    "print(\"Circle area:\", circle.area)  # Output: 28.26\n",
    "print(\"Circle perimeter:\", circle.perimeter)  # Output: 18.84"
   ]
  },
  {
   "cell_type": "markdown",
   "id": "343fc3de",
   "metadata": {},
   "source": [
    "- In this example:\n",
    "\n",
    "- The `Shape` class is an abstract base class (ABC) that defines abstract properties `area` and `perimeter`.\n",
    "- `Rectangle` and `Circle` are concrete subclasses of `Shape`. They provide concrete implementations for the abstract properties `area` and `perimeter`.\n",
    "- Subclasses must provide their own implementations for the abstract properties `area` and `perimeter` to fulfill the contract specified by the `Shape` class."
   ]
  },
  {
   "cell_type": "markdown",
   "id": "a6acdaf2",
   "metadata": {},
   "source": [
    "## 13. Create a Python class hierarchy for employees in a company (e.g., manager, developer, designer) and implement abstraction by defining a common `get_salary()` method.\n"
   ]
  },
  {
   "cell_type": "markdown",
   "id": "9ea0683a",
   "metadata": {},
   "source": [
    "### Ans 13)"
   ]
  },
  {
   "cell_type": "code",
   "execution_count": 13,
   "id": "74c0664f",
   "metadata": {},
   "outputs": [
    {
     "name": "stdout",
     "output_type": "stream",
     "text": [
      "Its manager salary\n",
      "Its developer salary\n",
      "Its designer salary\n"
     ]
    }
   ],
   "source": [
    "class Employee:\n",
    "    def get_salary(self):\n",
    "        pass\n",
    "    \n",
    "    \n",
    "    \n",
    "class manager(Employee):\n",
    "    def get_salary(self):\n",
    "        return 'Its manager salary'\n",
    "\n",
    "class developer(Employee):\n",
    "    def get_salary(self):\n",
    "        return 'Its developer salary'\n",
    "    \n",
    "class designer(Employee):\n",
    "    def get_salary(self):\n",
    "        return 'Its designer salary'\n",
    "    \n",
    "\n",
    "me = manager()\n",
    "you = developer()\n",
    "he = designer()\n",
    "\n",
    "print(me.get_salary())\n",
    "print(you.get_salary())\n",
    "print(he.get_salary())"
   ]
  },
  {
   "cell_type": "markdown",
   "id": "3d3ce507",
   "metadata": {},
   "source": [
    "## 14. Discuss the differences between abstract classes and concrete classes in Python, including their instantiation.\n"
   ]
  },
  {
   "cell_type": "markdown",
   "id": "55c5d8e2",
   "metadata": {},
   "source": [
    "### Ans 14)\n",
    "\n",
    "1. **Purpose**:\n",
    "   - **Abstract Classes**: Abstract classes are meant to be base classes that provide a template or blueprint for other classes to inherit from. They typically contain one or more abstract methods, which are declared but not implemented in the abstract class itself. Abstract classes are used to define a common interface or structure that subclasses are expected to adhere to.\n",
    "   - **Concrete Classes**: Concrete classes, on the other hand, are regular classes that can be instantiated directly. They provide concrete implementations for all methods defined in the class, including any methods inherited from base classes. Concrete classes are used to create objects that encapsulate data and behavior related to a specific concept or entity in our program.\n",
    "\n",
    "2. **Abstract Methods**:\n",
    "   - **Abstract Classes**: Abstract classes may contain one or more abstract methods, which are declared with the `@abstractmethod` decorator. These methods are meant to be implemented by concrete subclasses and serve as placeholders for functionality that must be provided by subclasses.\n",
    "   - **Concrete Classes**: Concrete classes do not contain abstract methods. All methods in concrete classes must have implementations, either in the class itself or inherited from its base classes.\n",
    "\n",
    "3. **Instantiation**:\n",
    "   - **Abstract Classes**: Abstract classes cannot be instantiated directly. Attempting to create an instance of an abstract class will raise an error. Abstract classes serve as templates or blueprints for other classes to inherit from, and they are meant to be subclassed.\n",
    "   - **Concrete Classes**: Concrete classes can be instantiated directly using the class constructor. We can create objects of concrete classes and use them to interact with the program.\n",
    "\n",
    "4. **Implementation**:\n",
    "   - **Abstract Classes**: Abstract classes provide a structure and define a common interface for subclasses, but they do not provide concrete implementations for all methods. Concrete implementations for abstract methods must be provided by subclasses.\n",
    "   - **Concrete Classes**: Concrete classes provide concrete implementations for all methods defined in the class. They encapsulate data and behavior and can be instantiated to create objects with specific attributes and behaviors.\n"
   ]
  },
  {
   "cell_type": "markdown",
   "id": "63632393",
   "metadata": {},
   "source": [
    "## 15. Explain the concept of abstract data types (ADTs) and their role in achieving abstraction in Python.\n"
   ]
  },
  {
   "cell_type": "markdown",
   "id": "eca7806f",
   "metadata": {},
   "source": [
    "- In Python, ADTs are typically implemented using classes and objects, where the class serves as the abstract data type and the methods of the class represent the operations defined by the ADT. By encapsulating data and operations within a class, Python allows for the creation of custom data types that can exhibit behavior similar to built-in data types (e.g., lists, dictionaries).\n",
    "\n",
    "- Here's how ADTs achieve abstraction in Python:\n",
    "\n",
    "1. **Encapsulation**: ADTs encapsulate data and operations within a single unit (class), hiding the implementation details from the outside world. Users of the ADT interact with objects of the class through well-defined interfaces (methods), without needing to know how those methods are implemented internally.\n",
    "\n",
    "2. **Modularity**: ADTs promote modularity by defining a clear interface for interacting with data, separate from the implementation details. This allows for easier maintenance and modification of code, as changes to the implementation of an ADT do not affect code that relies on its interface.\n",
    "\n",
    "3. **Abstraction**: ADTs provide a high level of abstraction by focusing on the behavior and operations of the data, rather than its internal representation. This allows developers to think in terms of the logical model provided by the ADT, rather than the specific details of its implementation.\n",
    "\n",
    "4. **Reusability**: ADTs encourage reusability by providing a well-defined interface that can be used across different parts of a program or in different programs altogether. Once an ADT is defined, it can be instantiated and used wherever its functionality is required, promoting code reuse and minimizing duplication.\n",
    "\n",
    "5. **Polymorphism**: ADTs support polymorphism, allowing different implementations of the same abstract data type to be used interchangeably. This allows for flexibility in choosing the appropriate implementation based on the specific requirements of a program."
   ]
  },
  {
   "cell_type": "markdown",
   "id": "8fd53726",
   "metadata": {},
   "source": [
    "## 16. Create a Python class for a computer system, demonstrating abstraction by defining common methods (e.g., `power_on()`, `shutdown()`) in an abstract base class.\n"
   ]
  },
  {
   "cell_type": "markdown",
   "id": "ab133457",
   "metadata": {},
   "source": [
    "### Ans 16)"
   ]
  },
  {
   "cell_type": "code",
   "execution_count": 15,
   "id": "bbd97b73",
   "metadata": {},
   "outputs": [
    {
     "name": "stdout",
     "output_type": "stream",
     "text": [
      "Laptop is on by pressing power button.\n",
      "Laptop can be shutdown using shortcut.\n",
      "\n",
      "Desktop is on by CPU.\n",
      "Desktop can be shutdown using shortcut or direct power off.\n"
     ]
    }
   ],
   "source": [
    "from abc import ABC, abstractmethod\n",
    "\n",
    "class computerSystem(ABC):\n",
    "    @abstractmethod\n",
    "    def powerOn(self):\n",
    "        pass\n",
    "    @abstractmethod\n",
    "    def shutDown(self):\n",
    "        pass\n",
    "    \n",
    "    \n",
    "class Laptop(computerSystem):\n",
    "    def powerOn(self):\n",
    "        return \"Laptop is on by pressing power button.\"\n",
    "    def shutDown(self):\n",
    "        return \"Laptop can be shutdown using shortcut.\"\n",
    "    \n",
    "class Desktop(computerSystem):\n",
    "    def powerOn(self):\n",
    "        return \"Desktop is on by CPU.\"\n",
    "    def shutDown(self):\n",
    "        return \"Desktop can be shutdown using shortcut or direct power off.\"\n",
    "    \n",
    "\n",
    "    \n",
    "asus = Laptop()\n",
    "apple = Desktop()\n",
    "\n",
    "\n",
    "print(asus.powerOn())\n",
    "print(asus.shutDown())\n",
    "print()\n",
    "print(apple.powerOn())\n",
    "print(apple.shutDown())"
   ]
  },
  {
   "cell_type": "markdown",
   "id": "2f953129",
   "metadata": {},
   "source": [
    "## 17. Discuss the benefits of using abstraction in large-scale software development projects.\n"
   ]
  },
  {
   "cell_type": "markdown",
   "id": "a762c2c3",
   "metadata": {},
   "source": [
    "### Ans 17)\n",
    "\n",
    "\n",
    "1. **Simplified Complexity**: Abstraction helps manage the complexity of large-scale projects by hiding unnecessary details and focusing on essential concepts and functionalities. By defining clear interfaces and abstracting away implementation details, abstraction enables developers to work with higher-level abstractions rather than dealing with low-level complexities.\n",
    "\n",
    "2. **Modular Design**: Abstraction promotes modular design by allowing the decomposition of a complex system into smaller, more manageable components. Each component can be implemented and tested independently, making it easier to understand, maintain, and extend the system over time. Modular design facilitated by abstraction also encourages code reuse, as modular components can be repurposed in different parts of the project or even in other projects.\n",
    "\n",
    "3. **Improved Maintainability**: Abstraction facilitates better maintainability of large-scale projects by isolating changes to specific components or modules. When the implementation of a particular abstraction needs to be updated or replaced, only the affected components need to be modified, reducing the risk of unintended side effects and minimizing the impact on other parts of the system. This makes it easier to evolve and adapt the software to meet changing requirements or address issues.\n",
    "\n",
    "4. **Enhanced Collaboration**: Abstraction promotes collaboration among team members by providing clear interfaces and well-defined boundaries between different modules or components. Team members can work on different parts of the system independently, focusing on their assigned responsibilities without needing to understand the intricate details of other components. This division of labor facilitated by abstraction fosters collaboration, improves productivity, and reduces dependencies among team members.\n",
    "\n",
    "5. **Scalability**: Abstraction supports scalability by allowing the system to grow and evolve over time without becoming overly complex or unmanageable. As the project expands or new features are added, abstraction provides a framework for incorporating changes in a structured manner, ensuring that the system remains cohesive and adaptable. Additionally, abstraction enables the reuse of existing components and patterns, making it easier to scale the project without reinventing the wheel.\n",
    "\n",
    "6. **Testing and Debugging**: Abstraction facilitates testing and debugging of large-scale projects by providing clear boundaries between different components and modules. Unit testing can be performed more effectively on individual modules or components, as they can be isolated and tested independently of the rest of the system. Abstraction also simplifies debugging by allowing developers to focus on specific areas of the codebase without getting bogged down by irrelevant details.\n"
   ]
  },
  {
   "cell_type": "markdown",
   "id": "bf292a5d",
   "metadata": {},
   "source": [
    "## 18. Explain how abstraction enhances code reusability and modularity in Python programs.\n"
   ]
  },
  {
   "cell_type": "markdown",
   "id": "e696fe5f",
   "metadata": {},
   "source": [
    "### Ans  18)\n",
    "\n",
    "- Abstraction enhances code reusability and modularity in Python programs by providing clear interfaces, encapsulating implementation details, and promoting a separation of concerns. \n",
    "- Here's how abstraction achieves these goals:\n",
    "\n",
    "1. **Clear Interfaces**: Abstraction allows us to define clear and well-defined interfaces for interacting with components or modules in our code. By defining abstract classes, interfaces, or functions that specify the required behavior without detailing how that behavior is implemented, abstraction establishes a contract that other parts of the code can rely on. This clear interface enables code reuse by allowing different components to interact with each other through a standardized interface, regardless of their internal implementation.\n",
    "\n",
    "2. **Encapsulation of Implementation Details**: Abstraction encapsulates implementation details within modules or components, hiding unnecessary complexity from other parts of the code. By encapsulating implementation details behind a well-defined interface, abstraction allows you to focus on the essential aspects of a component while hiding the intricacies of its internal workings. This encapsulation promotes modularity by reducing dependencies between different parts of the codebase, making it easier to understand, maintain, and modify individual components without affecting the rest of the system.\n",
    "\n",
    "3. **Promotion of Separation of Concerns**: Abstraction encourages the separation of concerns by dividing the functionality of a program into distinct modules or components, each responsible for a specific aspect of the overall system. By defining abstract interfaces that represent high-level concepts or functionalities, abstraction allows us to decouple different parts of the codebase and manage their interactions independently. This separation of concerns promotes modularity by allowing us to develop, test, and maintain individual components in isolation, making it easier to reason about and manage complex systems.\n",
    "\n",
    "4. **Code Reusability**: Abstraction promotes code reusability by enabling the reuse of existing components, patterns, and abstractions in new contexts or projects. By defining reusable abstractions with clear interfaces and well-defined behaviors, abstraction allows us to leverage existing code to solve new problems or implement new features more efficiently. This code reusability not only saves time and effort but also improves code quality and reliability by leveraging well-tested and proven solutions.\n",
    "\n",
    "5. **Facilitation of Dependency Injection and Inversion of Control**: Abstraction facilitates dependency injection and inversion of control patterns, which further enhance modularity and code reusability. By defining abstract interfaces for dependencies and injecting them into components rather than hardcoding dependencies within the components themselves, abstraction allows us to decouple components and make them more flexible, interchangeable, and reusable."
   ]
  },
  {
   "cell_type": "markdown",
   "id": "ecdce48d",
   "metadata": {},
   "source": [
    "## 19. Create a Python class for a library system, implementing abstraction by defining common methods (e.g., `add_book()`, `borrow_book()`) in an abstract base class.\n"
   ]
  },
  {
   "cell_type": "markdown",
   "id": "274f652d",
   "metadata": {},
   "source": [
    "### Ans 19)"
   ]
  },
  {
   "cell_type": "code",
   "execution_count": 17,
   "id": "f0173c1a",
   "metadata": {},
   "outputs": [
    {
     "name": "stdout",
     "output_type": "stream",
     "text": [
      "book is added.\n",
      "Borrowed bookData Science\n",
      "\n",
      "book is added.\n",
      "Book is not available.\n"
     ]
    }
   ],
   "source": [
    "from abc import ABC , abstractmethod\n",
    "\n",
    "class LibrarySystem(ABC):\n",
    "    @abstractmethod\n",
    "    def add_book(self):\n",
    "        pass\n",
    "    @abstractmethod\n",
    "    def borrow_book(self):\n",
    "        pass\n",
    "\n",
    "    \n",
    "class girls(LibrarySystem):\n",
    "    def __init__(self):\n",
    "        self.bookList = []\n",
    "        \n",
    "    def add_book(self,bookName):\n",
    "        self.bookList.append(bookName)\n",
    "        return 'book is added.'\n",
    "    \n",
    "    def borrow_book(self, borBook):\n",
    "        if borBook in self.bookList:\n",
    "            self.bookList.remove(borBook)\n",
    "            return 'Borrowed book' + borBook\n",
    "        else:\n",
    "            return 'Book is not available.'\n",
    "    \n",
    "class boys(LibrarySystem):\n",
    "    def __init__(self):\n",
    "        self.bookList = []\n",
    "        \n",
    "    def add_book(self,bookName):\n",
    "        self.bookList.append(bookName)\n",
    "        return 'book is added.'\n",
    "    \n",
    "    def borrow_book(self, borBook):\n",
    "        if borBook in self.bookList:\n",
    "            self.bookList.remove(borBook)\n",
    "            return 'Borrowed book' + borBook\n",
    "        else:\n",
    "            return 'Book is not available.'\n",
    "        \n",
    "        \n",
    "shruhti = girls()\n",
    "ajay = boys()\n",
    "\n",
    "print(shruhti.add_book('Data Science'))\n",
    "print(shruhti.borrow_book('Data Science'))\n",
    "print()\n",
    "print(ajay.add_book('ML'))\n",
    "print(ajay.borrow_book('Data Science'))"
   ]
  },
  {
   "cell_type": "markdown",
   "id": "f19f82ce",
   "metadata": {},
   "source": [
    "## 20. Describe the concept of method abstraction in Python and how it relates to polymorphism."
   ]
  },
  {
   "cell_type": "markdown",
   "id": "35438f0e",
   "metadata": {},
   "source": [
    "### Ans 20)\n",
    "\n",
    "- Method abstraction in Python involves defining methods in a way that hides the implementation details from the caller, focusing instead on the method's purpose or behavior. This concept is closely related to polymorphism, as it enables different objects to exhibit different behaviors through a common interface. Method abstraction allows for code reuse, modularity, and flexibility by providing a consistent way to interact with objects regardless of their specific implementations.\n",
    "\n",
    "- Here's how method abstraction relates to polymorphism:\n",
    "\n",
    "1. **Common Interface**: Method abstraction allows multiple objects of different classes to be treated uniformly through a common interface. By defining methods with the same name and signature in different classes or subclasses, method abstraction provides a consistent way to interact with objects, regardless of their specific types or implementations.\n",
    "\n",
    "2. **Overriding Methods**: In Python, method abstraction is often achieved through method overriding, where subclasses provide their own implementations for methods defined in their parent classes. This allows subclasses to customize the behavior of inherited methods while still adhering to the common interface defined by the parent class. Method overriding enables polymorphic behavior, as objects of different subclasses can respond differently to the same method call.\n",
    "\n",
    "3. **Dynamic Dispatch**: Polymorphism in Python is typically achieved through dynamic dispatch, where the appropriate method implementation is selected at runtime based on the actual type of the object. This allows for flexibility and extensibility, as objects can exhibit different behaviors based on their runtime types, even when interacting through a common interface.\n",
    "\n",
    "4. **Code Reuse and Flexibility**: Method abstraction and polymorphism promote code reuse and flexibility by allowing objects to be treated uniformly through a common interface, regardless of their specific implementations. This enables developers to write generic code that can work with a wide range of objects, promoting modularity, scalability, and maintainability.\n",
    "\n",
    "5. **Inheritance and Interface Classes**: In Python, method abstraction can be achieved through inheritance, where subclasses inherit methods from their parent classes and provide their own implementations as needed. Alternatively, method abstraction can be enforced through interface classes, where abstract methods are defined without implementations, and concrete subclasses are required to provide implementations for those methods. Interface classes provide a clear contract for subclasses to adhere to, promoting polymorphic behavior.\n",
    "\n",
    "Overall, method abstraction in Python allows for the definition of common interfaces and behaviors across different classes, enabling polymorphism and promoting code reuse, modularity, and flexibility. By abstracting away implementation details and focusing on the behavior of methods, method abstraction facilitates the development of scalable, maintainable, and extensible software systems."
   ]
  }
 ],
 "metadata": {
  "kernelspec": {
   "display_name": "Python 3 (ipykernel)",
   "language": "python",
   "name": "python3"
  },
  "language_info": {
   "codemirror_mode": {
    "name": "ipython",
    "version": 3
   },
   "file_extension": ".py",
   "mimetype": "text/x-python",
   "name": "python",
   "nbconvert_exporter": "python",
   "pygments_lexer": "ipython3",
   "version": "3.9.12"
  }
 },
 "nbformat": 4,
 "nbformat_minor": 5
}
