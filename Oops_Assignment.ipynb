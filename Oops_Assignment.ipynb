{
 "cells": [
  {
   "cell_type": "markdown",
   "id": "3fb385df",
   "metadata": {},
   "source": [
    "# Oops Problems"
   ]
  },
  {
   "cell_type": "markdown",
   "id": "0b24f10a",
   "metadata": {},
   "source": [
    "## Constructor : "
   ]
  },
  {
   "cell_type": "markdown",
   "id": "118d96a0",
   "metadata": {},
   "source": [
    "### 1. What is a constructor in Python? Explain its purpose and usage."
   ]
  },
  {
   "cell_type": "markdown",
   "id": "38b94e7e",
   "metadata": {},
   "source": [
    "### Ans 1) \n",
    "\n",
    "- Constructor : A constructor in python is a special method/function that gets called when an object of a class is created. \n",
    "- Purpose and usage : The purpose of a constructor is to initialise/assign the values of class's attributes."
   ]
  },
  {
   "cell_type": "markdown",
   "id": "c007bc02",
   "metadata": {},
   "source": [
    "### 2. Differentiate between a parameterless constructor and a parameterized constructor in Python."
   ]
  },
  {
   "cell_type": "markdown",
   "id": "b616d5a2",
   "metadata": {},
   "source": [
    "### Ans 2) \n",
    "\n",
    "- Parameterless Constructor : It is a type of constructor that doesn't take any value while creating the object of the class. And variable is initialized with some fixed value.\n",
    "- Purpose and usage : It is also a type of constructor that takes any value of the parameter while creating the object of the class. And variable is initialized with that paremeter value.\n",
    "- Following are the ex- of both type of constructor:"
   ]
  },
  {
   "cell_type": "code",
   "execution_count": 1,
   "id": "ff331594",
   "metadata": {},
   "outputs": [],
   "source": [
    "# Example of parameterless constructor :\n",
    "class paramerterlessEx :\n",
    "    def __init__(self):\n",
    "        self.name = 'Noorain'\n",
    "        \n",
    "        \n",
    "# Example of parameterized constructor :\n",
    "class parameterizedEx:\n",
    "    def __init__(self, name):\n",
    "        self.name = name"
   ]
  },
  {
   "cell_type": "markdown",
   "id": "356486a6",
   "metadata": {},
   "source": [
    "### 3. How do you define a constructor in a Python class? Provide an example."
   ]
  },
  {
   "cell_type": "markdown",
   "id": "d560417d",
   "metadata": {},
   "source": [
    "### Ans 3) \n",
    "\n",
    "- Note: as python constructor is a method so it is defined in same way as python functions are defined.\n",
    "- Use a keyword `def`\n",
    "- After that write function name `__init__`\n",
    "- In pair of parentheses, pass first paramete `self`.\n",
    "- If it is parameterized, then other parameters can be passed else don't need to pass.\n",
    "- End with colon `:`"
   ]
  },
  {
   "cell_type": "code",
   "execution_count": 2,
   "id": "e6e37dc5",
   "metadata": {},
   "outputs": [],
   "source": [
    "class define_constructor:\n",
    "    def __init__(self):\n",
    "        '''Initialise values of variables..'''"
   ]
  },
  {
   "cell_type": "markdown",
   "id": "6f8eb97b",
   "metadata": {},
   "source": [
    "### 4. Explain the `__init__` method in Python and its role in constructors."
   ]
  },
  {
   "cell_type": "markdown",
   "id": "6e79dc16",
   "metadata": {},
   "source": [
    "### Ans 4) \n",
    "\n",
    "- __init__ is a special method in python that is used to initialize the values of variables of a class."
   ]
  },
  {
   "cell_type": "markdown",
   "id": "9485e160",
   "metadata": {},
   "source": [
    "### 5. In a class named `Person`, create a constructor that initializes the `name` and `age` attributes. Provide an example of creating an object of this class."
   ]
  },
  {
   "cell_type": "markdown",
   "id": "8eb9f17d",
   "metadata": {},
   "source": [
    "### Ans 5) \n",
    "\n",
    "### Steps :\n",
    "- Create a class `Person`.\n",
    "- Create variables name and age inside init method.\n",
    "- Take values of name and age while creating the object of Person class and assign the to values to variables."
   ]
  },
  {
   "cell_type": "code",
   "execution_count": 3,
   "id": "1d8165f8",
   "metadata": {},
   "outputs": [],
   "source": [
    "# creating a class person### Ans 4) \n",
    "class Person :\n",
    "    def __init__(self,name,age):\n",
    "        self.name = name\n",
    "        self.age = age"
   ]
  },
  {
   "cell_type": "code",
   "execution_count": 5,
   "id": "9a1785d9",
   "metadata": {},
   "outputs": [
    {
     "data": {
      "text/plain": [
       "('Noorain Raza', 23)"
      ]
     },
     "execution_count": 5,
     "metadata": {},
     "output_type": "execute_result"
    }
   ],
   "source": [
    "# creating an object the person class\n",
    "noorain = Person('Noorain Raza', 23)\n",
    "\n",
    "# Display the name and age\n",
    "noorain.name , noorain.age"
   ]
  },
  {
   "cell_type": "markdown",
   "id": "60d17f56",
   "metadata": {},
   "source": [
    "### 6. How can you call a constructor explicitly in Python? Give an example."
   ]
  },
  {
   "cell_type": "markdown",
   "id": "8f82dd0b",
   "metadata": {},
   "source": [
    "### Ans 6) \n",
    "\n",
    "- I can call a constructor explicitly in python by using `super()` method of inheritance.\n",
    "- Lets say there are two classes parent and a child class.\n",
    "- We are trying to inherit the properties of parent class inside child class.\n",
    "- When i create the object then i only can initialise the values of child class.\n",
    "- To initialise the values of parent class at the same time, lets call the super() method with init method explicitly.\n",
    "- Super method will initialise the values of superclass (parent class) with passed values.\n",
    "- In this way a constructor can be called explicityly in python."
   ]
  },
  {
   "cell_type": "code",
   "execution_count": 6,
   "id": "ac8d31d3",
   "metadata": {},
   "outputs": [],
   "source": [
    "class parent :\n",
    "    def __init__(self, a,b):\n",
    "        self.a = a\n",
    "        self.b = b\n",
    "        \n",
    "class child(parent) :\n",
    "    def __init__(self,a,b,x,y):\n",
    "        super().__init__(a,b)\n",
    "        self.x = x\n",
    "        self.y = y"
   ]
  },
  {
   "cell_type": "code",
   "execution_count": 7,
   "id": "0bb64824",
   "metadata": {},
   "outputs": [],
   "source": [
    "obj1 = child(1,2,3,4)"
   ]
  },
  {
   "cell_type": "code",
   "execution_count": 8,
   "id": "48969aaf",
   "metadata": {},
   "outputs": [
    {
     "data": {
      "text/plain": [
       "1"
      ]
     },
     "execution_count": 8,
     "metadata": {},
     "output_type": "execute_result"
    }
   ],
   "source": [
    "obj1.a"
   ]
  },
  {
   "cell_type": "markdown",
   "id": "4cee1f58",
   "metadata": {},
   "source": [
    "### 7. What is the significance of the `self` parameter in Python constructors? Explain with an example."
   ]
  },
  {
   "cell_type": "markdown",
   "id": "80fef54b",
   "metadata": {},
   "source": [
    "### Ans 7) \n",
    "\n",
    "- `self`: Self paremeter is a reference of current object of the class.\n",
    "- self parameter is used to access the attributes and methods of the class.\n",
    "- In below code :\n",
    "- 1) init method initialise the value of city.\n",
    "- 2) in your_city method , variable `city` is accessed by `self` paremeter.\n",
    "- When i create the object of a class then automatically the reference of that object is passed to `self` paremeter."
   ]
  },
  {
   "cell_type": "code",
   "execution_count": 9,
   "id": "d44181ce",
   "metadata": {},
   "outputs": [],
   "source": [
    "class self_parameter :\n",
    "    def __init__(self , city):\n",
    "        self.city = city\n",
    "        \n",
    "    def your_city(self):\n",
    "        return \"Your city is \" + self.city"
   ]
  },
  {
   "cell_type": "code",
   "execution_count": 10,
   "id": "4ec9bed2",
   "metadata": {},
   "outputs": [],
   "source": [
    "obj2 = self_parameter('Bareilly')"
   ]
  },
  {
   "cell_type": "code",
   "execution_count": 11,
   "id": "117e82d5",
   "metadata": {},
   "outputs": [
    {
     "data": {
      "text/plain": [
       "'Your city is Bareilly'"
      ]
     },
     "execution_count": 11,
     "metadata": {},
     "output_type": "execute_result"
    }
   ],
   "source": [
    "obj2.your_city()"
   ]
  },
  {
   "cell_type": "markdown",
   "id": "cc390836",
   "metadata": {},
   "source": [
    "### 8. Discuss the concept of default constructors in Python. When are they used?"
   ]
  },
  {
   "cell_type": "markdown",
   "id": "643c5d99",
   "metadata": {},
   "source": [
    "### Ans 8) \n",
    "\n",
    "- Default constructors : It is a type of constructors which takes no argument.\n",
    "- They are used to initialise the attribues with default values.\n",
    "- following is an ex - "
   ]
  },
  {
   "cell_type": "code",
   "execution_count": 21,
   "id": "5781e04e",
   "metadata": {},
   "outputs": [],
   "source": [
    "class default_constructor :\n",
    "    def __init__(self):\n",
    "        self.course = 'Data Science'\n",
    "        \n",
    "# Whenever the object of this class is created, the attribute 'course' is automatically initialised with 'Data Science' value."
   ]
  },
  {
   "cell_type": "markdown",
   "id": "0fa80b23",
   "metadata": {},
   "source": [
    "### 9. Create a Python class called `Rectangle` with a constructor that initializes the `width` and `height` attributes. Provide a method to calculate the area of the rectangle."
   ]
  },
  {
   "cell_type": "markdown",
   "id": "54d60b49",
   "metadata": {},
   "source": [
    "### Ans 9) \n",
    "\n",
    "### Steps:\n",
    "- Create `Rectangle` class.\n",
    "- Define `__init__` method to take the values of width and height and assign them to attributes.\n",
    "- Define `rectangle_area` method to calculate the area of rectangle for given values of height and width.\n"
   ]
  },
  {
   "cell_type": "code",
   "execution_count": 18,
   "id": "d3f65584",
   "metadata": {},
   "outputs": [],
   "source": [
    "class Rectangle :\n",
    "    def __init__(self, width , height):\n",
    "        self.width = width\n",
    "        self.height = height\n",
    "        \n",
    "    ## method to calculate the area of that rectangle\n",
    "    def rectangle_area(self):\n",
    "        return \"Area of rectangle is \" + str(self.width*self.height)"
   ]
  },
  {
   "cell_type": "code",
   "execution_count": 19,
   "id": "435f4f89",
   "metadata": {},
   "outputs": [],
   "source": [
    "# creating object for rectangle and passing values of height and width\n",
    "rec = Rectangle(3,6)"
   ]
  },
  {
   "cell_type": "code",
   "execution_count": 20,
   "id": "e3da3d1d",
   "metadata": {},
   "outputs": [
    {
     "data": {
      "text/plain": [
       "'Area of rectangle is 18'"
      ]
     },
     "execution_count": 20,
     "metadata": {},
     "output_type": "execute_result"
    }
   ],
   "source": [
    "# calling a method to calculate the area of the rectangle\n",
    "rec.rectangle_area()"
   ]
  },
  {
   "cell_type": "markdown",
   "id": "ba0162c2",
   "metadata": {},
   "source": [
    "### 10. How can you have multiple constructors in a Python class? Explain with an example."
   ]
  },
  {
   "cell_type": "markdown",
   "id": "60b69be2",
   "metadata": {},
   "source": [
    "### Ans 10) \n",
    "\n",
    "- It is not possible to have multiple constructors in a python class.\n",
    "- If we try to define multiple constructors then only latest one will be considered. Because latest constructor overwrites previous constructors.\n",
    "- In below class i have defined three constructors. But when i created object for this class only last constructor was called that takes three parameters name, age and height."
   ]
  },
  {
   "cell_type": "code",
   "execution_count": 1,
   "id": "a88fb582",
   "metadata": {},
   "outputs": [],
   "source": [
    "class multConstructors :\n",
    "    def __init__(self, name):\n",
    "        self.name = name \n",
    "    def __init__(self,name, age):\n",
    "        self.name = name\n",
    "        self.age = age \n",
    "    def __init__(self,name, age ,height):\n",
    "        self.name = name\n",
    "        self.age = age\n",
    "        aelf.height = height \n",
    "    \n",
    "    "
   ]
  },
  {
   "cell_type": "code",
   "execution_count": 2,
   "id": "628bcc43",
   "metadata": {},
   "outputs": [
    {
     "ename": "TypeError",
     "evalue": "__init__() missing 3 required positional arguments: 'name', 'age', and 'height'",
     "output_type": "error",
     "traceback": [
      "\u001b[1;31m---------------------------------------------------------------------------\u001b[0m",
      "\u001b[1;31mTypeError\u001b[0m                                 Traceback (most recent call last)",
      "Input \u001b[1;32mIn [2]\u001b[0m, in \u001b[0;36m<cell line: 1>\u001b[1;34m()\u001b[0m\n\u001b[1;32m----> 1\u001b[0m in1 \u001b[38;5;241m=\u001b[39m \u001b[43mmultConstructors\u001b[49m\u001b[43m(\u001b[49m\u001b[43m)\u001b[49m\n",
      "\u001b[1;31mTypeError\u001b[0m: __init__() missing 3 required positional arguments: 'name', 'age', and 'height'"
     ]
    }
   ],
   "source": [
    "in1 = multConstructors()\n"
   ]
  },
  {
   "cell_type": "markdown",
   "id": "69b61464",
   "metadata": {},
   "source": [
    "- But we can initialise above ex- parameters in following given way by using `*args`.\n",
    "- Using `*agrs` keyword we can take any number of parameters.\n",
    "- Instead of defining multiple constructors to initialise different variables, we can write conditional statement for parameters and then we can initialise the variables.\n",
    "- Following is an ex- \n",
    "- 1) When only one argument is passed consider it as name.\n",
    "- 2) When 2 arguments are passed, consider first as name and second as age.\n",
    "- 2) When 3 arguments are passed, consider first as name and second as age and third as height."
   ]
  },
  {
   "cell_type": "code",
   "execution_count": 10,
   "id": "626855d7",
   "metadata": {},
   "outputs": [],
   "source": [
    "class multconstructors :\n",
    "    def __init__(self, *args):\n",
    "        if len(args) == 1:\n",
    "            self.name = args[0]\n",
    "            \n",
    "        elif len(args) == 2:\n",
    "            self.name = args[0]\n",
    "            self.age = args[1]\n",
    "            \n",
    "        elif len(args) == 3:\n",
    "            self.name = args[0]\n",
    "            self.age = args[1]\n",
    "            self.height = args[2]"
   ]
  },
  {
   "cell_type": "code",
   "execution_count": 11,
   "id": "fc5def1b",
   "metadata": {},
   "outputs": [],
   "source": [
    "obj1 = multconstructors('NOOR')\n",
    "obj2 = multconstructors('NOOR',23)\n",
    "obj3 = multconstructors('NOOR',23,5.5)\n",
    "\n"
   ]
  },
  {
   "cell_type": "markdown",
   "id": "2fb89533",
   "metadata": {},
   "source": [
    "### 11. What is method overloading, and how is it related to constructors in Python?"
   ]
  },
  {
   "cell_type": "markdown",
   "id": "4f106743",
   "metadata": {},
   "source": [
    "### Ans 11) \n",
    "\n",
    "- When there are two or more than two methods with same name then it is called method overloading.\n",
    "- In this case latest defined method is called.\n",
    "- For ex- if we defined two __init__ method inside a class with different paremeters then only the last __init__ method will be called. \n",
    "- As python doesn't support method overloading."
   ]
  },
  {
   "cell_type": "markdown",
   "id": "91459f4e",
   "metadata": {},
   "source": [
    "### 12. Explain the use of the `super()` function in Python constructors. Provide an example."
   ]
  },
  {
   "cell_type": "markdown",
   "id": "a85d29cb",
   "metadata": {},
   "source": [
    "### Ans 12) \n",
    "\n",
    "- `super()` is a method in inheritance which is used to access and use the properties of `super class` (parent class) in child class.\n",
    "- In python constructors `super()` function can be used to initialise the variables of super class.\n",
    "- In below ex- \n",
    "- 1) There are two classes parent and child class.\n",
    "- 2) child class initialise two parameters name and age.\n",
    "- 3) Then by using super function i initialised name of parent class."
   ]
  },
  {
   "cell_type": "code",
   "execution_count": 12,
   "id": "11c4a651",
   "metadata": {},
   "outputs": [],
   "source": [
    "class parent:\n",
    "    def __init__(self,name):\n",
    "        self.name = name\n",
    "        \n",
    "class child(parent):\n",
    "    def __init__(self,name, age):\n",
    "        super().__init__(name)"
   ]
  },
  {
   "cell_type": "code",
   "execution_count": 14,
   "id": "242d98d4",
   "metadata": {},
   "outputs": [],
   "source": [
    "myname = child('noorain',23)"
   ]
  },
  {
   "cell_type": "markdown",
   "id": "d6bbc588",
   "metadata": {},
   "source": [
    "### 13. Create a class called `Book` with a constructor that initializes the `title`, `author`, and `published_year` ### attributes. Provide a method to display book details."
   ]
  },
  {
   "cell_type": "markdown",
   "id": "ee681a62",
   "metadata": {},
   "source": [
    "### Ans 13) "
   ]
  },
  {
   "cell_type": "code",
   "execution_count": 33,
   "id": "d068f30b",
   "metadata": {},
   "outputs": [],
   "source": [
    "class Book :\n",
    "    def __init__(self, title, author,published_year):\n",
    "        self.title = title\n",
    "        self.author = author\n",
    "        self.published_year = published_year\n",
    "\n",
    "\n",
    "    def display_book_details(self):\n",
    "        print(\"Following are the book details : \")\n",
    "        print(f\"Book Title : {self.title}\\nBook Author : {self.author}\\nPunlished Year : {self.published_year}\")"
   ]
  },
  {
   "cell_type": "code",
   "execution_count": 35,
   "id": "a565a2fa",
   "metadata": {},
   "outputs": [],
   "source": [
    "b1 = Book('Kyu Batay', 'Me',2024)"
   ]
  },
  {
   "cell_type": "code",
   "execution_count": 36,
   "id": "d15c2a4d",
   "metadata": {},
   "outputs": [
    {
     "name": "stdout",
     "output_type": "stream",
     "text": [
      "Following are the book details : \n",
      "Book Title : Kyu Batay\n",
      "Book Author : Me\n",
      "Punlished Year : 2024\n"
     ]
    }
   ],
   "source": [
    "b1.display_book_details()"
   ]
  },
  {
   "cell_type": "markdown",
   "id": "7062f4d4",
   "metadata": {},
   "source": [
    "### 14. Discuss the differences between constructors and regular methods in Python classes."
   ]
  },
  {
   "cell_type": "markdown",
   "id": "32d5fb65",
   "metadata": {},
   "source": [
    "### Ans 14) \n",
    "\n",
    "- Constructors : constructors are special methods in python.\n",
    "- 1) They are used to initialse the attributes of a class.\n",
    "- 2) They are called automatically when an object of the class is created.\n",
    "- 3) They return none.\n",
    "- Regular methods : the methods which are defined to perform specific task.\n",
    "- 1) These methods are not automatically called, we have to call them when needed.\n",
    "- 2) They can return none or specific value."
   ]
  },
  {
   "cell_type": "markdown",
   "id": "b67c64fe",
   "metadata": {},
   "source": [
    "### 15. Explain the role of the `self` parameter in instance variable initialization within a constructor."
   ]
  },
  {
   "cell_type": "markdown",
   "id": "86ac80de",
   "metadata": {},
   "source": [
    "### Ans 15) \n",
    "\n",
    "- Below is an ex- of `self` parameter that initialize the variable within constructor.\n",
    "- When i create an object for the class `self_parameter`\n",
    "- Then `__init__` function automatically get called, which takes two paremeters : `self`(object) and day.\n",
    "- Then inside the init function a variable `today` is initiazed with value of parameter `day` with the help of `self` parameter."
   ]
  },
  {
   "cell_type": "code",
   "execution_count": 15,
   "id": "f5da5676",
   "metadata": {},
   "outputs": [],
   "source": [
    "class self_parameter :\n",
    "    def __init__(self, day):\n",
    "        self.today = day"
   ]
  },
  {
   "cell_type": "code",
   "execution_count": 16,
   "id": "78047d75",
   "metadata": {},
   "outputs": [],
   "source": [
    "ob1 = self_parameter('sunday')"
   ]
  },
  {
   "cell_type": "markdown",
   "id": "0049dbec",
   "metadata": {},
   "source": [
    "### 16. How do you prevent a class from having multiple instances by using constructors in Python? Provide an example."
   ]
  },
  {
   "cell_type": "markdown",
   "id": "627cfa6d",
   "metadata": {},
   "source": [
    "### 17. Create a Python class called `Student` with a constructor that takes a list of subjects as a parameter and initializes the `subjects` attribute."
   ]
  },
  {
   "cell_type": "markdown",
   "id": "59bd9e89",
   "metadata": {},
   "source": [
    "### Ans 17) "
   ]
  },
  {
   "cell_type": "code",
   "execution_count": 37,
   "id": "762e5721",
   "metadata": {},
   "outputs": [],
   "source": [
    "class Student :\n",
    "    def __init__(self,subject_list):\n",
    "        self.subjects = subject_list"
   ]
  },
  {
   "cell_type": "code",
   "execution_count": 39,
   "id": "f978bf6b",
   "metadata": {},
   "outputs": [],
   "source": [
    "noorain = Student(['Data Science','ML','DL','NLP'])"
   ]
  },
  {
   "cell_type": "code",
   "execution_count": 40,
   "id": "e1bff773",
   "metadata": {},
   "outputs": [
    {
     "data": {
      "text/plain": [
       "['Data Science', 'ML', 'DL', 'NLP']"
      ]
     },
     "execution_count": 40,
     "metadata": {},
     "output_type": "execute_result"
    }
   ],
   "source": [
    "noorain.subjects"
   ]
  },
  {
   "cell_type": "markdown",
   "id": "341a5ea1",
   "metadata": {},
   "source": [
    "### 18. What is the purpose of the `__del__` method in Python classes, and how does it relate to constructors?"
   ]
  },
  {
   "cell_type": "markdown",
   "id": "ad7060cd",
   "metadata": {},
   "source": [
    "### Ans 18) \n",
    "\n",
    "1) Purpose :\n",
    "- `__del__` is a special method in python which is used to destroy an object.\n",
    "- closing a file, releasing resources, freeing up memory are done by `__del__` method.\n",
    "- `__del__` is called as destrcutors. Both constructors and destuctors are called automatically.\n",
    "- Constructor is called when an object is created while destructor is called when is object is deleted."
   ]
  },
  {
   "cell_type": "markdown",
   "id": "616b2ca7",
   "metadata": {},
   "source": [
    "### 19. Explain the use of constructor chaining in Python. Provide a practical example."
   ]
  },
  {
   "cell_type": "markdown",
   "id": "b0f0cf0e",
   "metadata": {},
   "source": [
    "### Ans 19) \n",
    "\n",
    "- Constructor chaining : It a process of calling one constructor from another constructor.\n",
    "- It is very usefull when we want to call multiple constructors, one after another, by initializing only one object. \n",
    "- following is an ex- of constructor chaining :\n",
    "- 1) child is child class that takes the values of all class's parameters then by using super() method it creates chain to pass the value parent class then pass the values of grand parent class."
   ]
  },
  {
   "cell_type": "code",
   "execution_count": 17,
   "id": "6493c945",
   "metadata": {},
   "outputs": [],
   "source": [
    "class grandParent :\n",
    "    def __init__(self, dada_ka_naam):\n",
    "        self.dada_ka_naam = dada_ka_naam\n",
    "        \n",
    "class parent(grandParent) :\n",
    "    def __init__(self, dada_ka_naam ,papa_ka_naam):\n",
    "        super().__init__(dada_ka_naam)\n",
    "        self.papa_ka_naam = papa_ka_naam\n",
    "        \n",
    "class child(parent):\n",
    "    def __init__(self, dada_ka_naam, papa_ka_naam, mera_naam):\n",
    "        super().__init__(dada_ka_naam, papa_ka_naam)\n",
    "        self.mera_naam = mera_naam"
   ]
  },
  {
   "cell_type": "code",
   "execution_count": 18,
   "id": "01b95b26",
   "metadata": {},
   "outputs": [],
   "source": [
    "me = child(\"lalu prasad\",\"Kalu Prasad\",\"Golu Prasad\")"
   ]
  },
  {
   "cell_type": "markdown",
   "id": "43d334cb",
   "metadata": {},
   "source": [
    "### 20. Create a Python class called `Car` with a default constructor that initializes the `make` and `model` attributes. Provide a method to display car information."
   ]
  },
  {
   "cell_type": "markdown",
   "id": "656c992b",
   "metadata": {},
   "source": [
    "### Ans 20)"
   ]
  },
  {
   "cell_type": "code",
   "execution_count": 42,
   "id": "292010ba",
   "metadata": {},
   "outputs": [],
   "source": [
    "class Car :\n",
    "    def __init__(self):\n",
    "        self.make = 'Maruti Suzuki'\n",
    "        self.model = 'Pata nahi'\n",
    "        \n",
    "    def car_details(self):\n",
    "        print(\"Following are the car details : \")\n",
    "        print(f\"Company name : {self.make}\\nModel Name : {self.model}\")"
   ]
  },
  {
   "cell_type": "code",
   "execution_count": 43,
   "id": "be909f5f",
   "metadata": {},
   "outputs": [],
   "source": [
    "myCar = Car()"
   ]
  },
  {
   "cell_type": "code",
   "execution_count": 44,
   "id": "7e93f67a",
   "metadata": {
    "scrolled": true
   },
   "outputs": [
    {
     "name": "stdout",
     "output_type": "stream",
     "text": [
      "Following are the car details : \n",
      "Company name : Maruti Suzuki\n",
      "Model Name : Pata nahi\n"
     ]
    }
   ],
   "source": [
    "myCar.car_details()"
   ]
  },
  {
   "cell_type": "markdown",
   "id": "b1830775",
   "metadata": {},
   "source": [
    "# Inheritance:"
   ]
  },
  {
   "cell_type": "markdown",
   "id": "aa10ec4e",
   "metadata": {},
   "source": [
    "## 1. What is inheritance in Python? Explain its significance in object-oriented programming."
   ]
  },
  {
   "cell_type": "markdown",
   "id": "1eeb31b6",
   "metadata": {},
   "source": [
    "### Ans 1) \n",
    "\n",
    "- Inheritance :- Inheritance is a concept in OOPs that is used to access and use the properties of parent class in child class.\n",
    "- Significance :- \n",
    "- 1) Code Reusability: By using inheritance we can reuse the code/method of a class into another class (properties of parent class into child class) , which reduces the duplication of the code and promotes maintainability.\n",
    "- 2) Code Organization: By using inheritance we can create a hierarchy of classes which make it easier to undertand the relationship and dependencies between different parts of your program.\n",
    "- 3) Modularity: By using inheritance, we can modify or extend the functionality of a parent class without changing the parent class itself. This modularity can enhance the flexibility and scalability of our code."
   ]
  },
  {
   "cell_type": "markdown",
   "id": "63654535",
   "metadata": {},
   "source": [
    "## 2. Differentiate between single inheritance and multiple inheritance in Python. Provide examples for each."
   ]
  },
  {
   "cell_type": "markdown",
   "id": "8acd4d24",
   "metadata": {},
   "source": [
    "### Ans 2) \n",
    "\n",
    "- Single Inheritance :- In single inheritance child class can use the properties/methods of only one parent class. \n",
    "- Multiple Inheritance :- In multiple inheritance child class can use the properties/methods of more than one parent class.\n",
    "- Following are examples of both single and multiple inheritance."
   ]
  },
  {
   "cell_type": "code",
   "execution_count": 1,
   "id": "a8875c08",
   "metadata": {},
   "outputs": [],
   "source": [
    "## Ex- of Single Inheritance.\n",
    "\n",
    "class human:\n",
    "    def __init__(self, name , gender):\n",
    "        self.name = name\n",
    "        self.gender = gender\n",
    "        \n",
    "    def human_info(self):\n",
    "        return f\"I'm {self.name} and my gender is {self.gender}.\"\n",
    "    \n",
    "class person(human):\n",
    "    def __init__(self, name , gender):\n",
    "        super().__init__(name, gender)"
   ]
  },
  {
   "cell_type": "code",
   "execution_count": 2,
   "id": "ff99c980",
   "metadata": {},
   "outputs": [],
   "source": [
    "me = person('Bablu', 'Male')"
   ]
  },
  {
   "cell_type": "code",
   "execution_count": 3,
   "id": "fde6544e",
   "metadata": {},
   "outputs": [
    {
     "data": {
      "text/plain": [
       "\"I'm Bablu and my gender is Male.\""
      ]
     },
     "execution_count": 3,
     "metadata": {},
     "output_type": "execute_result"
    }
   ],
   "source": [
    "me.human_info()"
   ]
  },
  {
   "cell_type": "code",
   "execution_count": 4,
   "id": "22507665",
   "metadata": {},
   "outputs": [],
   "source": [
    "## Ex- of Multiple Inheritance.\n",
    "\n",
    "class father:\n",
    "    def father_job(self):\n",
    "        return f\"My father {self.father_name} goes to office.\"\n",
    "\n",
    "class mother:\n",
    "    def mother_job(self):\n",
    "        return f\"My mother {self.mother_name} is house wife.\"\n",
    "\n",
    "class child(father, mother):\n",
    "    def __init__(self, father_name, mother_name):\n",
    "        self.father_name = father_name\n",
    "        self.mother_name = mother_name"
   ]
  },
  {
   "cell_type": "code",
   "execution_count": 5,
   "id": "95a2c028",
   "metadata": {},
   "outputs": [],
   "source": [
    "me = child('mohan laal','devi ji')"
   ]
  },
  {
   "cell_type": "code",
   "execution_count": 6,
   "id": "ee636940",
   "metadata": {},
   "outputs": [
    {
     "data": {
      "text/plain": [
       "'My father mohan laal goes to office.'"
      ]
     },
     "execution_count": 6,
     "metadata": {},
     "output_type": "execute_result"
    }
   ],
   "source": [
    "me.father_job()"
   ]
  },
  {
   "cell_type": "code",
   "execution_count": 7,
   "id": "4f9a57e1",
   "metadata": {},
   "outputs": [
    {
     "data": {
      "text/plain": [
       "'My mother devi ji is house wife.'"
      ]
     },
     "execution_count": 7,
     "metadata": {},
     "output_type": "execute_result"
    }
   ],
   "source": [
    "me.mother_job()"
   ]
  },
  {
   "cell_type": "markdown",
   "id": "9bf47fa4",
   "metadata": {},
   "source": [
    "## 3. Create a Python class called `Vehicle` with attributes `color` and `speed`. Then, create a child class called `Car` that inherits from `Vehicle` and adds a `brand` attribute. Provide an example of creating a `Car` object."
   ]
  },
  {
   "cell_type": "markdown",
   "id": "6635e6b3",
   "metadata": {},
   "source": [
    "### Ans 3) "
   ]
  },
  {
   "cell_type": "code",
   "execution_count": 8,
   "id": "3c64194b",
   "metadata": {},
   "outputs": [],
   "source": [
    "class Vehicle:\n",
    "    def __init__(self, color, speed):\n",
    "        self.color = color\n",
    "        self.speed = speed\n",
    "\n",
    "class Car(Vehicle):\n",
    "    def __init__(self,color, speed, brand ):\n",
    "        super().__init__(color, speed)\n",
    "        self.brand = brand"
   ]
  },
  {
   "cell_type": "code",
   "execution_count": 9,
   "id": "1910759e",
   "metadata": {},
   "outputs": [],
   "source": [
    "# creating a car object\n",
    "thar = Car('Black','100km/hr','Mahindra')"
   ]
  },
  {
   "cell_type": "markdown",
   "id": "1ada66f5",
   "metadata": {},
   "source": [
    "## 4. Explain the concept of method overriding in inheritance. Provide a practical example."
   ]
  },
  {
   "cell_type": "markdown",
   "id": "67e7c05e",
   "metadata": {},
   "source": [
    "### Ans 4) \n",
    "\n",
    "- Method overriding in inheritance occurs when class A has a method and class B has also a same method that exits in class A.\n",
    "- In method overriding, new method change the definition of existing method.\n",
    "- In following ex- \n",
    "- 1) class A has a method `same_func`.\n",
    "- 2) in class B also has a same method `same_func` but different definition.\n",
    "- 3) When we create an object for class B and call the `same_func` then latest defined method is called and definition of existing method is changed."
   ]
  },
  {
   "cell_type": "code",
   "execution_count": 10,
   "id": "df284dc8",
   "metadata": {},
   "outputs": [],
   "source": [
    "class A:\n",
    "    def same_func(self):\n",
    "        return \"Function of class A.\"\n",
    "\n",
    "class B(A):\n",
    "    # func that already exists in class A\n",
    "    def same_func(self):\n",
    "        return \"Modified Function of class A.\" "
   ]
  },
  {
   "cell_type": "code",
   "execution_count": 11,
   "id": "52280d8c",
   "metadata": {},
   "outputs": [
    {
     "data": {
      "text/plain": [
       "'Modified Function of class A.'"
      ]
     },
     "execution_count": 11,
     "metadata": {},
     "output_type": "execute_result"
    }
   ],
   "source": [
    "obj1 = B()\n",
    "obj1.same_func()"
   ]
  },
  {
   "cell_type": "markdown",
   "id": "fe744e42",
   "metadata": {},
   "source": [
    "## 5. How can you access the methods and attributes of a parent class from a child class in Python? Give an example."
   ]
  },
  {
   "cell_type": "markdown",
   "id": "262e6aad",
   "metadata": {},
   "source": [
    "### Ans 5)"
   ]
  },
  {
   "cell_type": "code",
   "execution_count": 3,
   "id": "2cf1ccf4",
   "metadata": {},
   "outputs": [],
   "source": [
    "class parent:\n",
    "    def parent_method(self):\n",
    "        return \"This is a method of parent class.\"\n",
    "    \n",
    "class child(parent):\n",
    "    def child_method(self):\n",
    "        return \"This is a method of child class.\"\n",
    "    "
   ]
  },
  {
   "cell_type": "code",
   "execution_count": 4,
   "id": "e1517bff",
   "metadata": {},
   "outputs": [],
   "source": [
    "obj1 = child()"
   ]
  },
  {
   "cell_type": "code",
   "execution_count": 7,
   "id": "28bb4525",
   "metadata": {},
   "outputs": [
    {
     "data": {
      "text/plain": [
       "'This is a method of child class.'"
      ]
     },
     "execution_count": 7,
     "metadata": {},
     "output_type": "execute_result"
    }
   ],
   "source": [
    "obj1.child_method()"
   ]
  },
  {
   "cell_type": "code",
   "execution_count": 8,
   "id": "c53a5477",
   "metadata": {},
   "outputs": [
    {
     "data": {
      "text/plain": [
       "'This is a method of parent class.'"
      ]
     },
     "execution_count": 8,
     "metadata": {},
     "output_type": "execute_result"
    }
   ],
   "source": [
    "obj1.parent_method()"
   ]
  },
  {
   "cell_type": "markdown",
   "id": "6b6fcfe3",
   "metadata": {},
   "source": [
    "## 6. Discuss the use of the `super()` function in Python inheritance. When and why is it used? Provide an example."
   ]
  },
  {
   "cell_type": "markdown",
   "id": "9dde92e3",
   "metadata": {},
   "source": [
    "### Ans 6)"
   ]
  },
  {
   "cell_type": "code",
   "execution_count": 9,
   "id": "57bbf8e0",
   "metadata": {},
   "outputs": [],
   "source": [
    "class parent:\n",
    "    def __init__(self, name):\n",
    "        self.name = name\n",
    "        \n",
    "class child(parent):\n",
    "    def __init__(self,name,sex):\n",
    "        super().__init__(name)\n",
    "        self.sex = sex"
   ]
  },
  {
   "cell_type": "code",
   "execution_count": 10,
   "id": "2ce484cf",
   "metadata": {},
   "outputs": [],
   "source": [
    "noor = child(\"Noorain\",\"Male\")"
   ]
  },
  {
   "cell_type": "markdown",
   "id": "df37b16a",
   "metadata": {},
   "source": [
    "## 7. Create a Python class called `Animal` with a method `speak()`. Then, create child classes `Dog` and `Cat` that inherit from `Animal` and override the `speak()` method. Provide an example of using these classes."
   ]
  },
  {
   "cell_type": "markdown",
   "id": "e8e1e4fc",
   "metadata": {},
   "source": [
    "### Ans 7)"
   ]
  },
  {
   "cell_type": "code",
   "execution_count": 16,
   "id": "929988f4",
   "metadata": {},
   "outputs": [],
   "source": [
    "class Animal:\n",
    "    def speak(self, sound):\n",
    "        self.sound = sound\n",
    "        return  self.sound \n",
    "    \n",
    "    \n",
    "class Dog(Animal):\n",
    "    def speak(self, sound):\n",
    "        self.sound = sound\n",
    "        return  self.sound\n",
    "        \n",
    "class Cat(Animal):\n",
    "    def speak(self, sound):\n",
    "        self.sound = sound\n",
    "        return  self.sound"
   ]
  },
  {
   "cell_type": "code",
   "execution_count": 17,
   "id": "36918ac1",
   "metadata": {},
   "outputs": [],
   "source": [
    "d1 = Dog()"
   ]
  },
  {
   "cell_type": "code",
   "execution_count": 18,
   "id": "869a1c84",
   "metadata": {},
   "outputs": [
    {
     "data": {
      "text/plain": [
       "'Bho Bho'"
      ]
     },
     "execution_count": 18,
     "metadata": {},
     "output_type": "execute_result"
    }
   ],
   "source": [
    "d1.speak('Bho Bho')"
   ]
  },
  {
   "cell_type": "code",
   "execution_count": 19,
   "id": "d27dbf44",
   "metadata": {},
   "outputs": [],
   "source": [
    "c1 = Cat()"
   ]
  },
  {
   "cell_type": "code",
   "execution_count": 20,
   "id": "b4fb6bac",
   "metadata": {},
   "outputs": [
    {
     "data": {
      "text/plain": [
       "'Meaw Meaw'"
      ]
     },
     "execution_count": 20,
     "metadata": {},
     "output_type": "execute_result"
    }
   ],
   "source": [
    "c1.speak('Meaw Meaw')"
   ]
  },
  {
   "cell_type": "markdown",
   "id": "6c696d73",
   "metadata": {},
   "source": [
    "## 8. Explain the role of the `isinstance()` function in Python and how it relates to inheritance."
   ]
  },
  {
   "cell_type": "markdown",
   "id": "726b40d3",
   "metadata": {},
   "source": [
    "### Ans 8)\n",
    "\n",
    "- `isinstance()` : It is a function in python which is used to find whether a created object/instance is an object of a particular class or not ?\n",
    "- `isinstance(obj, class)` : it takes two arguments: 1) created object, 2) defined class.\n",
    "- Note:  In inheritance we create multiple classes in relation to each other and we create objects for those classes. But sometimes we don't remember which object belongs to which class. To check, whether an object is an instance of a class or not we use isinstance() function in inheritance.\n",
    "- Following in an ex- "
   ]
  },
  {
   "cell_type": "code",
   "execution_count": 21,
   "id": "9575e9af",
   "metadata": {},
   "outputs": [
    {
     "data": {
      "text/plain": [
       "True"
      ]
     },
     "execution_count": 21,
     "metadata": {},
     "output_type": "execute_result"
    }
   ],
   "source": [
    "# Ex- 1\n",
    "a = 10\n",
    "isinstance(a,int)\n",
    "\n",
    "# explanation : a is an object of integer class, as it stores an integer number 10. \n",
    "# By using isinstance function i try to check whether a is an object of int class or not? "
   ]
  },
  {
   "cell_type": "code",
   "execution_count": 18,
   "id": "7889a44a",
   "metadata": {},
   "outputs": [],
   "source": [
    "# Ex- 2\n",
    "class first:\n",
    "    def hmm(self):\n",
    "        return 'Hum Tum alag hai.'\n",
    "    \n",
    "class second:\n",
    "    def tmm(self):\n",
    "        return 'Tm wohi ho jo me hu.'"
   ]
  },
  {
   "cell_type": "code",
   "execution_count": 19,
   "id": "c9e872b6",
   "metadata": {},
   "outputs": [],
   "source": [
    "me = first()\n",
    "tm = second()"
   ]
  },
  {
   "cell_type": "code",
   "execution_count": 20,
   "id": "0045d98a",
   "metadata": {},
   "outputs": [
    {
     "data": {
      "text/plain": [
       "False"
      ]
     },
     "execution_count": 20,
     "metadata": {},
     "output_type": "execute_result"
    }
   ],
   "source": [
    "isinstance(me,second)"
   ]
  },
  {
   "cell_type": "markdown",
   "id": "b1d151e9",
   "metadata": {},
   "source": [
    "## 9. What is the purpose of the `issubclass()` function in Python? Provide an example."
   ]
  },
  {
   "cell_type": "markdown",
   "id": "859feed3",
   "metadata": {},
   "source": [
    "### Ans 9) \n",
    "- `issubclass()` : issubclass() is a function that check whether a class is a subclass of another class or not?\n",
    "- `issubclass(class1, class2)` : it takes two arguments : 1) class1 , that is a subclass to be check. 2) class2, another class or list/tuple of classes.\n",
    "\n",
    "- sometimes in inheritance we created multiple classes and relates them. But we foget which is parent(super) and which is child(subclass) class.\n",
    "- by using issubclass() function we can find whether a class is a subclass of another class or not?\n",
    "- Following is ex- "
   ]
  },
  {
   "cell_type": "code",
   "execution_count": 22,
   "id": "ae0a09dc",
   "metadata": {},
   "outputs": [],
   "source": [
    "class parent:\n",
    "    pass\n",
    "\n",
    "class child(parent):\n",
    "    pass"
   ]
  },
  {
   "cell_type": "code",
   "execution_count": 25,
   "id": "47acddcb",
   "metadata": {},
   "outputs": [
    {
     "name": "stdout",
     "output_type": "stream",
     "text": [
      "True\n",
      "False\n",
      "True\n",
      "True\n"
     ]
    }
   ],
   "source": [
    "print(issubclass(child, parent))\n",
    "print(issubclass(parent, child))\n",
    "print(issubclass(child, child))\n",
    "print(issubclass(parent, parent))\n"
   ]
  },
  {
   "cell_type": "markdown",
   "id": "6b64c50d",
   "metadata": {},
   "source": [
    "## 10. Discuss the concept of constructor inheritance in Python. How are constructors inherited in child classes?"
   ]
  },
  {
   "cell_type": "code",
   "execution_count": null,
   "id": "c44c3f1e",
   "metadata": {},
   "outputs": [],
   "source": []
  },
  {
   "cell_type": "markdown",
   "id": "c37e9c4c",
   "metadata": {},
   "source": [
    "## 11. Create a Python class called `Shape` with a method `area()` that calculates the area of a shape. Then, create child classes `Circle` and `Rectangle` that inherit from `Shape` and implement the `area()` method accordingly. Provide an example."
   ]
  },
  {
   "cell_type": "code",
   "execution_count": 27,
   "id": "bb81436e",
   "metadata": {},
   "outputs": [],
   "source": [
    "class Shape:\n",
    "    def area(self,*args):\n",
    "        if len(args) == 1:\n",
    "            return \"Area of circle :\" + str(3.14*args[0]*args[0])\n",
    "        elif len(args) == 2:\n",
    "            return \"Area of Rectangle :\" + str(args[0]*args[1])\n",
    "    \n",
    "class Circle(Shape):\n",
    "    pass\n",
    "class Rectangle(Shape):\n",
    "    pass"
   ]
  },
  {
   "cell_type": "code",
   "execution_count": 28,
   "id": "d207ce42",
   "metadata": {},
   "outputs": [],
   "source": [
    "cir1 = Circle()\n",
    "rect = Rectangle()"
   ]
  },
  {
   "cell_type": "code",
   "execution_count": 29,
   "id": "436731a1",
   "metadata": {},
   "outputs": [
    {
     "data": {
      "text/plain": [
       "'Area of circle :78.5'"
      ]
     },
     "execution_count": 29,
     "metadata": {},
     "output_type": "execute_result"
    }
   ],
   "source": [
    "cir1.area(5)"
   ]
  },
  {
   "cell_type": "code",
   "execution_count": 30,
   "id": "2a60ca1a",
   "metadata": {},
   "outputs": [
    {
     "data": {
      "text/plain": [
       "'Area of Rectangle :15'"
      ]
     },
     "execution_count": 30,
     "metadata": {},
     "output_type": "execute_result"
    }
   ],
   "source": [
    "rect.area(3,5)"
   ]
  },
  {
   "cell_type": "markdown",
   "id": "aae86a93",
   "metadata": {},
   "source": [
    "## 12. Explain the use of abstract base classes (ABCs) in Python and how they relate to inheritance. Provide an example using the `abc` module."
   ]
  },
  {
   "cell_type": "code",
   "execution_count": null,
   "id": "3a16ce1a",
   "metadata": {},
   "outputs": [],
   "source": []
  },
  {
   "cell_type": "markdown",
   "id": "1ac24162",
   "metadata": {},
   "source": [
    "## 13. How can you prevent a child class from modifying certain attributes or methods inherited from a parent class in Python?"
   ]
  },
  {
   "cell_type": "code",
   "execution_count": null,
   "id": "74ba9308",
   "metadata": {},
   "outputs": [],
   "source": []
  },
  {
   "cell_type": "markdown",
   "id": "a037dd0b",
   "metadata": {},
   "source": [
    "## 14. Create a Python class called `Employee` with attributes `name` and `salary`. Then, create a child class `Manager` that inherits from `Employee` and adds an attribute `department`. Provide an example."
   ]
  },
  {
   "cell_type": "code",
   "execution_count": 32,
   "id": "2b6f980a",
   "metadata": {},
   "outputs": [],
   "source": [
    "class Employee :\n",
    "    def __init__(self, name, salary):\n",
    "        self.name = name\n",
    "        self.salary = salary\n",
    "        \n",
    "class Manager(Employee):\n",
    "    def __init__(self, name, salary, department):\n",
    "        super().__init__( name, salary)\n",
    "        self.department = department"
   ]
  },
  {
   "cell_type": "code",
   "execution_count": 34,
   "id": "08a89681",
   "metadata": {},
   "outputs": [],
   "source": [
    "noor = Manager('Noorain', 1200000 , 'IT')"
   ]
  },
  {
   "cell_type": "markdown",
   "id": "2d69004a",
   "metadata": {},
   "source": [
    "## 15. Discuss the concept of method overloading in Python inheritance. How does it differ from method overriding?"
   ]
  },
  {
   "cell_type": "code",
   "execution_count": null,
   "id": "0b64f583",
   "metadata": {},
   "outputs": [],
   "source": []
  },
  {
   "cell_type": "markdown",
   "id": "5e14c5ef",
   "metadata": {},
   "source": [
    "## 16. Explain the purpose of the `__init__()` method in Python inheritance and how it is utilized in child classes."
   ]
  },
  {
   "cell_type": "code",
   "execution_count": null,
   "id": "e552b069",
   "metadata": {},
   "outputs": [],
   "source": []
  },
  {
   "cell_type": "markdown",
   "id": "3a581e2e",
   "metadata": {},
   "source": [
    "## 17. Create a Python class called `Bird` with a method `fly()`. Then, create child classes `Eagle` and `Sparrow` that inherit from `Bird` and implement the `fly()` method differently. Provide an example of using these classes."
   ]
  },
  {
   "cell_type": "code",
   "execution_count": 44,
   "id": "37f2422e",
   "metadata": {},
   "outputs": [],
   "source": [
    "class Bird :\n",
    "    def fly(self):\n",
    "        pass\n",
    "    \n",
    "class Eagle(Bird):\n",
    "    def fly(self):\n",
    "        return 'Eagle flies fast.'\n",
    "\n",
    "class Sparrow(Bird):\n",
    "    def fly(self):\n",
    "        return 'Sparrow flies slow.'"
   ]
  },
  {
   "cell_type": "code",
   "execution_count": 45,
   "id": "65661457",
   "metadata": {},
   "outputs": [],
   "source": [
    "eag = Eagle()\n",
    "spar = Sparrow()"
   ]
  },
  {
   "cell_type": "code",
   "execution_count": 46,
   "id": "ad3c73b1",
   "metadata": {},
   "outputs": [
    {
     "data": {
      "text/plain": [
       "'Eagle flies fast.'"
      ]
     },
     "execution_count": 46,
     "metadata": {},
     "output_type": "execute_result"
    }
   ],
   "source": [
    "eag.fly()"
   ]
  },
  {
   "cell_type": "code",
   "execution_count": 47,
   "id": "172ae2c4",
   "metadata": {},
   "outputs": [
    {
     "data": {
      "text/plain": [
       "'Sparrow flies slow.'"
      ]
     },
     "execution_count": 47,
     "metadata": {},
     "output_type": "execute_result"
    }
   ],
   "source": [
    "spar.fly()"
   ]
  },
  {
   "cell_type": "markdown",
   "id": "834cf2aa",
   "metadata": {},
   "source": [
    "## 18. What is the \"diamond problem\" in multiple inheritance, and how does Python address it?"
   ]
  },
  {
   "cell_type": "code",
   "execution_count": null,
   "id": "397c5c1f",
   "metadata": {},
   "outputs": [],
   "source": []
  },
  {
   "cell_type": "markdown",
   "id": "1fa59948",
   "metadata": {},
   "source": [
    "## 19. Discuss the concept of \"is-a\" and \"has-a\" relationships in inheritance, and provide examples of each."
   ]
  },
  {
   "cell_type": "code",
   "execution_count": null,
   "id": "bb430fc6",
   "metadata": {},
   "outputs": [],
   "source": []
  },
  {
   "cell_type": "markdown",
   "id": "6b73ce4d",
   "metadata": {},
   "source": [
    "## 20. Create a Python class hierarchy for a university system. Start with a base class `Person` and create child classes `Student` and `Professor`, each with their own attributes and methods. Provide an example of using these classes in a university context."
   ]
  },
  {
   "cell_type": "code",
   "execution_count": 40,
   "id": "2384dc32",
   "metadata": {},
   "outputs": [],
   "source": [
    "class Person:\n",
    "    def __init__(self, name , age, gender):\n",
    "        self.name = name\n",
    "        self.age = age\n",
    "        self.gender = gender\n",
    "\n",
    "class Student(Person):\n",
    "    def __init__(self, name, age, gender, class_):\n",
    "        super().__init__(name, age, gender)\n",
    "        self.class_ = class_\n",
    "        \n",
    "    def study(self):\n",
    "        return f\"Hello, my name is {self.name}, i'm in {self.class_} class.\"\n",
    "        \n",
    "        \n",
    "class Professor(Person):\n",
    "    def __init__(self, name, age, gender, subject):\n",
    "        super().__init__(name, age, gender)\n",
    "        self.subject = subject\n",
    "        \n",
    "    def teach(self):\n",
    "        return f\"Hello, my name is {self.name}, i teach {self.subject}\""
   ]
  },
  {
   "cell_type": "code",
   "execution_count": 41,
   "id": "b32bff91",
   "metadata": {},
   "outputs": [],
   "source": [
    "rohan = Student('Rohan',17,'male','10th')\n",
    "sudh = Professor('Sudhanshu',40,'Male','Data Sceince')"
   ]
  },
  {
   "cell_type": "code",
   "execution_count": 42,
   "id": "207f4205",
   "metadata": {},
   "outputs": [
    {
     "data": {
      "text/plain": [
       "\"Hello, my name is Rohan, i'm in 10th class.\""
      ]
     },
     "execution_count": 42,
     "metadata": {},
     "output_type": "execute_result"
    }
   ],
   "source": [
    "rohan.study()"
   ]
  },
  {
   "cell_type": "code",
   "execution_count": 43,
   "id": "0116e340",
   "metadata": {},
   "outputs": [
    {
     "data": {
      "text/plain": [
       "'Hello, my name is Sudhanshu, i teach Data Sceince'"
      ]
     },
     "execution_count": 43,
     "metadata": {},
     "output_type": "execute_result"
    }
   ],
   "source": [
    "sudh.teach()"
   ]
  }
 ],
 "metadata": {
  "kernelspec": {
   "display_name": "Python 3 (ipykernel)",
   "language": "python",
   "name": "python3"
  },
  "language_info": {
   "codemirror_mode": {
    "name": "ipython",
    "version": 3
   },
   "file_extension": ".py",
   "mimetype": "text/x-python",
   "name": "python",
   "nbconvert_exporter": "python",
   "pygments_lexer": "ipython3",
   "version": "3.9.12"
  }
 },
 "nbformat": 4,
 "nbformat_minor": 5
}
