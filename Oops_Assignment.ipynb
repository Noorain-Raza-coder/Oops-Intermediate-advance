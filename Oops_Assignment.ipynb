{
 "cells": [
  {
   "cell_type": "markdown",
   "id": "3fb385df",
   "metadata": {},
   "source": [
    "# Oops Problems"
   ]
  },
  {
   "cell_type": "markdown",
   "id": "0b24f10a",
   "metadata": {},
   "source": [
    "## Constructor : "
   ]
  },
  {
   "cell_type": "markdown",
   "id": "118d96a0",
   "metadata": {},
   "source": [
    "### 1. What is a constructor in Python? Explain its purpose and usage."
   ]
  },
  {
   "cell_type": "markdown",
   "id": "38b94e7e",
   "metadata": {},
   "source": [
    "### Ans 1) \n",
    "\n",
    "- Constructor : A constructor in python is a special method/function that gets called when an object of a class is created. \n",
    "- Purpose and usage : The purpose of a constructor is to initialise/assign the values of class's attributes."
   ]
  },
  {
   "cell_type": "markdown",
   "id": "c007bc02",
   "metadata": {},
   "source": [
    "### 2. Differentiate between a parameterless constructor and a parameterized constructor in Python."
   ]
  },
  {
   "cell_type": "markdown",
   "id": "b616d5a2",
   "metadata": {},
   "source": [
    "### Ans 2) \n",
    "\n",
    "- Parameterless Constructor : It is a type of constructor that doesn't take any value while creating the object of the class. And variable is initialized with some fixed value.\n",
    "- Purpose and usage : It is also a type of constructor that takes any value of the parameter while creating the object of the class. And variable is initialized with that paremeter value.\n",
    "- Following are the ex- of both type of constructor:"
   ]
  },
  {
   "cell_type": "code",
   "execution_count": 1,
   "id": "ff331594",
   "metadata": {},
   "outputs": [],
   "source": [
    "# Example of parameterless constructor :\n",
    "class paramerterlessEx :\n",
    "    def __init__(self):\n",
    "        self.name = 'Noorain'\n",
    "        \n",
    "        \n",
    "# Example of parameterized constructor :\n",
    "class parameterizedEx:\n",
    "    def __init__(self, name):\n",
    "        self.name = name"
   ]
  },
  {
   "cell_type": "markdown",
   "id": "356486a6",
   "metadata": {},
   "source": [
    "### 3. How do you define a constructor in a Python class? Provide an example."
   ]
  },
  {
   "cell_type": "markdown",
   "id": "d560417d",
   "metadata": {},
   "source": [
    "### Ans 3) \n",
    "\n",
    "- Note: as python constructor is a method so it is defined in same way as python functions are defined.\n",
    "- Use a keyword `def`\n",
    "- After that write function name `__init__`\n",
    "- In pair of parentheses, pass first paramete `self`.\n",
    "- If it is parameterized, then other parameters can be passed else don't need to pass.\n",
    "- End with colon `:`"
   ]
  },
  {
   "cell_type": "code",
   "execution_count": 2,
   "id": "e6e37dc5",
   "metadata": {},
   "outputs": [],
   "source": [
    "class define_constructor:\n",
    "    def __init__(self):\n",
    "        '''Initialise values of variables..'''"
   ]
  },
  {
   "cell_type": "markdown",
   "id": "6f8eb97b",
   "metadata": {},
   "source": [
    "### 4. Explain the `__init__` method in Python and its role in constructors."
   ]
  },
  {
   "cell_type": "markdown",
   "id": "6e79dc16",
   "metadata": {},
   "source": [
    "### Ans 4) \n",
    "\n",
    "- __init__ is a special method in python that is used to initialize the values of variables of a class."
   ]
  },
  {
   "cell_type": "markdown",
   "id": "9485e160",
   "metadata": {},
   "source": [
    "### 5. In a class named `Person`, create a constructor that initializes the `name` and `age` attributes. Provide an example of creating an object of this class."
   ]
  },
  {
   "cell_type": "markdown",
   "id": "8eb9f17d",
   "metadata": {},
   "source": [
    "### Ans 5) \n",
    "\n",
    "### Steps :\n",
    "- Create a class `Person`.\n",
    "- Create variables name and age inside init method.\n",
    "- Take values of name and age while creating the object of Person class and assign the to values to variables."
   ]
  },
  {
   "cell_type": "code",
   "execution_count": 3,
   "id": "1d8165f8",
   "metadata": {},
   "outputs": [],
   "source": [
    "# creating a class person### Ans 4) \n",
    "class Person :\n",
    "    def __init__(self,name,age):\n",
    "        self.name = name\n",
    "        self.age = age"
   ]
  },
  {
   "cell_type": "code",
   "execution_count": 5,
   "id": "9a1785d9",
   "metadata": {},
   "outputs": [
    {
     "data": {
      "text/plain": [
       "('Noorain Raza', 23)"
      ]
     },
     "execution_count": 5,
     "metadata": {},
     "output_type": "execute_result"
    }
   ],
   "source": [
    "# creating an object the person class\n",
    "noorain = Person('Noorain Raza', 23)\n",
    "\n",
    "# Display the name and age\n",
    "noorain.name , noorain.age"
   ]
  },
  {
   "cell_type": "markdown",
   "id": "60d17f56",
   "metadata": {},
   "source": [
    "### 6. How can you call a constructor explicitly in Python? Give an example."
   ]
  },
  {
   "cell_type": "markdown",
   "id": "8f82dd0b",
   "metadata": {},
   "source": [
    "### Ans 6) \n",
    "\n",
    "- I can call a constructor explicitly in python by using `super()` method of inheritance.\n",
    "- Lets say there are two classes parent and a child class.\n",
    "- We are trying to inherit the properties of parent class inside child class.\n",
    "- When i create the object then i only can initialise the values of child class.\n",
    "- To initialise the values of parent class at the same time, lets call the super() method with init method explicitly.\n",
    "- Super method will initialise the values of superclass (parent class) with passed values.\n",
    "- In this way a constructor can be called explicityly in python."
   ]
  },
  {
   "cell_type": "code",
   "execution_count": 6,
   "id": "ac8d31d3",
   "metadata": {},
   "outputs": [],
   "source": [
    "class parent :\n",
    "    def __init__(self, a,b):\n",
    "        self.a = a\n",
    "        self.b = b\n",
    "        \n",
    "class child(parent) :\n",
    "    def __init__(self,a,b,x,y):\n",
    "        super().__init__(a,b)\n",
    "        self.x = x\n",
    "        self.y = y"
   ]
  },
  {
   "cell_type": "code",
   "execution_count": 7,
   "id": "0bb64824",
   "metadata": {},
   "outputs": [],
   "source": [
    "obj1 = child(1,2,3,4)"
   ]
  },
  {
   "cell_type": "code",
   "execution_count": 8,
   "id": "48969aaf",
   "metadata": {},
   "outputs": [
    {
     "data": {
      "text/plain": [
       "1"
      ]
     },
     "execution_count": 8,
     "metadata": {},
     "output_type": "execute_result"
    }
   ],
   "source": [
    "obj1.a"
   ]
  },
  {
   "cell_type": "markdown",
   "id": "4cee1f58",
   "metadata": {},
   "source": [
    "### 7. What is the significance of the `self` parameter in Python constructors? Explain with an example."
   ]
  },
  {
   "cell_type": "markdown",
   "id": "80fef54b",
   "metadata": {},
   "source": [
    "### Ans 7) \n",
    "\n",
    "- `self`: Self paremeter is a reference of current object of the class.\n",
    "- self parameter is used to access the attributes and methods of the class.\n",
    "- In below code :\n",
    "- 1) init method initialise the value of city.\n",
    "- 2) in your_city method , variable `city` is accessed by `self` paremeter.\n",
    "- When i create the object of a class then automatically the reference of that object is passed to `self` paremeter."
   ]
  },
  {
   "cell_type": "code",
   "execution_count": 9,
   "id": "d44181ce",
   "metadata": {},
   "outputs": [],
   "source": [
    "class self_parameter :\n",
    "    def __init__(self , city):\n",
    "        self.city = city\n",
    "        \n",
    "    def your_city(self):\n",
    "        return \"Your city is \" + self.city"
   ]
  },
  {
   "cell_type": "code",
   "execution_count": 10,
   "id": "4ec9bed2",
   "metadata": {},
   "outputs": [],
   "source": [
    "obj2 = self_parameter('Bareilly')"
   ]
  },
  {
   "cell_type": "code",
   "execution_count": 11,
   "id": "117e82d5",
   "metadata": {},
   "outputs": [
    {
     "data": {
      "text/plain": [
       "'Your city is Bareilly'"
      ]
     },
     "execution_count": 11,
     "metadata": {},
     "output_type": "execute_result"
    }
   ],
   "source": [
    "obj2.your_city()"
   ]
  },
  {
   "cell_type": "markdown",
   "id": "cc390836",
   "metadata": {},
   "source": [
    "### 8. Discuss the concept of default constructors in Python. When are they used?"
   ]
  },
  {
   "cell_type": "markdown",
   "id": "643c5d99",
   "metadata": {},
   "source": [
    "### Ans 8) \n",
    "\n",
    "- Default constructors : It is a type of constructors which takes no argument.\n",
    "- They are used to initialise the attribues with default values.\n",
    "- following is an ex - "
   ]
  },
  {
   "cell_type": "code",
   "execution_count": 21,
   "id": "5781e04e",
   "metadata": {},
   "outputs": [],
   "source": [
    "class default_constructor :\n",
    "    def __init__(self):\n",
    "        self.course = 'Data Science'\n",
    "        \n",
    "# Whenever the object of this class is created, the attribute 'course' is automatically initialised with 'Data Science' value."
   ]
  },
  {
   "cell_type": "markdown",
   "id": "0fa80b23",
   "metadata": {},
   "source": [
    "### 9. Create a Python class called `Rectangle` with a constructor that initializes the `width` and `height` attributes. Provide a method to calculate the area of the rectangle."
   ]
  },
  {
   "cell_type": "markdown",
   "id": "54d60b49",
   "metadata": {},
   "source": [
    "### Ans 9) \n",
    "\n",
    "### Steps:\n",
    "- Create `Rectangle` class.\n",
    "- Define `__init__` method to take the values of width and height and assign them to attributes.\n",
    "- Define `rectangle_area` method to calculate the area of rectangle for given values of height and width.\n"
   ]
  },
  {
   "cell_type": "code",
   "execution_count": 18,
   "id": "d3f65584",
   "metadata": {},
   "outputs": [],
   "source": [
    "class Rectangle :\n",
    "    def __init__(self, width , height):\n",
    "        self.width = width\n",
    "        self.height = height\n",
    "        \n",
    "    ## method to calculate the area of that rectangle\n",
    "    def rectangle_area(self):\n",
    "        return \"Area of rectangle is \" + str(self.width*self.height)"
   ]
  },
  {
   "cell_type": "code",
   "execution_count": 19,
   "id": "435f4f89",
   "metadata": {},
   "outputs": [],
   "source": [
    "# creating object for rectangle and passing values of height and width\n",
    "rec = Rectangle(3,6)"
   ]
  },
  {
   "cell_type": "code",
   "execution_count": 20,
   "id": "e3da3d1d",
   "metadata": {},
   "outputs": [
    {
     "data": {
      "text/plain": [
       "'Area of rectangle is 18'"
      ]
     },
     "execution_count": 20,
     "metadata": {},
     "output_type": "execute_result"
    }
   ],
   "source": [
    "# calling a method to calculate the area of the rectangle\n",
    "rec.rectangle_area()"
   ]
  },
  {
   "cell_type": "markdown",
   "id": "ba0162c2",
   "metadata": {},
   "source": [
    "### 10. How can you have multiple constructors in a Python class? Explain with an example."
   ]
  },
  {
   "cell_type": "markdown",
   "id": "60b69be2",
   "metadata": {},
   "source": [
    "### Ans 10) \n",
    "\n",
    "- It is not possible to have multiple constructors in a python class.\n",
    "- If we try to define multiple constructors then only latest one will be considered. Because latest constructor overwrites previous constructors.\n",
    "- In below class i have defined three constructors. But when i created object for this class only last constructor was called that takes three parameters name, age and height."
   ]
  },
  {
   "cell_type": "code",
   "execution_count": 1,
   "id": "a88fb582",
   "metadata": {},
   "outputs": [],
   "source": [
    "class multConstructors :\n",
    "    def __init__(self, name):\n",
    "        self.name = name \n",
    "    def __init__(self,name, age):\n",
    "        self.name = name\n",
    "        self.age = age \n",
    "    def __init__(self,name, age ,height):\n",
    "        self.name = name\n",
    "        self.age = age\n",
    "        aelf.height = height \n",
    "    \n",
    "    "
   ]
  },
  {
   "cell_type": "code",
   "execution_count": 2,
   "id": "628bcc43",
   "metadata": {},
   "outputs": [
    {
     "ename": "TypeError",
     "evalue": "__init__() missing 3 required positional arguments: 'name', 'age', and 'height'",
     "output_type": "error",
     "traceback": [
      "\u001b[1;31m---------------------------------------------------------------------------\u001b[0m",
      "\u001b[1;31mTypeError\u001b[0m                                 Traceback (most recent call last)",
      "Input \u001b[1;32mIn [2]\u001b[0m, in \u001b[0;36m<cell line: 1>\u001b[1;34m()\u001b[0m\n\u001b[1;32m----> 1\u001b[0m in1 \u001b[38;5;241m=\u001b[39m \u001b[43mmultConstructors\u001b[49m\u001b[43m(\u001b[49m\u001b[43m)\u001b[49m\n",
      "\u001b[1;31mTypeError\u001b[0m: __init__() missing 3 required positional arguments: 'name', 'age', and 'height'"
     ]
    }
   ],
   "source": [
    "in1 = multConstructors()\n"
   ]
  },
  {
   "cell_type": "markdown",
   "id": "f72f4932",
   "metadata": {},
   "source": [
    "- But we can initialise above ex- parameters in following given way by using `*args`.\n",
    "- Using `*agrs` keyword we can take any number of parameters.\n",
    "- Instead of defining multiple constructors to initialise different variables, we can write conditional statement for parameters and then we can initialise the variables.\n",
    "- Following is an ex- \n",
    "- 1) When only one argument is passed consider it as name.\n",
    "- 2) When 2 arguments are passed, consider first as name and second as age.\n",
    "- 2) When 3 arguments are passed, consider first as name and second as age and third as height."
   ]
  },
  {
   "cell_type": "code",
   "execution_count": 10,
   "id": "1300ecc3",
   "metadata": {},
   "outputs": [],
   "source": [
    "class multconstructors :\n",
    "    def __init__(self, *args):\n",
    "        if len(args) == 1:\n",
    "            self.name = args[0]\n",
    "            \n",
    "        elif len(args) == 2:\n",
    "            self.name = args[0]\n",
    "            self.age = args[1]\n",
    "            \n",
    "        elif len(args) == 3:\n",
    "            self.name = args[0]\n",
    "            self.age = args[1]\n",
    "            self.height = args[2]"
   ]
  },
  {
   "cell_type": "code",
   "execution_count": 11,
   "id": "fc5def1b",
   "metadata": {},
   "outputs": [],
   "source": [
    "obj1 = multconstructors('NOOR')\n",
    "obj2 = multconstructors('NOOR',23)\n",
    "obj3 = multconstructors('NOOR',23,5.5)\n",
    "\n"
   ]
  },
  {
   "cell_type": "markdown",
   "id": "2fb89533",
   "metadata": {},
   "source": [
    "### 11. What is method overloading, and how is it related to constructors in Python?"
   ]
  },
  {
   "cell_type": "markdown",
   "id": "afaf9e4c",
   "metadata": {},
   "source": [
    "### Ans 11) \n",
    "\n",
    "- When there are two or more than two methods with same name then it is called method overloading.\n",
    "- In this case latest defined method is called.\n",
    "- For ex- if we defined two __init__ method inside a class with different paremeters then only the last __init__ method will be called. \n",
    "- As python doesn't support method overloading."
   ]
  },
  {
   "cell_type": "markdown",
   "id": "91459f4e",
   "metadata": {},
   "source": [
    "### 12. Explain the use of the `super()` function in Python constructors. Provide an example."
   ]
  },
  {
   "cell_type": "markdown",
   "id": "4e62412c",
   "metadata": {},
   "source": [
    "### Ans 12) \n",
    "\n",
    "- `super()` is a method in inheritance which is used to access and use the properties of `super class` (parent class) in child class.\n",
    "- In python constructors `super()` function can be used to initialise the variables of super class.\n",
    "- In below ex- \n",
    "- 1) There are two classes parent and child class.\n",
    "- 2) child class initialise two parameters name and age.\n",
    "- 3) Then by using super function i initialised name of parent class."
   ]
  },
  {
   "cell_type": "code",
   "execution_count": 12,
   "id": "78d25041",
   "metadata": {},
   "outputs": [],
   "source": [
    "class parent:\n",
    "    def __init__(self,name):\n",
    "        self.name = name\n",
    "        \n",
    "class child(parent):\n",
    "    def __init__(self,name, age):\n",
    "        super().__init__(name)"
   ]
  },
  {
   "cell_type": "code",
   "execution_count": 14,
   "id": "41729040",
   "metadata": {},
   "outputs": [],
   "source": [
    "myname = child('noorain',23)"
   ]
  },
  {
   "cell_type": "markdown",
   "id": "d6bbc588",
   "metadata": {},
   "source": [
    "### 13. Create a class called `Book` with a constructor that initializes the `title`, `author`, and `published_year` ### attributes. Provide a method to display book details."
   ]
  },
  {
   "cell_type": "markdown",
   "id": "45ff84f9",
   "metadata": {},
   "source": [
    "### Ans 13) "
   ]
  },
  {
   "cell_type": "code",
   "execution_count": 33,
   "id": "d068f30b",
   "metadata": {},
   "outputs": [],
   "source": [
    "class Book :\n",
    "    def __init__(self, title, author,published_year):\n",
    "        self.title = title\n",
    "        self.author = author\n",
    "        self.published_year = published_year\n",
    "\n",
    "\n",
    "    def display_book_details(self):\n",
    "        print(\"Following are the book details : \")\n",
    "        print(f\"Book Title : {self.title}\\nBook Author : {self.author}\\nPunlished Year : {self.published_year}\")"
   ]
  },
  {
   "cell_type": "code",
   "execution_count": 35,
   "id": "a565a2fa",
   "metadata": {},
   "outputs": [],
   "source": [
    "b1 = Book('Kyu Batay', 'Me',2024)"
   ]
  },
  {
   "cell_type": "code",
   "execution_count": 36,
   "id": "d15c2a4d",
   "metadata": {},
   "outputs": [
    {
     "name": "stdout",
     "output_type": "stream",
     "text": [
      "Following are the book details : \n",
      "Book Title : Kyu Batay\n",
      "Book Author : Me\n",
      "Punlished Year : 2024\n"
     ]
    }
   ],
   "source": [
    "b1.display_book_details()"
   ]
  },
  {
   "cell_type": "markdown",
   "id": "7062f4d4",
   "metadata": {},
   "source": [
    "### 14. Discuss the differences between constructors and regular methods in Python classes."
   ]
  },
  {
   "cell_type": "markdown",
   "id": "6515a56f",
   "metadata": {},
   "source": [
    "### Ans 14) \n",
    "\n",
    "- Constructors : constructors are special methods in python.\n",
    "- 1) They are used to initialse the attributes of a class.\n",
    "- 2) They are called automatically when an object of the class is created.\n",
    "- 3) They return none.\n",
    "- Regular methods : the methods which are defined to perform specific task.\n",
    "- 1) These methods are not automatically called, we have to call them when needed.\n",
    "- 2) They can return none or specific value."
   ]
  },
  {
   "cell_type": "markdown",
   "id": "b67c64fe",
   "metadata": {},
   "source": [
    "### 15. Explain the role of the `self` parameter in instance variable initialization within a constructor."
   ]
  },
  {
   "cell_type": "markdown",
   "id": "611d9bfd",
   "metadata": {},
   "source": [
    "### Ans 15) \n",
    "\n",
    "- Below is an ex- of `self` parameter that initialize the variable within constructor.\n",
    "- When i create an object for the class `self_parameter`\n",
    "- Then `__init__` function automatically get called, which takes two paremeters : `self`(object) and day.\n",
    "- Then inside the init function a variable `today` is initiazed with value of parameter `day` with the help of `self` parameter."
   ]
  },
  {
   "cell_type": "code",
   "execution_count": 15,
   "id": "bf69003f",
   "metadata": {},
   "outputs": [],
   "source": [
    "class self_parameter :\n",
    "    def __init__(self, day):\n",
    "        self.today = day"
   ]
  },
  {
   "cell_type": "code",
   "execution_count": 16,
   "id": "568d316a",
   "metadata": {},
   "outputs": [],
   "source": [
    "ob1 = self_parameter('sunday')"
   ]
  },
  {
   "cell_type": "markdown",
   "id": "0049dbec",
   "metadata": {},
   "source": [
    "### 16. How do you prevent a class from having multiple instances by using constructors in Python? Provide an example."
   ]
  },
  {
   "cell_type": "markdown",
   "id": "627cfa6d",
   "metadata": {},
   "source": [
    "### 17. Create a Python class called `Student` with a constructor that takes a list of subjects as a parameter and initializes the `subjects` attribute."
   ]
  },
  {
   "cell_type": "markdown",
   "id": "74521aeb",
   "metadata": {},
   "source": [
    "### Ans 17) "
   ]
  },
  {
   "cell_type": "code",
   "execution_count": 37,
   "id": "762e5721",
   "metadata": {},
   "outputs": [],
   "source": [
    "class Student :\n",
    "    def __init__(self,subject_list):\n",
    "        self.subjects = subject_list"
   ]
  },
  {
   "cell_type": "code",
   "execution_count": 39,
   "id": "f978bf6b",
   "metadata": {},
   "outputs": [],
   "source": [
    "noorain = Student(['Data Science','ML','DL','NLP'])"
   ]
  },
  {
   "cell_type": "code",
   "execution_count": 40,
   "id": "e1bff773",
   "metadata": {},
   "outputs": [
    {
     "data": {
      "text/plain": [
       "['Data Science', 'ML', 'DL', 'NLP']"
      ]
     },
     "execution_count": 40,
     "metadata": {},
     "output_type": "execute_result"
    }
   ],
   "source": [
    "noorain.subjects"
   ]
  },
  {
   "cell_type": "markdown",
   "id": "341a5ea1",
   "metadata": {},
   "source": [
    "### 18. What is the purpose of the `__del__` method in Python classes, and how does it relate to constructors?"
   ]
  },
  {
   "cell_type": "markdown",
   "id": "2db65603",
   "metadata": {},
   "source": [
    "### Ans 18) \n",
    "\n",
    "1) Purpose :\n",
    "- `__del__` is a special method in python which is used to destroy an object.\n",
    "- closing a file, releasing resources, freeing up memory are done by `__del__` method.\n",
    "- `__del__` is called as destrcutors. Both constructors and destuctors are called automatically.\n",
    "- Constructor is called when an object is created while destructor is called when is object is deleted."
   ]
  },
  {
   "cell_type": "markdown",
   "id": "616b2ca7",
   "metadata": {},
   "source": [
    "### 19. Explain the use of constructor chaining in Python. Provide a practical example."
   ]
  },
  {
   "cell_type": "markdown",
   "id": "4ee7ed7f",
   "metadata": {},
   "source": [
    "### Ans 19) \n",
    "\n",
    "- Constructor chaining : It a process of calling one constructor from another constructor.\n",
    "- It is very usefull when we want to call multiple constructors, one after another, by initializing only one object. \n",
    "- following is an ex- of constructor chaining :\n",
    "- 1) child is child class that takes the values of all class's parameters then by using super() method it creates chain to pass the value parent class then pass the values of grand parent class."
   ]
  },
  {
   "cell_type": "code",
   "execution_count": 17,
   "id": "3e20a1c6",
   "metadata": {},
   "outputs": [],
   "source": [
    "class grandParent :\n",
    "    def __init__(self, dada_ka_naam):\n",
    "        self.dada_ka_naam = dada_ka_naam\n",
    "        \n",
    "class parent(grandParent) :\n",
    "    def __init__(self, dada_ka_naam ,papa_ka_naam):\n",
    "        super().__init__(dada_ka_naam)\n",
    "        self.papa_ka_naam = papa_ka_naam\n",
    "        \n",
    "class child(parent):\n",
    "    def __init__(self, dada_ka_naam, papa_ka_naam, mera_naam):\n",
    "        super().__init__(dada_ka_naam, papa_ka_naam)\n",
    "        self.mera_naam = mera_naam"
   ]
  },
  {
   "cell_type": "code",
   "execution_count": 18,
   "id": "16e35c65",
   "metadata": {},
   "outputs": [],
   "source": [
    "me = child(\"lalu prasad\",\"Kalu Prasad\",\"Golu Prasad\")"
   ]
  },
  {
   "cell_type": "markdown",
   "id": "43d334cb",
   "metadata": {},
   "source": [
    "### 20. Create a Python class called `Car` with a default constructor that initializes the `make` and `model` attributes. Provide a method to display car information."
   ]
  },
  {
   "cell_type": "markdown",
   "id": "6ebe5503",
   "metadata": {},
   "source": [
    "### Ans 20)"
   ]
  },
  {
   "cell_type": "code",
   "execution_count": 42,
   "id": "292010ba",
   "metadata": {},
   "outputs": [],
   "source": [
    "class Car :\n",
    "    def __init__(self):\n",
    "        self.make = 'Maruti Suzuki'\n",
    "        self.model = 'Pata nahi'\n",
    "        \n",
    "    def car_details(self):\n",
    "        print(\"Following are the car details : \")\n",
    "        print(f\"Company name : {self.make}\\nModel Name : {self.model}\")"
   ]
  },
  {
   "cell_type": "code",
   "execution_count": 43,
   "id": "be909f5f",
   "metadata": {},
   "outputs": [],
   "source": [
    "myCar = Car()"
   ]
  },
  {
   "cell_type": "code",
   "execution_count": 44,
   "id": "7e93f67a",
   "metadata": {},
   "outputs": [
    {
     "name": "stdout",
     "output_type": "stream",
     "text": [
      "Following are the car details : \n",
      "Company name : Maruti Suzuki\n",
      "Model Name : Pata nahi\n"
     ]
    }
   ],
   "source": [
    "myCar.car_details()"
   ]
  }
 ],
 "metadata": {
  "kernelspec": {
   "display_name": "Python 3 (ipykernel)",
   "language": "python",
   "name": "python3"
  },
  "language_info": {
   "codemirror_mode": {
    "name": "ipython",
    "version": 3
   },
   "file_extension": ".py",
   "mimetype": "text/x-python",
   "name": "python",
   "nbconvert_exporter": "python",
   "pygments_lexer": "ipython3",
   "version": "3.9.12"
  }
 },
 "nbformat": 4,
 "nbformat_minor": 5
}
